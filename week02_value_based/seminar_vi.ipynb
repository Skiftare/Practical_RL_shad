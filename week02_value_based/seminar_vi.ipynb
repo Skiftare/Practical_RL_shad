{
 "cells": [
  {
   "cell_type": "markdown",
   "metadata": {},
   "source": [
    "### Markov decision process\n",
    "\n",
    "This week's methods are all built to solve __M__arkov __D__ecision __P__rocesses. In the broadest sense, an MDP is defined by how it changes states and how rewards are computed.\n",
    "\n",
    "State transition is defined by $P(s' |s,a)$ - how likely are you to end at state $s'$ if you take action $a$ from state $s$. Now there's more than one way to define rewards, but we'll use $r(s,a,s')$ function for convenience.\n",
    "\n",
    "_This notebook is inspired by the awesome_ [CS294](https://github.com/berkeleydeeprlcourse/homework/blob/36a0b58261acde756abd55306fbe63df226bf62b/hw2/HW2.ipynb) _by Berkeley_"
   ]
  },
  {
   "cell_type": "markdown",
   "metadata": {},
   "source": [
    "For starters, let's define a simple MDP from this picture:\n",
    "\n",
    "<img src=\"https://upload.wikimedia.org/wikipedia/commons/a/ad/Markov_Decision_Process.svg\" width=\"400px\" alt=\"Diagram by Waldoalvarez via Wikimedia Commons, CC BY-SA 4.0\"/>"
   ]
  },
  {
   "cell_type": "code",
   "metadata": {
    "ExecuteTime": {
     "end_time": "2025-08-22T10:10:08.541891Z",
     "start_time": "2025-08-22T10:10:07.323084Z"
    }
   },
   "source": [
    "import sys, os\n",
    "if 'google.colab' in sys.modules and not os.path.exists('.setup_complete'):\n",
    "    !wget -q https://raw.githubusercontent.com/yandexdataschool/Practical_RL/master/setup_colab.sh -O- | bash\n",
    "    !wget -q https://raw.githubusercontent.com/yandexdataschool/Practical_RL/master/week02_value_based/mdp.py\n",
    "    !touch .setup_complete\n",
    "\n",
    "# This code creates a virtual display to draw game images on.\n",
    "# It will have no effect if your machine has a monitor.\n",
    "if type(os.environ.get(\"DISPLAY\")) is not str or len(os.environ.get(\"DISPLAY\")) == 0:\n",
    "    !bash ../xvfb start\n",
    "    os.environ['DISPLAY'] = ':1'"
   ],
   "outputs": [
    {
     "name": "stderr",
     "output_type": "stream",
     "text": [
      "w\u0000s\u0000l\u0000:\u0000 \u0000\u001A\u0004>\u0004=\u0004D\u00048\u00043\u0004C\u0004@\u00040\u0004F\u00048\u0004O\u0004 \u0000?\u0004@\u0004>\u0004:\u0004A\u00048\u0004-\u0000A\u00045\u0004@\u00042\u00045\u0004@\u00040\u0004 \u0000l\u0000o\u0000c\u0000a\u0000l\u0000h\u0000o\u0000s\u0000t\u0000 \u0000>\u00041\u0004=\u00040\u0004@\u0004C\u00046\u00045\u0004=\u00040\u0004,\u0000 \u0000=\u0004>\u0004 \u0000=\u00045\u0004 \u0000>\u0004B\u0004@\u00040\u00046\u00045\u0004=\u00040\u0004 \u00002\u0004 \u0000W\u0000S\u0000L\u0000.\u0000 \u0000W\u0000S\u0000L\u0000 \u00002\u0004 \u0000@\u00045\u00046\u00048\u0004<\u00045\u0004 \u0000N\u0000A\u0000T\u0000 \u0000=\u00045\u0004 \u0000?\u0004>\u00044\u00044\u00045\u0004@\u00046\u00048\u00042\u00040\u00045\u0004B\u0004 \u0000?\u0004@\u0004>\u0004:\u0004A\u00048\u0004-\u0000A\u00045\u0004@\u00042\u00045\u0004@\u0004K\u0004 \u0000l\u0000o\u0000c\u0000a\u0000l\u0000h\u0000o\u0000s\u0000t\u0000.\u0000\n",
      "\u0000\n",
      "\u0000<3>WSL (12 - Relay) ERROR: CreateProcessCommon:735: execvpe(/bin/bash) failed: No such file or directory\n"
     ]
    }
   ],
   "execution_count": 1
  },
  {
   "cell_type": "code",
   "metadata": {
    "ExecuteTime": {
     "end_time": "2025-08-22T10:10:08.744111Z",
     "start_time": "2025-08-22T10:10:08.547530Z"
    }
   },
   "source": [
    "transition_probs = {\n",
    "    's0': {\n",
    "        'a0': {'s0': 0.5, 's2': 0.5},\n",
    "        'a1': {'s2': 1}\n",
    "    },\n",
    "    's1': {\n",
    "        'a0': {'s0': 0.7, 's1': 0.1, 's2': 0.2},\n",
    "        'a1': {'s1': 0.95, 's2': 0.05}\n",
    "    },\n",
    "    's2': {\n",
    "        'a0': {'s0': 0.4, 's2': 0.6},\n",
    "        'a1': {'s0': 0.3, 's1': 0.3, 's2': 0.4}\n",
    "    }\n",
    "}\n",
    "rewards = {\n",
    "    's1': {'a0': {'s0': +5}},\n",
    "    's2': {'a1': {'s0': -1}}\n",
    "}\n",
    "\n",
    "from mdp import MDP\n",
    "mdp = MDP(transition_probs, rewards, initial_state='s0')"
   ],
   "outputs": [
    {
     "name": "stderr",
     "output_type": "stream",
     "text": [
      "Gym has been unmaintained since 2022 and does not support NumPy 2.0 amongst other critical functionality.\n",
      "Please upgrade to Gymnasium, the maintained drop-in replacement of Gym, or contact the authors of your software and request that they upgrade.\n",
      "Users of this version of Gym should be able to simply replace 'import gym' with 'import gymnasium as gym' in the vast majority of cases.\n",
      "See the migration guide at https://gymnasium.farama.org/introduction/migration_guide/ for additional information.\n"
     ]
    }
   ],
   "execution_count": 2
  },
  {
   "cell_type": "markdown",
   "metadata": {},
   "source": [
    "We can now use MDP just as any other gym environment:"
   ]
  },
  {
   "cell_type": "code",
   "metadata": {
    "ExecuteTime": {
     "end_time": "2025-08-22T10:10:08.757615Z",
     "start_time": "2025-08-22T10:10:08.754432Z"
    }
   },
   "source": [
    "print('initial state =', mdp.reset())\n",
    "next_state, reward, done, info = mdp.step('a1')\n",
    "print('next_state = %s, reward = %s, done = %s' % (next_state, reward, done))"
   ],
   "outputs": [
    {
     "name": "stdout",
     "output_type": "stream",
     "text": [
      "initial state = s0\n",
      "next_state = s2, reward = 0.0, done = False\n"
     ]
    }
   ],
   "execution_count": 3
  },
  {
   "cell_type": "markdown",
   "metadata": {},
   "source": [
    "but it also has other methods that you'll need for Value Iteration"
   ]
  },
  {
   "cell_type": "code",
   "metadata": {
    "ExecuteTime": {
     "end_time": "2025-08-22T10:10:08.768590Z",
     "start_time": "2025-08-22T10:10:08.765593Z"
    }
   },
   "source": [
    "print(\"mdp.get_all_states =\", mdp.get_all_states())\n",
    "print(\"mdp.get_possible_actions('s1') = \", mdp.get_possible_actions('s1'))\n",
    "print(\"mdp.get_next_states('s1', 'a0') = \", mdp.get_next_states('s1', 'a0'))\n",
    "print(\"mdp.get_reward('s1', 'a0', 's0') = \", mdp.get_reward('s1', 'a0', 's0'))\n",
    "print(\"mdp.get_transition_prob('s1', 'a0', 's0') = \", mdp.get_transition_prob('s1', 'a0', 's0'))"
   ],
   "outputs": [
    {
     "name": "stdout",
     "output_type": "stream",
     "text": [
      "mdp.get_all_states = ('s0', 's1', 's2')\n",
      "mdp.get_possible_actions('s1') =  ('a0', 'a1')\n",
      "mdp.get_next_states('s1', 'a0') =  {'s0': 0.7, 's1': 0.1, 's2': 0.2}\n",
      "mdp.get_reward('s1', 'a0', 's0') =  5\n",
      "mdp.get_transition_prob('s1', 'a0', 's0') =  0.7\n"
     ]
    }
   ],
   "execution_count": 4
  },
  {
   "cell_type": "markdown",
   "metadata": {},
   "source": [
    "### Optional: Visualizing MDPs\n",
    "\n",
    "You can also visualize any MDP with the drawing fuction donated by [neer201](https://github.com/neer201).\n",
    "\n",
    "You have to install graphviz for system and for python. \n",
    "\n",
    "1. * For ubuntu just run: `sudo apt-get install graphviz` \n",
    "   * For OSX: `brew install graphviz`\n",
    "2. `pip install graphviz`\n",
    "3. restart the notebook\n",
    "\n",
    "__Note:__ Installing graphviz on some OS (esp. Windows) may be tricky. However, you can ignore this part alltogether and use the standart vizualization."
   ]
  },
  {
   "cell_type": "code",
   "metadata": {
    "ExecuteTime": {
     "end_time": "2025-08-22T10:10:08.789981Z",
     "start_time": "2025-08-22T10:10:08.787330Z"
    }
   },
   "source": [
    "from mdp import has_graphviz\n",
    "from IPython.display import display\n",
    "print(\"Graphviz available:\", has_graphviz)"
   ],
   "outputs": [
    {
     "name": "stdout",
     "output_type": "stream",
     "text": [
      "Graphviz available: True\n"
     ]
    }
   ],
   "execution_count": 5
  },
  {
   "cell_type": "code",
   "metadata": {
    "ExecuteTime": {
     "end_time": "2025-08-22T10:10:08.865775Z",
     "start_time": "2025-08-22T10:10:08.808965Z"
    }
   },
   "source": [
    "if has_graphviz:\n",
    "    from mdp import plot_graph, plot_graph_with_state_values, plot_graph_optimal_strategy_and_state_values\n",
    "    display(plot_graph(mdp))"
   ],
   "outputs": [
    {
     "data": {
      "image/svg+xml": "<?xml version=\"1.0\" encoding=\"UTF-8\" standalone=\"no\"?>\n<!DOCTYPE svg PUBLIC \"-//W3C//DTD SVG 1.1//EN\"\n \"http://www.w3.org/Graphics/SVG/1.1/DTD/svg11.dtd\">\n<!-- Generated by graphviz version 13.1.2 (20250808.2320)\n -->\n<!-- Title: MDP Pages: 1 -->\n<svg width=\"1023pt\" height=\"272pt\"\n viewBox=\"0.00 0.00 1023.00 272.00\" xmlns=\"http://www.w3.org/2000/svg\" xmlns:xlink=\"http://www.w3.org/1999/xlink\">\n<g id=\"graph0\" class=\"graph\" transform=\"scale(1 1) rotate(0) translate(4 268.31)\">\n<title>MDP</title>\n<polygon fill=\"white\" stroke=\"none\" points=\"-4,4 -4,-268.31 1018.59,-268.31 1018.59,4 -4,4\"/>\n<!-- s0 -->\n<g id=\"node1\" class=\"node\">\n<title>s0</title>\n<ellipse fill=\"#85ff75\" stroke=\"#85ff75\" cx=\"40\" cy=\"-117\" rx=\"36\" ry=\"36\"/>\n<ellipse fill=\"none\" stroke=\"#85ff75\" cx=\"40\" cy=\"-117\" rx=\"40\" ry=\"40\"/>\n<text xml:space=\"preserve\" text-anchor=\"middle\" x=\"40\" y=\"-107.7\" font-family=\"Arial\" font-size=\"24.00\">s0</text>\n</g>\n<!-- s0&#45;a0 -->\n<g id=\"node2\" class=\"node\">\n<title>s0&#45;a0</title>\n<ellipse fill=\"lightpink\" stroke=\"lightpink\" cx=\"192.72\" cy=\"-160\" rx=\"27.22\" ry=\"27.22\"/>\n<text xml:space=\"preserve\" text-anchor=\"middle\" x=\"192.72\" y=\"-152.62\" font-family=\"Arial\" font-size=\"20.00\">a0</text>\n</g>\n<!-- s0&#45;&gt;s0&#45;a0 -->\n<g id=\"edge1\" class=\"edge\">\n<title>s0&#45;&gt;s0&#45;a0</title>\n<path fill=\"none\" stroke=\"red\" stroke-width=\"2\" d=\"M79.21,-125.72C99.61,-130.62 125.07,-137.12 147.5,-144 150.4,-144.89 153.39,-145.86 156.38,-146.86\"/>\n<polygon fill=\"red\" stroke=\"red\" stroke-width=\"2\" points=\"153.62,-149.61 164.22,-149.6 155.93,-143 153.62,-149.61\"/>\n</g>\n<!-- s0&#45;a1 -->\n<g id=\"node4\" class=\"node\">\n<title>s0&#45;a1</title>\n<ellipse fill=\"lightpink\" stroke=\"lightpink\" cx=\"192.72\" cy=\"-232\" rx=\"27.22\" ry=\"27.22\"/>\n<text xml:space=\"preserve\" text-anchor=\"middle\" x=\"192.72\" y=\"-224.62\" font-family=\"Arial\" font-size=\"20.00\">a1</text>\n</g>\n<!-- s0&#45;&gt;s0&#45;a1 -->\n<g id=\"edge4\" class=\"edge\">\n<title>s0&#45;&gt;s0&#45;a1</title>\n<path fill=\"none\" stroke=\"red\" stroke-width=\"2\" d=\"M67.23,-146.48C76.49,-156.11 87.27,-166.49 98,-175 116.68,-189.8 139.49,-203.75 157.93,-214.15\"/>\n<polygon fill=\"red\" stroke=\"red\" stroke-width=\"2\" points=\"154.85,-216.45 165.3,-218.22 158.24,-210.32 154.85,-216.45\"/>\n</g>\n<!-- s0&#45;a0&#45;&gt;s0 -->\n<g id=\"edge2\" class=\"edge\">\n<title>s0&#45;a0&#45;&gt;s0</title>\n<path fill=\"none\" stroke=\"blue\" stroke-dasharray=\"5,2\" d=\"M165.52,-156.12C146.53,-152.96 120.37,-147.9 98,-141 94.51,-139.92 90.94,-138.71 87.38,-137.41\"/>\n<polygon fill=\"blue\" stroke=\"blue\" points=\"88.79,-134.2 78.2,-133.88 86.27,-140.74 88.79,-134.2\"/>\n<text xml:space=\"preserve\" text-anchor=\"middle\" x=\"122.75\" y=\"-156.19\" font-family=\"Arial\" font-size=\"16.00\">p = 0.5</text>\n</g>\n<!-- s2 -->\n<g id=\"node3\" class=\"node\">\n<title>s2</title>\n<ellipse fill=\"#85ff75\" stroke=\"#85ff75\" cx=\"430.95\" cy=\"-185\" rx=\"36\" ry=\"36\"/>\n<ellipse fill=\"none\" stroke=\"#85ff75\" cx=\"430.95\" cy=\"-185\" rx=\"40\" ry=\"40\"/>\n<text xml:space=\"preserve\" text-anchor=\"middle\" x=\"430.95\" y=\"-175.7\" font-family=\"Arial\" font-size=\"24.00\">s2</text>\n</g>\n<!-- s0&#45;a0&#45;&gt;s2 -->\n<g id=\"edge3\" class=\"edge\">\n<title>s0&#45;a0&#45;&gt;s2</title>\n<path fill=\"none\" stroke=\"blue\" stroke-dasharray=\"5,2\" d=\"M219.91,-162.77C258.27,-166.83 330.51,-174.48 379.43,-179.65\"/>\n<polygon fill=\"blue\" stroke=\"blue\" points=\"378.9,-183.12 389.21,-180.69 379.63,-176.16 378.9,-183.12\"/>\n<text xml:space=\"preserve\" text-anchor=\"middle\" x=\"305.45\" y=\"-182.51\" font-family=\"Arial\" font-size=\"16.00\">p = 0.5</text>\n</g>\n<!-- s2&#45;a0 -->\n<g id=\"node8\" class=\"node\">\n<title>s2&#45;a0</title>\n<ellipse fill=\"lightpink\" stroke=\"lightpink\" cx=\"663.92\" cy=\"-163\" rx=\"27.22\" ry=\"27.22\"/>\n<text xml:space=\"preserve\" text-anchor=\"middle\" x=\"663.92\" y=\"-155.62\" font-family=\"Arial\" font-size=\"20.00\">a0</text>\n</g>\n<!-- s2&#45;&gt;s2&#45;a0 -->\n<g id=\"edge13\" class=\"edge\">\n<title>s2&#45;&gt;s2&#45;a0</title>\n<path fill=\"none\" stroke=\"red\" stroke-width=\"2\" d=\"M471.11,-189.21C509.26,-192.23 568.68,-194.07 618.7,-183 622.12,-182.24 625.61,-181.2 629.04,-179.99\"/>\n<polygon fill=\"red\" stroke=\"red\" stroke-width=\"2\" points=\"628.92,-183.81 636.87,-176.81 626.29,-177.33 628.92,-183.81\"/>\n</g>\n<!-- s2&#45;a1 -->\n<g id=\"node9\" class=\"node\">\n<title>s2&#45;a1</title>\n<ellipse fill=\"lightpink\" stroke=\"lightpink\" cx=\"663.92\" cy=\"-81\" rx=\"27.22\" ry=\"27.22\"/>\n<text xml:space=\"preserve\" text-anchor=\"middle\" x=\"663.92\" y=\"-73.62\" font-family=\"Arial\" font-size=\"20.00\">a1</text>\n</g>\n<!-- s2&#45;&gt;s2&#45;a1 -->\n<g id=\"edge16\" class=\"edge\">\n<title>s2&#45;&gt;s2&#45;a1</title>\n<path fill=\"none\" stroke=\"red\" stroke-width=\"2\" d=\"M464.85,-163.47C472.61,-158.76 480.95,-154 488.95,-150 535.09,-126.9 590.94,-105.91 626.69,-93.3\"/>\n<polygon fill=\"red\" stroke=\"red\" stroke-width=\"2\" points=\"626.41,-97.1 634.69,-90.5 624.1,-90.49 626.41,-97.1\"/>\n</g>\n<!-- s0&#45;a1&#45;&gt;s2 -->\n<g id=\"edge5\" class=\"edge\">\n<title>s0&#45;a1&#45;&gt;s2</title>\n<path fill=\"none\" stroke=\"blue\" stroke-dasharray=\"5,2\" d=\"M220.04,-228.64C255.16,-223.91 319.16,-214.47 372.95,-202 375.72,-201.36 378.56,-200.66 381.41,-199.92\"/>\n<polygon fill=\"blue\" stroke=\"blue\" points=\"382.23,-203.32 390.95,-197.31 380.38,-196.57 382.23,-203.32\"/>\n<text xml:space=\"preserve\" text-anchor=\"middle\" x=\"305.45\" y=\"-229.17\" font-family=\"Arial\" font-size=\"16.00\">p = 1</text>\n</g>\n<!-- s1 -->\n<g id=\"node5\" class=\"node\">\n<title>s1</title>\n<ellipse fill=\"#85ff75\" stroke=\"#85ff75\" cx=\"825.64\" cy=\"-117\" rx=\"36\" ry=\"36\"/>\n<ellipse fill=\"none\" stroke=\"#85ff75\" cx=\"825.64\" cy=\"-117\" rx=\"40\" ry=\"40\"/>\n<text xml:space=\"preserve\" text-anchor=\"middle\" x=\"825.64\" y=\"-107.7\" font-family=\"Arial\" font-size=\"24.00\">s1</text>\n</g>\n<!-- s1&#45;a0 -->\n<g id=\"node6\" class=\"node\">\n<title>s1&#45;a0</title>\n<ellipse fill=\"lightpink\" stroke=\"lightpink\" cx=\"987.37\" cy=\"-93\" rx=\"27.22\" ry=\"27.22\"/>\n<text xml:space=\"preserve\" text-anchor=\"middle\" x=\"987.37\" y=\"-85.62\" font-family=\"Arial\" font-size=\"20.00\">a0</text>\n</g>\n<!-- s1&#45;&gt;s1&#45;a0 -->\n<g id=\"edge6\" class=\"edge\">\n<title>s1&#45;&gt;s1&#45;a0</title>\n<path fill=\"none\" stroke=\"red\" stroke-width=\"2\" d=\"M865.82,-113.25C888.25,-110.86 916.87,-107.38 942.14,-103 944.6,-102.57 947.13,-102.1 949.67,-101.6\"/>\n<polygon fill=\"red\" stroke=\"red\" stroke-width=\"2\" points=\"948.71,-105.38 957.77,-99.89 947.26,-98.53 948.71,-105.38\"/>\n</g>\n<!-- s1&#45;a1 -->\n<g id=\"node7\" class=\"node\">\n<title>s1&#45;a1</title>\n<ellipse fill=\"lightpink\" stroke=\"lightpink\" cx=\"987.37\" cy=\"-175\" rx=\"27.22\" ry=\"27.22\"/>\n<text xml:space=\"preserve\" text-anchor=\"middle\" x=\"987.37\" y=\"-167.62\" font-family=\"Arial\" font-size=\"20.00\">a1</text>\n</g>\n<!-- s1&#45;&gt;s1&#45;a1 -->\n<g id=\"edge10\" class=\"edge\">\n<title>s1&#45;&gt;s1&#45;a1</title>\n<path fill=\"none\" stroke=\"red\" stroke-width=\"2\" d=\"M864.11,-128.81C886.84,-136.18 916.35,-146.12 942.14,-156 945.32,-157.22 948.6,-158.53 951.88,-159.87\"/>\n<polygon fill=\"red\" stroke=\"red\" stroke-width=\"2\" points=\"948.82,-162.38 959.39,-163.02 951.53,-155.92 948.82,-162.38\"/>\n</g>\n<!-- s1&#45;a0&#45;&gt;s0 -->\n<g id=\"edge7\" class=\"edge\">\n<title>s1&#45;a0&#45;&gt;s0</title>\n<path fill=\"none\" stroke=\"blue\" stroke-dasharray=\"5,2\" d=\"M968.23,-73.73C940.52,-46.49 884.72,0 826.64,0 191.72,0 191.72,0 191.72,0 141.09,0 97.19,-41.71 70.03,-75.32\"/>\n<polygon fill=\"blue\" stroke=\"blue\" points=\"67.5,-72.87 64.09,-82.91 73.01,-77.19 67.5,-72.87\"/>\n<text xml:space=\"preserve\" text-anchor=\"middle\" x=\"553.82\" y=\"-3.55\" font-family=\"Arial\" font-size=\"16.00\">p = 0.7 &#160;reward =5</text>\n</g>\n<!-- s1&#45;a0&#45;&gt;s2 -->\n<g id=\"edge9\" class=\"edge\">\n<title>s1&#45;a0&#45;&gt;s2</title>\n<path fill=\"none\" stroke=\"blue\" stroke-dasharray=\"5,2\" d=\"M972.14,-115.95C967.98,-123.18 963.61,-131.29 960.14,-139 949.94,-161.69 962.16,-177.23 942.14,-192 901.62,-221.9 538.84,-207.87 488.95,-201 486.14,-200.61 483.28,-200.12 480.4,-199.56\"/>\n<polygon fill=\"blue\" stroke=\"blue\" points=\"481.35,-196.19 470.83,-197.4 479.81,-203.02 481.35,-196.19\"/>\n<text xml:space=\"preserve\" text-anchor=\"middle\" x=\"738.39\" y=\"-213.9\" font-family=\"Arial\" font-size=\"16.00\">p = 0.2</text>\n</g>\n<!-- s1&#45;a0&#45;&gt;s1 -->\n<g id=\"edge8\" class=\"edge\">\n<title>s1&#45;a0&#45;&gt;s1</title>\n<path fill=\"none\" stroke=\"blue\" stroke-dasharray=\"5,2\" d=\"M961.42,-84.34C940.33,-78.32 909.5,-72.64 883.64,-80.25 878.14,-81.87 872.66,-84.21 867.4,-86.93\"/>\n<polygon fill=\"blue\" stroke=\"blue\" points=\"865.86,-83.78 858.92,-91.79 869.34,-89.85 865.86,-83.78\"/>\n<text xml:space=\"preserve\" text-anchor=\"middle\" x=\"912.89\" y=\"-83.8\" font-family=\"Arial\" font-size=\"16.00\">p = 0.1</text>\n</g>\n<!-- s1&#45;a1&#45;&gt;s2 -->\n<g id=\"edge12\" class=\"edge\">\n<title>s1&#45;a1&#45;&gt;s2</title>\n<path fill=\"none\" stroke=\"blue\" stroke-dasharray=\"5,2\" d=\"M975.34,-199.6C967.98,-212.89 956.93,-228.14 942.14,-236 873.64,-272.45 845.23,-240.67 767.64,-242 643.77,-244.13 604.07,-281.79 488.95,-236 480.88,-232.79 473.21,-227.89 466.27,-222.38\"/>\n<polygon fill=\"blue\" stroke=\"blue\" points=\"468.89,-220.02 459.04,-216.14 464.32,-225.32 468.89,-220.02\"/>\n<text xml:space=\"preserve\" text-anchor=\"middle\" x=\"738.39\" y=\"-249.11\" font-family=\"Arial\" font-size=\"16.00\">p = 0.05</text>\n</g>\n<!-- s1&#45;a1&#45;&gt;s1 -->\n<g id=\"edge11\" class=\"edge\">\n<title>s1&#45;a1&#45;&gt;s1</title>\n<path fill=\"none\" stroke=\"blue\" stroke-dasharray=\"5,2\" d=\"M959.86,-171.94C938.66,-168.87 908.47,-163.12 883.64,-153 878.63,-150.95 873.56,-148.47 868.62,-145.77\"/>\n<polygon fill=\"blue\" stroke=\"blue\" points=\"870.44,-142.78 860.04,-140.77 866.92,-148.83 870.44,-142.78\"/>\n<text xml:space=\"preserve\" text-anchor=\"middle\" x=\"912.89\" y=\"-172.4\" font-family=\"Arial\" font-size=\"16.00\">p = 0.95</text>\n</g>\n<!-- s2&#45;a0&#45;&gt;s0 -->\n<g id=\"edge14\" class=\"edge\">\n<title>s2&#45;a0&#45;&gt;s0</title>\n<path fill=\"none\" stroke=\"blue\" stroke-dasharray=\"5,2\" d=\"M637.87,-154.73C631.66,-152.93 624.98,-151.21 618.7,-150 444.3,-116.43 397.38,-131.71 219.95,-124 176.64,-122.12 127.43,-120.21 91.59,-118.86\"/>\n<polygon fill=\"blue\" stroke=\"blue\" points=\"92.09,-115.38 81.97,-118.5 91.83,-122.37 92.09,-115.38\"/>\n<text xml:space=\"preserve\" text-anchor=\"middle\" x=\"305.45\" y=\"-130.28\" font-family=\"Arial\" font-size=\"16.00\">p = 0.4</text>\n</g>\n<!-- s2&#45;a0&#45;&gt;s2 -->\n<g id=\"edge15\" class=\"edge\">\n<title>s2&#45;a0&#45;&gt;s2</title>\n<path fill=\"none\" stroke=\"blue\" stroke-dasharray=\"5,2\" d=\"M636.65,-159.04C602.29,-154.67 540.41,-149.56 488.95,-160.25 485.19,-161.03 481.37,-162.07 477.59,-163.29\"/>\n<polygon fill=\"blue\" stroke=\"blue\" points=\"476.72,-159.88 468.51,-166.58 479.11,-166.46 476.72,-159.88\"/>\n<text xml:space=\"preserve\" text-anchor=\"middle\" x=\"553.82\" y=\"-163.8\" font-family=\"Arial\" font-size=\"16.00\">p = 0.6</text>\n</g>\n<!-- s2&#45;a1&#45;&gt;s0 -->\n<g id=\"edge17\" class=\"edge\">\n<title>s2&#45;a1&#45;&gt;s0</title>\n<path fill=\"none\" stroke=\"blue\" stroke-dasharray=\"5,2\" d=\"M641.54,-64.71C634.62,-60.36 626.66,-56.24 618.7,-54 455.73,-8.18 406.12,-44.85 237.95,-64.25 175.04,-71.51 158.34,-71.78 98,-91 94.31,-92.17 90.55,-93.52 86.8,-94.98\"/>\n<polygon fill=\"blue\" stroke=\"blue\" points=\"85.67,-91.66 77.76,-98.72 88.34,-98.13 85.67,-91.66\"/>\n<text xml:space=\"preserve\" text-anchor=\"middle\" x=\"305.45\" y=\"-67.8\" font-family=\"Arial\" font-size=\"16.00\">p = 0.3 &#160;reward =&#45;1</text>\n</g>\n<!-- s2&#45;a1&#45;&gt;s2 -->\n<g id=\"edge19\" class=\"edge\">\n<title>s2&#45;a1&#45;&gt;s2</title>\n<path fill=\"none\" stroke=\"blue\" stroke-dasharray=\"5,2\" d=\"M638.01,-71.98C602.16,-60.68 535.27,-46 488.95,-74.25 466.95,-87.67 453.09,-112.58 444.54,-135.38\"/>\n<polygon fill=\"blue\" stroke=\"blue\" points=\"441.33,-133.98 441.37,-144.58 447.94,-136.27 441.33,-133.98\"/>\n<text xml:space=\"preserve\" text-anchor=\"middle\" x=\"553.82\" y=\"-77.8\" font-family=\"Arial\" font-size=\"16.00\">p = 0.4</text>\n</g>\n<!-- s2&#45;a1&#45;&gt;s1 -->\n<g id=\"edge18\" class=\"edge\">\n<title>s2&#45;a1&#45;&gt;s1</title>\n<path fill=\"none\" stroke=\"blue\" stroke-dasharray=\"5,2\" d=\"M690.94,-86.86C713.63,-91.98 747.16,-99.54 774.97,-105.8\"/>\n<polygon fill=\"blue\" stroke=\"blue\" points=\"774.1,-109.19 784.62,-107.98 775.64,-102.37 774.1,-109.19\"/>\n<text xml:space=\"preserve\" text-anchor=\"middle\" x=\"738.39\" y=\"-106.83\" font-family=\"Arial\" font-size=\"16.00\">p = 0.3</text>\n</g>\n</g>\n</svg>\n",
      "text/plain": [
       "<graphviz.graphs.Digraph at 0x23e18560590>"
      ]
     },
     "metadata": {},
     "output_type": "display_data"
    }
   ],
   "execution_count": 6
  },
  {
   "cell_type": "markdown",
   "metadata": {},
   "source": [
    "### Value Iteration\n",
    "\n",
    "Now let's build something to solve this MDP. The simplest algorithm so far is __V__alue __I__teration\n",
    "\n",
    "Here's the pseudo-code for VI:\n",
    "\n",
    "---\n",
    "\n",
    "`1.` Initialize $V^{(0)}(s)=0$, for all $s$\n",
    "\n",
    "`2.` For $i=0, 1, 2, \\dots$\n",
    " \n",
    "`3.` $ \\quad V_{(i+1)}(s) = \\max_a \\sum_{s'} P(s' | s,a) \\cdot [ r(s,a,s') + \\gamma V_{i}(s')]$, for all $s$\n",
    "\n",
    "---"
   ]
  },
  {
   "cell_type": "markdown",
   "metadata": {},
   "source": [
    "First, let's write a function to compute the state-action value function $Q^{\\pi}$, defined as follows\n",
    "\n",
    "$$Q_i(s, a) = \\sum_{s'} P(s' | s,a) \\cdot [ r(s,a,s') + \\gamma V_{i}(s')]$$\n"
   ]
  },
  {
   "cell_type": "code",
   "metadata": {
    "ExecuteTime": {
     "end_time": "2025-08-22T10:10:08.875353Z",
     "start_time": "2025-08-22T10:10:08.872442Z"
    }
   },
   "source": [
    "def get_action_value(mdp, state_values, state, action, gamma):\n",
    "    \"\"\" Computes Q(s,a) as in formula above \"\"\"\n",
    "\n",
    "    q_value = 0.0\n",
    "    for next_state in mdp.get_next_states(state, action):\n",
    "        prob = mdp.get_transition_prob(state, action, next_state)\n",
    "        reward = mdp.get_reward(state, action, next_state)\n",
    "        q_value += prob * (reward + gamma * state_values[next_state])\n",
    "    return q_value"
   ],
   "outputs": [],
   "execution_count": 7
  },
  {
   "cell_type": "code",
   "metadata": {
    "ExecuteTime": {
     "end_time": "2025-08-22T10:10:08.900265Z",
     "start_time": "2025-08-22T10:10:08.897429Z"
    }
   },
   "source": [
    "import numpy as np\n",
    "test_Vs = {s: i for i, s in enumerate(sorted(mdp.get_all_states()))}\n",
    "assert np.isclose(get_action_value(mdp, test_Vs, 's2', 'a1', 0.9), 0.69)\n",
    "assert np.isclose(get_action_value(mdp, test_Vs, 's1', 'a0', 0.9), 3.95)"
   ],
   "outputs": [],
   "execution_count": 8
  },
  {
   "cell_type": "markdown",
   "metadata": {},
   "source": [
    "Using $Q(s,a)$ we can now define the \"next\" V(s) for value iteration.\n",
    " $$V_{(i+1)}(s) = \\max_a \\sum_{s'} P(s' | s,a) \\cdot [ r(s,a,s') + \\gamma V_{i}(s')] = \\max_a Q_i(s,a)$$"
   ]
  },
  {
   "cell_type": "code",
   "metadata": {
    "ExecuteTime": {
     "end_time": "2025-08-22T10:10:08.907966Z",
     "start_time": "2025-08-22T10:10:08.905027Z"
    }
   },
   "source": [
    "def get_new_state_value(mdp, state_values, state, gamma):\n",
    "    \"\"\" Computes next V(s) as in formula above. Please do not change state_values in process. \"\"\"\n",
    "    if mdp.is_terminal(state):\n",
    "        return 0\n",
    "\n",
    "    # Compute Q(s, a) for all actions and take the maximum\n",
    "    best_value = float('-inf')\n",
    "    for action in mdp.get_possible_actions(state):\n",
    "        q_value = 0.0\n",
    "        for next_state in mdp.get_next_states(state, action):\n",
    "            prob = mdp.get_transition_prob(state, action, next_state)\n",
    "            reward = mdp.get_reward(state, action, next_state)\n",
    "            q_value += prob * (reward + gamma * state_values[next_state])\n",
    "        best_value = max(best_value, q_value)\n",
    "\n",
    "    return best_value"
   ],
   "outputs": [],
   "execution_count": 9
  },
  {
   "cell_type": "code",
   "metadata": {
    "ExecuteTime": {
     "end_time": "2025-08-22T10:10:08.916067Z",
     "start_time": "2025-08-22T10:10:08.912561Z"
    }
   },
   "source": [
    "test_Vs_copy = dict(test_Vs)\n",
    "assert np.isclose(get_new_state_value(mdp, test_Vs, 's0', 0.9), 1.8)\n",
    "assert np.isclose(get_new_state_value(mdp, test_Vs, 's2', 0.9), 1.08)\n",
    "assert np.isclose(get_new_state_value(mdp, {'s0': -1e10, 's1': 0, 's2': -2e10}, 's0', 0.9), -13500000000.0), \\\n",
    "    \"Please ensure that you handle negative Q-values of arbitrary magnitude correctly\"\n",
    "assert test_Vs == test_Vs_copy, \"Please do not change state_values in get_new_state_value\""
   ],
   "outputs": [],
   "execution_count": 10
  },
  {
   "cell_type": "markdown",
   "metadata": {},
   "source": [
    "Finally, let's combine everything we wrote into a working value iteration algo."
   ]
  },
  {
   "cell_type": "code",
   "metadata": {
    "ExecuteTime": {
     "end_time": "2025-08-22T10:10:08.973192Z",
     "start_time": "2025-08-22T10:10:08.920285Z"
    }
   },
   "source": [
    "# parameters\n",
    "gamma = 0.9            # discount for MDP\n",
    "num_iter = 100         # maximum iterations, excluding initialization\n",
    "# stop VI if new values are this close to old values (or closer)\n",
    "min_difference = 0.001\n",
    "\n",
    "# initialize V(s)\n",
    "state_values = {s: 0 for s in mdp.get_all_states()}\n",
    "\n",
    "if has_graphviz:\n",
    "    display(plot_graph_with_state_values(mdp, state_values))\n",
    "\n",
    "for i in range(num_iter):\n",
    "\n",
    "    # Compute new state values using the functions you defined above.\n",
    "    # It must be a dict {state : float V_new(state)}\n",
    "    new_state_values = {\n",
    "        state: get_new_state_value(mdp, state_values, state, gamma)\n",
    "        for state in mdp.get_all_states()\n",
    "    }\n",
    "\n",
    "    assert isinstance(new_state_values, dict)\n",
    "\n",
    "    # Compute difference\n",
    "    diff = max(abs(new_state_values[s] - state_values[s])\n",
    "               for s in mdp.get_all_states())\n",
    "    print(\"iter %4i   |   diff: %6.5f   |   \" % (i, diff), end=\"\")\n",
    "    print('   '.join(\"V(%s) = %.3f\" % (s, v) for s, v in state_values.items()))\n",
    "    state_values = new_state_values\n",
    "\n",
    "    if diff < min_difference:\n",
    "        print(\"Terminated\")\n",
    "        break"
   ],
   "outputs": [
    {
     "data": {
      "image/svg+xml": "<?xml version=\"1.0\" encoding=\"UTF-8\" standalone=\"no\"?>\n<!DOCTYPE svg PUBLIC \"-//W3C//DTD SVG 1.1//EN\"\n \"http://www.w3.org/Graphics/SVG/1.1/DTD/svg11.dtd\">\n<!-- Generated by graphviz version 13.1.2 (20250808.2320)\n -->\n<!-- Title: MDP Pages: 1 -->\n<svg width=\"1088pt\" height=\"331pt\"\n viewBox=\"0.00 0.00 1088.00 331.00\" xmlns=\"http://www.w3.org/2000/svg\" xmlns:xlink=\"http://www.w3.org/1999/xlink\">\n<g id=\"graph0\" class=\"graph\" transform=\"scale(1 1) rotate(0) translate(4 327.28)\">\n<title>MDP</title>\n<polygon fill=\"white\" stroke=\"none\" points=\"-4,4 -4,-327.28 1083.67,-327.28 1083.67,4 -4,4\"/>\n<!-- s0 -->\n<g id=\"node1\" class=\"node\">\n<title>s0</title>\n<ellipse fill=\"#85ff75\" stroke=\"#85ff75\" cx=\"50.85\" cy=\"-117\" rx=\"46.85\" ry=\"46.85\"/>\n<ellipse fill=\"none\" stroke=\"#85ff75\" cx=\"50.85\" cy=\"-117\" rx=\"50.85\" ry=\"50.85\"/>\n<text xml:space=\"preserve\" text-anchor=\"middle\" x=\"50.85\" y=\"-121.2\" font-family=\"Arial\" font-size=\"24.00\">s0</text>\n<text xml:space=\"preserve\" text-anchor=\"middle\" x=\"50.85\" y=\"-94.2\" font-family=\"Arial\" font-size=\"24.00\">V =0</text>\n</g>\n<!-- s0&#45;a0 -->\n<g id=\"node2\" class=\"node\">\n<title>s0&#45;a0</title>\n<ellipse fill=\"lightpink\" stroke=\"lightpink\" cx=\"214.42\" cy=\"-160\" rx=\"27.22\" ry=\"27.22\"/>\n<text xml:space=\"preserve\" text-anchor=\"middle\" x=\"214.42\" y=\"-152.62\" font-family=\"Arial\" font-size=\"20.00\">a0</text>\n</g>\n<!-- s0&#45;&gt;s0&#45;a0 -->\n<g id=\"edge1\" class=\"edge\">\n<title>s0&#45;&gt;s0&#45;a0</title>\n<path fill=\"none\" stroke=\"red\" stroke-width=\"2\" d=\"M101,-126.92C122.14,-131.55 147.03,-137.47 169.19,-144 172.1,-144.86 175.1,-145.8 178.1,-146.79\"/>\n<polygon fill=\"red\" stroke=\"red\" stroke-width=\"2\" points=\"175.34,-149.54 185.94,-149.51 177.63,-142.93 175.34,-149.54\"/>\n</g>\n<!-- s0&#45;a1 -->\n<g id=\"node4\" class=\"node\">\n<title>s0&#45;a1</title>\n<ellipse fill=\"lightpink\" stroke=\"lightpink\" cx=\"214.42\" cy=\"-232\" rx=\"27.22\" ry=\"27.22\"/>\n<text xml:space=\"preserve\" text-anchor=\"middle\" x=\"214.42\" y=\"-224.62\" font-family=\"Arial\" font-size=\"20.00\">a1</text>\n</g>\n<!-- s0&#45;&gt;s0&#45;a1 -->\n<g id=\"edge4\" class=\"edge\">\n<title>s0&#45;&gt;s0&#45;a1</title>\n<path fill=\"none\" stroke=\"red\" stroke-width=\"2\" d=\"M89.36,-150.93C99,-159.13 109.53,-167.64 119.69,-175 138.99,-188.98 161.82,-202.91 180.11,-213.5\"/>\n<polygon fill=\"red\" stroke=\"red\" stroke-width=\"2\" points=\"176.98,-215.74 187.4,-217.67 180.46,-209.67 176.98,-215.74\"/>\n</g>\n<!-- s0&#45;a0&#45;&gt;s0 -->\n<g id=\"edge2\" class=\"edge\">\n<title>s0&#45;a0&#45;&gt;s0</title>\n<path fill=\"none\" stroke=\"blue\" stroke-dasharray=\"5,2\" d=\"M187.33,-155.72C168.39,-152.37 142.25,-147.24 119.69,-141 116.43,-140.1 113.09,-139.11 109.74,-138.08\"/>\n<polygon fill=\"blue\" stroke=\"blue\" points=\"111.06,-134.83 100.47,-135.1 108.92,-141.49 111.06,-134.83\"/>\n<text xml:space=\"preserve\" text-anchor=\"middle\" x=\"144.44\" y=\"-155.66\" font-family=\"Arial\" font-size=\"16.00\">p = 0.5</text>\n</g>\n<!-- s2 -->\n<g id=\"node3\" class=\"node\">\n<title>s2</title>\n<ellipse fill=\"#85ff75\" stroke=\"#85ff75\" cx=\"463.48\" cy=\"-190\" rx=\"46.85\" ry=\"46.85\"/>\n<ellipse fill=\"none\" stroke=\"#85ff75\" cx=\"463.48\" cy=\"-190\" rx=\"50.85\" ry=\"50.85\"/>\n<text xml:space=\"preserve\" text-anchor=\"middle\" x=\"463.48\" y=\"-194.2\" font-family=\"Arial\" font-size=\"24.00\">s2</text>\n<text xml:space=\"preserve\" text-anchor=\"middle\" x=\"463.48\" y=\"-167.2\" font-family=\"Arial\" font-size=\"24.00\">V =0</text>\n</g>\n<!-- s0&#45;a0&#45;&gt;s2 -->\n<g id=\"edge3\" class=\"edge\">\n<title>s0&#45;a0&#45;&gt;s2</title>\n<path fill=\"none\" stroke=\"blue\" stroke-dasharray=\"5,2\" d=\"M241.86,-163.21C279.7,-167.81 350.39,-176.39 401.57,-182.6\"/>\n<polygon fill=\"blue\" stroke=\"blue\" points=\"400.98,-186.06 411.33,-183.79 401.82,-179.11 400.98,-186.06\"/>\n<text xml:space=\"preserve\" text-anchor=\"middle\" x=\"327.14\" y=\"-184.69\" font-family=\"Arial\" font-size=\"16.00\">p = 0.5</text>\n</g>\n<!-- s2&#45;a0 -->\n<g id=\"node8\" class=\"node\">\n<title>s2&#45;a0</title>\n<ellipse fill=\"lightpink\" stroke=\"lightpink\" cx=\"707.3\" cy=\"-163\" rx=\"27.22\" ry=\"27.22\"/>\n<text xml:space=\"preserve\" text-anchor=\"middle\" x=\"707.3\" y=\"-155.62\" font-family=\"Arial\" font-size=\"20.00\">a0</text>\n</g>\n<!-- s2&#45;&gt;s2&#45;a0 -->\n<g id=\"edge13\" class=\"edge\">\n<title>s2&#45;&gt;s2&#45;a0</title>\n<path fill=\"none\" stroke=\"red\" stroke-width=\"2\" d=\"M514.31,-193.52C554.7,-195.11 612.78,-194.55 662.08,-183 665.5,-182.2 668.97,-181.13 672.4,-179.9\"/>\n<polygon fill=\"red\" stroke=\"red\" stroke-width=\"2\" points=\"672.3,-183.72 680.23,-176.7 669.65,-177.24 672.3,-183.72\"/>\n</g>\n<!-- s2&#45;a1 -->\n<g id=\"node9\" class=\"node\">\n<title>s2&#45;a1</title>\n<ellipse fill=\"lightpink\" stroke=\"lightpink\" cx=\"707.3\" cy=\"-77\" rx=\"27.22\" ry=\"27.22\"/>\n<text xml:space=\"preserve\" text-anchor=\"middle\" x=\"707.3\" y=\"-69.62\" font-family=\"Arial\" font-size=\"20.00\">a1</text>\n</g>\n<!-- s2&#45;&gt;s2&#45;a1 -->\n<g id=\"edge16\" class=\"edge\">\n<title>s2&#45;&gt;s2&#45;a1</title>\n<path fill=\"none\" stroke=\"red\" stroke-width=\"2\" d=\"M507.43,-163.5C515.59,-158.81 524.14,-154.11 532.33,-150 557.58,-137.33 627.78,-108.6 670.9,-91.19\"/>\n<polygon fill=\"red\" stroke=\"red\" stroke-width=\"2\" points=\"670.72,-95.04 678.69,-88.06 668.11,-88.55 670.72,-95.04\"/>\n</g>\n<!-- s0&#45;a1&#45;&gt;s2 -->\n<g id=\"edge5\" class=\"edge\">\n<title>s0&#45;a1&#45;&gt;s2</title>\n<path fill=\"none\" stroke=\"blue\" stroke-dasharray=\"5,2\" d=\"M241.55,-227.7C276.46,-221.95 340.23,-211.37 394.64,-202 397.08,-201.58 399.57,-201.15 402.09,-200.71\"/>\n<polygon fill=\"blue\" stroke=\"blue\" points=\"402.47,-204.2 411.72,-199.03 401.27,-197.3 402.47,-204.2\"/>\n<text xml:space=\"preserve\" text-anchor=\"middle\" x=\"327.14\" y=\"-227.69\" font-family=\"Arial\" font-size=\"16.00\">p = 1</text>\n</g>\n<!-- s1 -->\n<g id=\"node5\" class=\"node\">\n<title>s1</title>\n<ellipse fill=\"#85ff75\" stroke=\"#85ff75\" cx=\"879.87\" cy=\"-87\" rx=\"46.85\" ry=\"46.85\"/>\n<ellipse fill=\"none\" stroke=\"#85ff75\" cx=\"879.87\" cy=\"-87\" rx=\"50.85\" ry=\"50.85\"/>\n<text xml:space=\"preserve\" text-anchor=\"middle\" x=\"879.87\" y=\"-91.2\" font-family=\"Arial\" font-size=\"24.00\">s1</text>\n<text xml:space=\"preserve\" text-anchor=\"middle\" x=\"879.87\" y=\"-64.2\" font-family=\"Arial\" font-size=\"24.00\">V =0</text>\n</g>\n<!-- s1&#45;a0 -->\n<g id=\"node6\" class=\"node\">\n<title>s1&#45;a0</title>\n<ellipse fill=\"lightpink\" stroke=\"lightpink\" cx=\"1052.44\" cy=\"-63\" rx=\"27.22\" ry=\"27.22\"/>\n<text xml:space=\"preserve\" text-anchor=\"middle\" x=\"1052.44\" y=\"-55.62\" font-family=\"Arial\" font-size=\"20.00\">a0</text>\n</g>\n<!-- s1&#45;&gt;s1&#45;a0 -->\n<g id=\"edge6\" class=\"edge\">\n<title>s1&#45;&gt;s1&#45;a0</title>\n<path fill=\"none\" stroke=\"red\" stroke-width=\"2\" d=\"M930.86,-82.76C954.15,-80.46 982.19,-77.2 1007.22,-73 1009.68,-72.59 1012.21,-72.12 1014.75,-71.63\"/>\n<polygon fill=\"red\" stroke=\"red\" stroke-width=\"2\" points=\"1013.78,-75.41 1022.85,-69.93 1012.35,-68.55 1013.78,-75.41\"/>\n</g>\n<!-- s1&#45;a1 -->\n<g id=\"node7\" class=\"node\">\n<title>s1&#45;a1</title>\n<ellipse fill=\"lightpink\" stroke=\"lightpink\" cx=\"1052.44\" cy=\"-145\" rx=\"27.22\" ry=\"27.22\"/>\n<text xml:space=\"preserve\" text-anchor=\"middle\" x=\"1052.44\" y=\"-137.62\" font-family=\"Arial\" font-size=\"20.00\">a1</text>\n</g>\n<!-- s1&#45;&gt;s1&#45;a1 -->\n<g id=\"edge10\" class=\"edge\">\n<title>s1&#45;&gt;s1&#45;a1</title>\n<path fill=\"none\" stroke=\"red\" stroke-width=\"2\" d=\"M929.27,-100.63C952.97,-107.63 981.8,-116.65 1007.22,-126 1010.41,-127.17 1013.7,-128.45 1016.99,-129.78\"/>\n<polygon fill=\"red\" stroke=\"red\" stroke-width=\"2\" points=\"1013.93,-132.3 1024.51,-132.91 1016.62,-125.83 1013.93,-132.3\"/>\n</g>\n<!-- s1&#45;a0&#45;&gt;s0 -->\n<g id=\"edge7\" class=\"edge\">\n<title>s1&#45;a0&#45;&gt;s0</title>\n<path fill=\"none\" stroke=\"blue\" stroke-dasharray=\"5,2\" d=\"M1028.7,-48.7C996.9,-30.12 936.75,0 880.87,0 213.42,0 213.42,0 213.42,0 164.14,0 119.73,-36.14 89.99,-68.25\"/>\n<polygon fill=\"blue\" stroke=\"blue\" points=\"87.47,-65.83 83.39,-75.61 92.68,-70.5 87.47,-65.83\"/>\n<text xml:space=\"preserve\" text-anchor=\"middle\" x=\"597.21\" y=\"-3.55\" font-family=\"Arial\" font-size=\"16.00\">p = 0.7 &#160;reward =5</text>\n</g>\n<!-- s1&#45;a0&#45;&gt;s2 -->\n<g id=\"edge9\" class=\"edge\">\n<title>s1&#45;a0&#45;&gt;s2</title>\n<path fill=\"none\" stroke=\"blue\" stroke-dasharray=\"5,2\" d=\"M1037.25,-85.96C1033.08,-93.19 1028.71,-101.3 1025.22,-109 1015.12,-131.27 1026.11,-145.47 1007.22,-161 867.47,-275.87 632.65,-234.96 523.53,-207.16\"/>\n<polygon fill=\"blue\" stroke=\"blue\" points=\"524.45,-203.79 513.89,-204.65 522.69,-210.56 524.45,-203.79\"/>\n<text xml:space=\"preserve\" text-anchor=\"middle\" x=\"781.78\" y=\"-241.09\" font-family=\"Arial\" font-size=\"16.00\">p = 0.2</text>\n</g>\n<!-- s1&#45;a0&#45;&gt;s1 -->\n<g id=\"edge8\" class=\"edge\">\n<title>s1&#45;a0&#45;&gt;s1</title>\n<path fill=\"none\" stroke=\"blue\" stroke-dasharray=\"5,2\" d=\"M1026.45,-54.48C1020.24,-52.72 1013.55,-51.14 1007.22,-50.25 981.48,-46.61 973.92,-43.86 948.72,-50.25 943.63,-51.54 938.51,-53.3 933.49,-55.34\"/>\n<polygon fill=\"blue\" stroke=\"blue\" points=\"932.41,-51.99 924.73,-59.29 935.29,-58.37 932.41,-51.99\"/>\n<text xml:space=\"preserve\" text-anchor=\"middle\" x=\"977.97\" y=\"-53.8\" font-family=\"Arial\" font-size=\"16.00\">p = 0.1</text>\n</g>\n<!-- s1&#45;a1&#45;&gt;s2 -->\n<g id=\"edge12\" class=\"edge\">\n<title>s1&#45;a1&#45;&gt;s2</title>\n<path fill=\"none\" stroke=\"blue\" stroke-dasharray=\"5,2\" d=\"M1046.24,-171.95C1040.57,-193.28 1029.19,-221.78 1007.22,-236 830.04,-350.69 733.23,-300.69 532.33,-236 525.75,-233.88 519.23,-230.91 512.97,-227.49\"/>\n<polygon fill=\"blue\" stroke=\"blue\" points=\"515.09,-224.67 504.7,-222.57 511.51,-230.69 515.09,-224.67\"/>\n<text xml:space=\"preserve\" text-anchor=\"middle\" x=\"781.78\" y=\"-308.08\" font-family=\"Arial\" font-size=\"16.00\">p = 0.05</text>\n</g>\n<!-- s1&#45;a1&#45;&gt;s1 -->\n<g id=\"edge11\" class=\"edge\">\n<title>s1&#45;a1&#45;&gt;s1</title>\n<path fill=\"none\" stroke=\"blue\" stroke-dasharray=\"5,2\" d=\"M1025.13,-141.42C1004.04,-138.07 973.91,-132.18 948.72,-123 944.01,-121.28 939.22,-119.3 934.48,-117.15\"/>\n<polygon fill=\"blue\" stroke=\"blue\" points=\"936.12,-114.06 925.59,-112.91 933.11,-120.38 936.12,-114.06\"/>\n<text xml:space=\"preserve\" text-anchor=\"middle\" x=\"977.97\" y=\"-141.71\" font-family=\"Arial\" font-size=\"16.00\">p = 0.95</text>\n</g>\n<!-- s2&#45;a0&#45;&gt;s0 -->\n<g id=\"edge14\" class=\"edge\">\n<title>s2&#45;a0&#45;&gt;s0</title>\n<path fill=\"none\" stroke=\"blue\" stroke-dasharray=\"5,2\" d=\"M681.22,-154.91C675.01,-153.11 668.34,-151.34 662.08,-150 597.27,-136.17 580.38,-135.38 514.33,-130 371.05,-118.32 202.08,-116.62 113.36,-116.65\"/>\n<polygon fill=\"blue\" stroke=\"blue\" points=\"113.41,-113.15 103.41,-116.66 113.42,-120.15 113.41,-113.15\"/>\n<text xml:space=\"preserve\" text-anchor=\"middle\" x=\"327.14\" y=\"-126.01\" font-family=\"Arial\" font-size=\"16.00\">p = 0.4</text>\n</g>\n<!-- s2&#45;a0&#45;&gt;s2 -->\n<g id=\"edge15\" class=\"edge\">\n<title>s2&#45;a0&#45;&gt;s2</title>\n<path fill=\"none\" stroke=\"blue\" stroke-dasharray=\"5,2\" d=\"M680.02,-159.02C645.66,-154.61 583.77,-149.47 532.33,-160.25 528.25,-161.11 524.12,-162.22 520.01,-163.52\"/>\n<polygon fill=\"blue\" stroke=\"blue\" points=\"518.94,-160.18 510.67,-166.81 521.27,-166.78 518.94,-160.18\"/>\n<text xml:space=\"preserve\" text-anchor=\"middle\" x=\"597.21\" y=\"-163.8\" font-family=\"Arial\" font-size=\"16.00\">p = 0.6</text>\n</g>\n<!-- s2&#45;a1&#45;&gt;s0 -->\n<g id=\"edge17\" class=\"edge\">\n<title>s2&#45;a1&#45;&gt;s0</title>\n<path fill=\"none\" stroke=\"blue\" stroke-dasharray=\"5,2\" d=\"M684.25,-62.25C677.43,-58.48 669.7,-54.93 662.08,-53 606.19,-38.81 589.98,-51.81 532.33,-53 348.2,-56.8 296.82,-40.56 119.69,-91 116.17,-92 112.58,-93.11 108.98,-94.29\"/>\n<polygon fill=\"blue\" stroke=\"blue\" points=\"107.95,-90.94 99.63,-97.5 110.22,-97.56 107.95,-90.94\"/>\n<text xml:space=\"preserve\" text-anchor=\"middle\" x=\"327.14\" y=\"-63.62\" font-family=\"Arial\" font-size=\"16.00\">p = 0.3 &#160;reward =&#45;1</text>\n</g>\n<!-- s2&#45;a1&#45;&gt;s2 -->\n<g id=\"edge19\" class=\"edge\">\n<title>s2&#45;a1&#45;&gt;s2</title>\n<path fill=\"none\" stroke=\"blue\" stroke-dasharray=\"5,2\" d=\"M680.98,-68.78C645.21,-58.79 579.07,-46.35 532.33,-73.25 510.32,-85.92 494.78,-108.77 484.19,-130.93\"/>\n<polygon fill=\"blue\" stroke=\"blue\" points=\"481.03,-129.42 480.14,-139.97 487.42,-132.28 481.03,-129.42\"/>\n<text xml:space=\"preserve\" text-anchor=\"middle\" x=\"597.21\" y=\"-76.8\" font-family=\"Arial\" font-size=\"16.00\">p = 0.4</text>\n</g>\n<!-- s2&#45;a1&#45;&gt;s1 -->\n<g id=\"edge18\" class=\"edge\">\n<title>s2&#45;a1&#45;&gt;s1</title>\n<path fill=\"none\" stroke=\"blue\" stroke-dasharray=\"5,2\" d=\"M734.96,-78.56C756.94,-79.85 789.01,-81.73 817.29,-83.39\"/>\n<polygon fill=\"blue\" stroke=\"blue\" points=\"817.04,-86.88 827.22,-83.97 817.45,-79.89 817.04,-86.88\"/>\n<text xml:space=\"preserve\" text-anchor=\"middle\" x=\"781.78\" y=\"-86.45\" font-family=\"Arial\" font-size=\"16.00\">p = 0.3</text>\n</g>\n</g>\n</svg>\n",
      "text/plain": [
       "<graphviz.graphs.Digraph at 0x23e18362710>"
      ]
     },
     "metadata": {},
     "output_type": "display_data"
    },
    {
     "name": "stdout",
     "output_type": "stream",
     "text": [
      "iter    0   |   diff: 3.50000   |   V(s0) = 0.000   V(s1) = 0.000   V(s2) = 0.000\n",
      "iter    1   |   diff: 0.64500   |   V(s0) = 0.000   V(s1) = 3.500   V(s2) = 0.000\n",
      "iter    2   |   diff: 0.58050   |   V(s0) = 0.000   V(s1) = 3.815   V(s2) = 0.645\n",
      "iter    3   |   diff: 0.43582   |   V(s0) = 0.581   V(s1) = 3.959   V(s2) = 0.962\n",
      "iter    4   |   diff: 0.30634   |   V(s0) = 0.866   V(s1) = 4.395   V(s2) = 1.272\n",
      "iter    5   |   diff: 0.27571   |   V(s0) = 1.145   V(s1) = 4.670   V(s2) = 1.579\n",
      "iter    6   |   diff: 0.24347   |   V(s0) = 1.421   V(s1) = 4.926   V(s2) = 1.838\n",
      "iter    7   |   diff: 0.21419   |   V(s0) = 1.655   V(s1) = 5.169   V(s2) = 2.075\n",
      "iter    8   |   diff: 0.19277   |   V(s0) = 1.868   V(s1) = 5.381   V(s2) = 2.290\n",
      "iter    9   |   diff: 0.17327   |   V(s0) = 2.061   V(s1) = 5.573   V(s2) = 2.481\n",
      "iter   10   |   diff: 0.15569   |   V(s0) = 2.233   V(s1) = 5.746   V(s2) = 2.654\n",
      "iter   11   |   diff: 0.14012   |   V(s0) = 2.389   V(s1) = 5.902   V(s2) = 2.810\n",
      "iter   12   |   diff: 0.12610   |   V(s0) = 2.529   V(s1) = 6.042   V(s2) = 2.950\n",
      "iter   13   |   diff: 0.11348   |   V(s0) = 2.655   V(s1) = 6.168   V(s2) = 3.076\n",
      "iter   14   |   diff: 0.10213   |   V(s0) = 2.769   V(s1) = 6.282   V(s2) = 3.190\n",
      "iter   15   |   diff: 0.09192   |   V(s0) = 2.871   V(s1) = 6.384   V(s2) = 3.292\n",
      "iter   16   |   diff: 0.08272   |   V(s0) = 2.963   V(s1) = 6.476   V(s2) = 3.384\n",
      "iter   17   |   diff: 0.07445   |   V(s0) = 3.045   V(s1) = 6.558   V(s2) = 3.467\n",
      "iter   18   |   diff: 0.06701   |   V(s0) = 3.120   V(s1) = 6.633   V(s2) = 3.541\n",
      "iter   19   |   diff: 0.06031   |   V(s0) = 3.187   V(s1) = 6.700   V(s2) = 3.608\n",
      "iter   20   |   diff: 0.05428   |   V(s0) = 3.247   V(s1) = 6.760   V(s2) = 3.668\n",
      "iter   21   |   diff: 0.04885   |   V(s0) = 3.301   V(s1) = 6.814   V(s2) = 3.723\n",
      "iter   22   |   diff: 0.04396   |   V(s0) = 3.350   V(s1) = 6.863   V(s2) = 3.771\n",
      "iter   23   |   diff: 0.03957   |   V(s0) = 3.394   V(s1) = 6.907   V(s2) = 3.815\n",
      "iter   24   |   diff: 0.03561   |   V(s0) = 3.434   V(s1) = 6.947   V(s2) = 3.855\n",
      "iter   25   |   diff: 0.03205   |   V(s0) = 3.469   V(s1) = 6.982   V(s2) = 3.891\n",
      "iter   26   |   diff: 0.02884   |   V(s0) = 3.502   V(s1) = 7.014   V(s2) = 3.923\n",
      "iter   27   |   diff: 0.02596   |   V(s0) = 3.530   V(s1) = 7.043   V(s2) = 3.951\n",
      "iter   28   |   diff: 0.02336   |   V(s0) = 3.556   V(s1) = 7.069   V(s2) = 3.977\n",
      "iter   29   |   diff: 0.02103   |   V(s0) = 3.580   V(s1) = 7.093   V(s2) = 4.001\n",
      "iter   30   |   diff: 0.01892   |   V(s0) = 3.601   V(s1) = 7.114   V(s2) = 4.022\n",
      "iter   31   |   diff: 0.01703   |   V(s0) = 3.620   V(s1) = 7.133   V(s2) = 4.041\n",
      "iter   32   |   diff: 0.01533   |   V(s0) = 3.637   V(s1) = 7.150   V(s2) = 4.058\n",
      "iter   33   |   diff: 0.01380   |   V(s0) = 3.652   V(s1) = 7.165   V(s2) = 4.073\n",
      "iter   34   |   diff: 0.01242   |   V(s0) = 3.666   V(s1) = 7.179   V(s2) = 4.087\n",
      "iter   35   |   diff: 0.01117   |   V(s0) = 3.678   V(s1) = 7.191   V(s2) = 4.099\n",
      "iter   36   |   diff: 0.01006   |   V(s0) = 3.689   V(s1) = 7.202   V(s2) = 4.110\n",
      "iter   37   |   diff: 0.00905   |   V(s0) = 3.699   V(s1) = 7.212   V(s2) = 4.121\n",
      "iter   38   |   diff: 0.00815   |   V(s0) = 3.708   V(s1) = 7.221   V(s2) = 4.130\n",
      "iter   39   |   diff: 0.00733   |   V(s0) = 3.717   V(s1) = 7.230   V(s2) = 4.138\n",
      "iter   40   |   diff: 0.00660   |   V(s0) = 3.724   V(s1) = 7.237   V(s2) = 4.145\n",
      "iter   41   |   diff: 0.00594   |   V(s0) = 3.731   V(s1) = 7.244   V(s2) = 4.152\n",
      "iter   42   |   diff: 0.00534   |   V(s0) = 3.736   V(s1) = 7.249   V(s2) = 4.158\n",
      "iter   43   |   diff: 0.00481   |   V(s0) = 3.742   V(s1) = 7.255   V(s2) = 4.163\n",
      "iter   44   |   diff: 0.00433   |   V(s0) = 3.747   V(s1) = 7.260   V(s2) = 4.168\n",
      "iter   45   |   diff: 0.00390   |   V(s0) = 3.751   V(s1) = 7.264   V(s2) = 4.172\n",
      "iter   46   |   diff: 0.00351   |   V(s0) = 3.755   V(s1) = 7.268   V(s2) = 4.176\n",
      "iter   47   |   diff: 0.00316   |   V(s0) = 3.758   V(s1) = 7.271   V(s2) = 4.179\n",
      "iter   48   |   diff: 0.00284   |   V(s0) = 3.762   V(s1) = 7.275   V(s2) = 4.183\n",
      "iter   49   |   diff: 0.00256   |   V(s0) = 3.764   V(s1) = 7.277   V(s2) = 4.185\n",
      "iter   50   |   diff: 0.00230   |   V(s0) = 3.767   V(s1) = 7.280   V(s2) = 4.188\n",
      "iter   51   |   diff: 0.00207   |   V(s0) = 3.769   V(s1) = 7.282   V(s2) = 4.190\n",
      "iter   52   |   diff: 0.00186   |   V(s0) = 3.771   V(s1) = 7.284   V(s2) = 4.192\n",
      "iter   53   |   diff: 0.00168   |   V(s0) = 3.773   V(s1) = 7.286   V(s2) = 4.194\n",
      "iter   54   |   diff: 0.00151   |   V(s0) = 3.775   V(s1) = 7.288   V(s2) = 4.196\n",
      "iter   55   |   diff: 0.00136   |   V(s0) = 3.776   V(s1) = 7.289   V(s2) = 4.197\n",
      "iter   56   |   diff: 0.00122   |   V(s0) = 3.778   V(s1) = 7.291   V(s2) = 4.199\n",
      "iter   57   |   diff: 0.00110   |   V(s0) = 3.779   V(s1) = 7.292   V(s2) = 4.200\n",
      "iter   58   |   diff: 0.00099   |   V(s0) = 3.780   V(s1) = 7.293   V(s2) = 4.201\n",
      "Terminated\n"
     ]
    }
   ],
   "execution_count": 11
  },
  {
   "cell_type": "code",
   "metadata": {
    "ExecuteTime": {
     "end_time": "2025-08-22T10:10:09.042986Z",
     "start_time": "2025-08-22T10:10:08.990878Z"
    }
   },
   "source": [
    "if has_graphviz:\n",
    "    display(plot_graph_with_state_values(mdp, state_values))"
   ],
   "outputs": [
    {
     "data": {
      "image/svg+xml": "<?xml version=\"1.0\" encoding=\"UTF-8\" standalone=\"no\"?>\n<!DOCTYPE svg PUBLIC \"-//W3C//DTD SVG 1.1//EN\"\n \"http://www.w3.org/Graphics/SVG/1.1/DTD/svg11.dtd\">\n<!-- Generated by graphviz version 13.1.2 (20250808.2320)\n -->\n<!-- Title: MDP Pages: 1 -->\n<svg width=\"1231pt\" height=\"322pt\"\n viewBox=\"0.00 0.00 1231.00 322.00\" xmlns=\"http://www.w3.org/2000/svg\" xmlns:xlink=\"http://www.w3.org/1999/xlink\">\n<g id=\"graph0\" class=\"graph\" transform=\"scale(1 1) rotate(0) translate(4 318.25)\">\n<title>MDP</title>\n<polygon fill=\"white\" stroke=\"none\" points=\"-4,4 -4,-318.25 1226.86,-318.25 1226.86,4 -4,4\"/>\n<!-- s0 -->\n<g id=\"node1\" class=\"node\">\n<title>s0</title>\n<ellipse fill=\"#85ff75\" stroke=\"#85ff75\" cx=\"74.71\" cy=\"-111\" rx=\"70.71\" ry=\"70.71\"/>\n<ellipse fill=\"none\" stroke=\"#85ff75\" cx=\"74.71\" cy=\"-111\" rx=\"74.71\" ry=\"74.71\"/>\n<text xml:space=\"preserve\" text-anchor=\"middle\" x=\"74.71\" y=\"-115.2\" font-family=\"Arial\" font-size=\"24.00\">s0</text>\n<text xml:space=\"preserve\" text-anchor=\"middle\" x=\"74.71\" y=\"-88.2\" font-family=\"Arial\" font-size=\"24.00\">V =3.78</text>\n</g>\n<!-- s0&#45;a0 -->\n<g id=\"node2\" class=\"node\">\n<title>s0&#45;a0</title>\n<ellipse fill=\"lightpink\" stroke=\"lightpink\" cx=\"262.14\" cy=\"-154\" rx=\"27.22\" ry=\"27.22\"/>\n<text xml:space=\"preserve\" text-anchor=\"middle\" x=\"262.14\" y=\"-146.62\" font-family=\"Arial\" font-size=\"20.00\">a0</text>\n</g>\n<!-- s0&#45;&gt;s0&#45;a0 -->\n<g id=\"edge1\" class=\"edge\">\n<title>s0&#45;&gt;s0&#45;a0</title>\n<path fill=\"none\" stroke=\"red\" stroke-width=\"2\" d=\"M148.78,-122.69C170.84,-126.83 195.02,-131.98 216.92,-138 219.85,-138.8 222.85,-139.71 225.86,-140.67\"/>\n<polygon fill=\"red\" stroke=\"red\" stroke-width=\"2\" points=\"223.11,-143.44 233.71,-143.35 225.38,-136.81 223.11,-143.44\"/>\n</g>\n<!-- s0&#45;a1 -->\n<g id=\"node4\" class=\"node\">\n<title>s0&#45;a1</title>\n<ellipse fill=\"lightpink\" stroke=\"lightpink\" cx=\"262.14\" cy=\"-226\" rx=\"27.22\" ry=\"27.22\"/>\n<text xml:space=\"preserve\" text-anchor=\"middle\" x=\"262.14\" y=\"-218.62\" font-family=\"Arial\" font-size=\"20.00\">a1</text>\n</g>\n<!-- s0&#45;&gt;s0&#45;a1 -->\n<g id=\"edge4\" class=\"edge\">\n<title>s0&#45;&gt;s0&#45;a1</title>\n<path fill=\"none\" stroke=\"red\" stroke-width=\"2\" d=\"M138.85,-150.26C148.42,-156.21 158.18,-162.27 167.42,-168 187.77,-180.62 210.62,-194.76 228.66,-205.92\"/>\n<polygon fill=\"red\" stroke=\"red\" stroke-width=\"2\" points=\"225.49,-208.07 235.84,-210.36 229.17,-202.12 225.49,-208.07\"/>\n</g>\n<!-- s0&#45;a0&#45;&gt;s0 -->\n<g id=\"edge2\" class=\"edge\">\n<title>s0&#45;a0&#45;&gt;s0</title>\n<path fill=\"none\" stroke=\"blue\" stroke-dasharray=\"5,2\" d=\"M235.2,-149.15C216.34,-145.52 190.23,-140.29 167.42,-135 164.44,-134.31 161.41,-133.59 158.36,-132.86\"/>\n<polygon fill=\"blue\" stroke=\"blue\" points=\"159.22,-129.47 148.68,-130.48 157.56,-136.26 159.22,-129.47\"/>\n<text xml:space=\"preserve\" text-anchor=\"middle\" x=\"192.17\" y=\"-148.91\" font-family=\"Arial\" font-size=\"16.00\">p = 0.5</text>\n</g>\n<!-- s2 -->\n<g id=\"node3\" class=\"node\">\n<title>s2</title>\n<ellipse fill=\"#85ff75\" stroke=\"#85ff75\" cx=\"535.08\" cy=\"-202\" rx=\"70.71\" ry=\"70.71\"/>\n<ellipse fill=\"none\" stroke=\"#85ff75\" cx=\"535.08\" cy=\"-202\" rx=\"74.71\" ry=\"74.71\"/>\n<text xml:space=\"preserve\" text-anchor=\"middle\" x=\"535.08\" y=\"-206.2\" font-family=\"Arial\" font-size=\"24.00\">s2</text>\n<text xml:space=\"preserve\" text-anchor=\"middle\" x=\"535.08\" y=\"-179.2\" font-family=\"Arial\" font-size=\"24.00\">V =4.20</text>\n</g>\n<!-- s0&#45;a0&#45;&gt;s2 -->\n<g id=\"edge3\" class=\"edge\">\n<title>s0&#45;a0&#45;&gt;s2</title>\n<path fill=\"none\" stroke=\"blue\" stroke-dasharray=\"5,2\" d=\"M289.12,-158.6C325.8,-165.1 394.46,-177.26 449.78,-187.06\"/>\n<polygon fill=\"blue\" stroke=\"blue\" points=\"449.06,-190.49 459.52,-188.79 450.28,-183.6 449.06,-190.49\"/>\n<text xml:space=\"preserve\" text-anchor=\"middle\" x=\"374.87\" y=\"-188.65\" font-family=\"Arial\" font-size=\"16.00\">p = 0.5</text>\n</g>\n<!-- s2&#45;a0 -->\n<g id=\"node8\" class=\"node\">\n<title>s2&#45;a0</title>\n<ellipse fill=\"lightpink\" stroke=\"lightpink\" cx=\"802.76\" cy=\"-163\" rx=\"27.22\" ry=\"27.22\"/>\n<text xml:space=\"preserve\" text-anchor=\"middle\" x=\"802.76\" y=\"-155.62\" font-family=\"Arial\" font-size=\"20.00\">a0</text>\n</g>\n<!-- s2&#45;&gt;s2&#45;a0 -->\n<g id=\"edge13\" class=\"edge\">\n<title>s2&#45;&gt;s2&#45;a0</title>\n<path fill=\"none\" stroke=\"red\" stroke-width=\"2\" d=\"M610.2,-201.88C653.73,-200.27 709.46,-195.54 757.54,-183 760.94,-182.11 764.4,-180.99 767.81,-179.72\"/>\n<polygon fill=\"red\" stroke=\"red\" stroke-width=\"2\" points=\"767.74,-183.54 775.64,-176.48 765.06,-177.07 767.74,-183.54\"/>\n</g>\n<!-- s2&#45;a1 -->\n<g id=\"node9\" class=\"node\">\n<title>s2&#45;a1</title>\n<ellipse fill=\"lightpink\" stroke=\"lightpink\" cx=\"802.76\" cy=\"-81\" rx=\"27.22\" ry=\"27.22\"/>\n<text xml:space=\"preserve\" text-anchor=\"middle\" x=\"802.76\" y=\"-73.62\" font-family=\"Arial\" font-size=\"20.00\">a1</text>\n</g>\n<!-- s2&#45;&gt;s2&#45;a1 -->\n<g id=\"edge16\" class=\"edge\">\n<title>s2&#45;&gt;s2&#45;a1</title>\n<path fill=\"none\" stroke=\"red\" stroke-width=\"2\" d=\"M599.87,-164.35C609.13,-159.32 618.63,-154.39 627.79,-150 674.33,-127.71 730.08,-106.52 765.7,-93.64\"/>\n<polygon fill=\"red\" stroke=\"red\" stroke-width=\"2\" points=\"765.44,-97.46 773.67,-90.79 763.08,-90.87 765.44,-97.46\"/>\n</g>\n<!-- s0&#45;a1&#45;&gt;s2 -->\n<g id=\"edge5\" class=\"edge\">\n<title>s0&#45;a1&#45;&gt;s2</title>\n<path fill=\"none\" stroke=\"blue\" stroke-dasharray=\"5,2\" d=\"M289.62,-223.66C326.24,-220.41 394.07,-214.4 449,-209.54\"/>\n<polygon fill=\"blue\" stroke=\"blue\" points=\"448.99,-213.05 458.65,-208.68 448.38,-206.08 448.99,-213.05\"/>\n<text xml:space=\"preserve\" text-anchor=\"middle\" x=\"374.87\" y=\"-225.53\" font-family=\"Arial\" font-size=\"16.00\">p = 1</text>\n</g>\n<!-- s1 -->\n<g id=\"node5\" class=\"node\">\n<title>s1</title>\n<ellipse fill=\"#85ff75\" stroke=\"#85ff75\" cx=\"999.2\" cy=\"-111\" rx=\"70.71\" ry=\"70.71\"/>\n<ellipse fill=\"none\" stroke=\"#85ff75\" cx=\"999.2\" cy=\"-111\" rx=\"74.71\" ry=\"74.71\"/>\n<text xml:space=\"preserve\" text-anchor=\"middle\" x=\"999.2\" y=\"-115.2\" font-family=\"Arial\" font-size=\"24.00\">s1</text>\n<text xml:space=\"preserve\" text-anchor=\"middle\" x=\"999.2\" y=\"-88.2\" font-family=\"Arial\" font-size=\"24.00\">V =7.29</text>\n</g>\n<!-- s1&#45;a0 -->\n<g id=\"node6\" class=\"node\">\n<title>s1&#45;a0</title>\n<ellipse fill=\"lightpink\" stroke=\"lightpink\" cx=\"1195.63\" cy=\"-87\" rx=\"27.22\" ry=\"27.22\"/>\n<text xml:space=\"preserve\" text-anchor=\"middle\" x=\"1195.63\" y=\"-79.62\" font-family=\"Arial\" font-size=\"20.00\">a0</text>\n</g>\n<!-- s1&#45;&gt;s1&#45;a0 -->\n<g id=\"edge6\" class=\"edge\">\n<title>s1&#45;&gt;s1&#45;a0</title>\n<path fill=\"none\" stroke=\"red\" stroke-width=\"2\" d=\"M1074.16,-106.02C1098.53,-103.87 1125.71,-100.93 1150.41,-97 1152.87,-96.61 1155.4,-96.16 1157.95,-95.68\"/>\n<polygon fill=\"red\" stroke=\"red\" stroke-width=\"2\" points=\"1156.97,-99.45 1166.05,-94 1155.55,-92.6 1156.97,-99.45\"/>\n</g>\n<!-- s1&#45;a1 -->\n<g id=\"node7\" class=\"node\">\n<title>s1&#45;a1</title>\n<ellipse fill=\"lightpink\" stroke=\"lightpink\" cx=\"1195.63\" cy=\"-169\" rx=\"27.22\" ry=\"27.22\"/>\n<text xml:space=\"preserve\" text-anchor=\"middle\" x=\"1195.63\" y=\"-161.62\" font-family=\"Arial\" font-size=\"20.00\">a1</text>\n</g>\n<!-- s1&#45;&gt;s1&#45;a1 -->\n<g id=\"edge10\" class=\"edge\">\n<title>s1&#45;&gt;s1&#45;a1</title>\n<path fill=\"none\" stroke=\"red\" stroke-width=\"2\" d=\"M1072.3,-127.36C1097.28,-133.65 1125.3,-141.4 1150.41,-150 1153.52,-151.07 1156.72,-152.25 1159.91,-153.5\"/>\n<polygon fill=\"red\" stroke=\"red\" stroke-width=\"2\" points=\"1157.18,-156.16 1167.76,-156.72 1159.84,-149.69 1157.18,-156.16\"/>\n</g>\n<!-- s1&#45;a0&#45;&gt;s0 -->\n<g id=\"edge7\" class=\"edge\">\n<title>s1&#45;a0&#45;&gt;s0</title>\n<path fill=\"none\" stroke=\"blue\" stroke-dasharray=\"5,2\" d=\"M1173.57,-70.43C1139.3,-45.19 1068.43,0 1000.2,0 261.14,0 261.14,0 261.14,0 215.34,0 171.04,-25.25 137.24,-51.66\"/>\n<polygon fill=\"blue\" stroke=\"blue\" points=\"135.21,-48.8 129.62,-57.8 139.6,-54.25 135.21,-48.8\"/>\n<text xml:space=\"preserve\" text-anchor=\"middle\" x=\"692.66\" y=\"-3.55\" font-family=\"Arial\" font-size=\"16.00\">p = 0.7 &#160;reward =5</text>\n</g>\n<!-- s1&#45;a0&#45;&gt;s2 -->\n<g id=\"edge9\" class=\"edge\">\n<title>s1&#45;a0&#45;&gt;s2</title>\n<path fill=\"none\" stroke=\"blue\" stroke-dasharray=\"5,2\" d=\"M1180.46,-109.98C1176.3,-117.2 1171.92,-125.31 1168.41,-133 1158.42,-154.86 1168.99,-168.75 1150.41,-184 1123.85,-205.79 1108.12,-191.95 1073.91,-195 876.35,-212.59 826.08,-210.32 627.79,-206 625.73,-205.96 623.64,-205.9 621.54,-205.85\"/>\n<polygon fill=\"blue\" stroke=\"blue\" points=\"621.76,-202.35 611.66,-205.55 621.55,-209.35 621.76,-202.35\"/>\n<text xml:space=\"preserve\" text-anchor=\"middle\" x=\"877.24\" y=\"-212.31\" font-family=\"Arial\" font-size=\"16.00\">p = 0.2</text>\n</g>\n<!-- s1&#45;a0&#45;&gt;s1 -->\n<g id=\"edge8\" class=\"edge\">\n<title>s1&#45;a0&#45;&gt;s1</title>\n<path fill=\"none\" stroke=\"blue\" stroke-dasharray=\"5,2\" d=\"M1169.64,-78.48C1163.43,-76.72 1156.74,-75.14 1150.41,-74.25 1124.66,-70.61 1117.44,-69.33 1091.91,-74.25 1087.58,-75.09 1083.2,-76.12 1078.81,-77.31\"/>\n<polygon fill=\"blue\" stroke=\"blue\" points=\"1077.97,-73.91 1069.39,-80.13 1079.98,-80.62 1077.97,-73.91\"/>\n<text xml:space=\"preserve\" text-anchor=\"middle\" x=\"1121.16\" y=\"-77.8\" font-family=\"Arial\" font-size=\"16.00\">p = 0.1</text>\n</g>\n<!-- s1&#45;a1&#45;&gt;s2 -->\n<g id=\"edge12\" class=\"edge\">\n<title>s1&#45;a1&#45;&gt;s2</title>\n<path fill=\"none\" stroke=\"blue\" stroke-dasharray=\"5,2\" d=\"M1185.04,-194.32C1177.93,-209.28 1166.62,-227.02 1150.41,-236 947.24,-348.58 855.84,-280.13 627.79,-236 623.76,-235.22 619.67,-234.28 615.58,-233.23\"/>\n<polygon fill=\"blue\" stroke=\"blue\" points=\"616.77,-229.93 606.2,-230.59 614.88,-236.67 616.77,-229.93\"/>\n<text xml:space=\"preserve\" text-anchor=\"middle\" x=\"877.24\" y=\"-299.05\" font-family=\"Arial\" font-size=\"16.00\">p = 0.05</text>\n</g>\n<!-- s1&#45;a1&#45;&gt;s1 -->\n<g id=\"edge11\" class=\"edge\">\n<title>s1&#45;a1&#45;&gt;s1</title>\n<path fill=\"none\" stroke=\"blue\" stroke-dasharray=\"5,2\" d=\"M1168.58,-164.64C1147.64,-160.84 1117.58,-154.73 1091.91,-147 1087.74,-145.75 1083.5,-144.39 1079.24,-142.95\"/>\n<polygon fill=\"blue\" stroke=\"blue\" points=\"1080.65,-139.74 1070.06,-139.76 1078.35,-146.35 1080.65,-139.74\"/>\n<text xml:space=\"preserve\" text-anchor=\"middle\" x=\"1121.16\" y=\"-164.64\" font-family=\"Arial\" font-size=\"16.00\">p = 0.95</text>\n</g>\n<!-- s2&#45;a0&#45;&gt;s0 -->\n<g id=\"edge14\" class=\"edge\">\n<title>s2&#45;a0&#45;&gt;s0</title>\n<path fill=\"none\" stroke=\"blue\" stroke-dasharray=\"5,2\" d=\"M776.33,-155.02C739.88,-144.06 670.5,-124.9 609.79,-118 452,-100.06 266.3,-102.99 160.66,-106.9\"/>\n<polygon fill=\"blue\" stroke=\"blue\" points=\"160.81,-103.39 150.95,-107.27 161.07,-110.38 160.81,-103.39\"/>\n<text xml:space=\"preserve\" text-anchor=\"middle\" x=\"374.87\" y=\"-109.62\" font-family=\"Arial\" font-size=\"16.00\">p = 0.4</text>\n</g>\n<!-- s2&#45;a0&#45;&gt;s2 -->\n<g id=\"edge15\" class=\"edge\">\n<title>s2&#45;a0&#45;&gt;s2</title>\n<path fill=\"none\" stroke=\"blue\" stroke-dasharray=\"5,2\" d=\"M775.46,-158.9C741.07,-154.38 679.16,-149.11 627.79,-160.25 622.85,-161.32 617.85,-162.68 612.88,-164.26\"/>\n<polygon fill=\"blue\" stroke=\"blue\" points=\"611.79,-160.93 603.49,-167.51 614.08,-167.55 611.79,-160.93\"/>\n<text xml:space=\"preserve\" text-anchor=\"middle\" x=\"692.66\" y=\"-163.8\" font-family=\"Arial\" font-size=\"16.00\">p = 0.6</text>\n</g>\n<!-- s2&#45;a1&#45;&gt;s0 -->\n<g id=\"edge17\" class=\"edge\">\n<title>s2&#45;a1&#45;&gt;s0</title>\n<path fill=\"none\" stroke=\"blue\" stroke-dasharray=\"5,2\" d=\"M779.71,-66.25C772.89,-62.48 765.16,-58.93 757.54,-57 701.65,-42.81 685.46,-56.89 627.79,-57 485.38,-57.28 449.12,-44.55 307.37,-58.25 244.34,-64.34 229.04,-70.41 167.42,-85 164.25,-85.75 161.03,-86.54 157.77,-87.36\"/>\n<polygon fill=\"blue\" stroke=\"blue\" points=\"156.92,-83.96 148.11,-89.85 158.67,-90.74 156.92,-83.96\"/>\n<text xml:space=\"preserve\" text-anchor=\"middle\" x=\"374.87\" y=\"-61.8\" font-family=\"Arial\" font-size=\"16.00\">p = 0.3 &#160;reward =&#45;1</text>\n</g>\n<!-- s2&#45;a1&#45;&gt;s2 -->\n<g id=\"edge19\" class=\"edge\">\n<title>s2&#45;a1&#45;&gt;s2</title>\n<path fill=\"none\" stroke=\"blue\" stroke-dasharray=\"5,2\" d=\"M776.49,-72.91C741.09,-63.12 675.7,-50.78 627.79,-75.25 606.07,-86.34 588.31,-105.24 574.4,-125.11\"/>\n<polygon fill=\"blue\" stroke=\"blue\" points=\"571.55,-123.08 568.91,-133.34 577.37,-126.96 571.55,-123.08\"/>\n<text xml:space=\"preserve\" text-anchor=\"middle\" x=\"692.66\" y=\"-78.8\" font-family=\"Arial\" font-size=\"16.00\">p = 0.4</text>\n</g>\n<!-- s2&#45;a1&#45;&gt;s1 -->\n<g id=\"edge18\" class=\"edge\">\n<title>s2&#45;a1&#45;&gt;s1</title>\n<path fill=\"none\" stroke=\"blue\" stroke-dasharray=\"5,2\" d=\"M829.99,-85.05C851.68,-88.39 883.75,-93.34 914.08,-98.02\"/>\n<polygon fill=\"blue\" stroke=\"blue\" points=\"913.24,-101.43 923.66,-99.5 914.31,-94.52 913.24,-101.43\"/>\n<text xml:space=\"preserve\" text-anchor=\"middle\" x=\"877.24\" y=\"-99.55\" font-family=\"Arial\" font-size=\"16.00\">p = 0.3</text>\n</g>\n</g>\n</svg>\n",
      "text/plain": [
       "<graphviz.graphs.Digraph at 0x23e18362710>"
      ]
     },
     "metadata": {},
     "output_type": "display_data"
    }
   ],
   "execution_count": 12
  },
  {
   "cell_type": "code",
   "metadata": {
    "ExecuteTime": {
     "end_time": "2025-08-22T10:10:09.073241Z",
     "start_time": "2025-08-22T10:10:09.070206Z"
    }
   },
   "source": [
    "print(\"Final state values:\", state_values)\n",
    "\n",
    "assert abs(state_values['s0'] - 3.781) < 0.01\n",
    "assert abs(state_values['s1'] - 7.294) < 0.01\n",
    "assert abs(state_values['s2'] - 4.202) < 0.01"
   ],
   "outputs": [
    {
     "name": "stdout",
     "output_type": "stream",
     "text": [
      "Final state values: {'s0': 3.7810348735476405, 's1': 7.294006423867229, 's2': 4.202140275227048}\n"
     ]
    }
   ],
   "execution_count": 13
  },
  {
   "cell_type": "markdown",
   "metadata": {},
   "source": [
    "Now let's use those $V^{*}(s)$ to find optimal actions in each state\n",
    "\n",
    " $$\\pi^*(s) = argmax_a \\sum_{s'} P(s' | s,a) \\cdot [ r(s,a,s') + \\gamma V_{i}(s')] = argmax_a Q_i(s,a)$$\n",
    " \n",
    "The only difference vs V(s) is that here we take not max but argmax: find action such with maximum Q(s,a)."
   ]
  },
  {
   "cell_type": "code",
   "metadata": {
    "ExecuteTime": {
     "end_time": "2025-08-22T10:10:09.109754Z",
     "start_time": "2025-08-22T10:10:09.106216Z"
    }
   },
   "source": [
    "def get_optimal_action(mdp, state_values, state, gamma=0.9):\n",
    "    \"\"\" Finds optimal action using formula above. \"\"\"\n",
    "    if mdp.is_terminal(state):\n",
    "        return None\n",
    "\n",
    "    best_action = None\n",
    "    best_value = float('-inf')\n",
    "\n",
    "    for action in mdp.get_possible_actions(state):\n",
    "        q_value = 0.0\n",
    "        for next_state in mdp.get_next_states(state, action):\n",
    "            prob = mdp.get_transition_prob(state, action, next_state)\n",
    "            reward = mdp.get_reward(state, action, next_state)\n",
    "            q_value += prob * (reward + gamma * state_values[next_state])\n",
    "\n",
    "        if q_value > best_value:\n",
    "            best_value = q_value\n",
    "            best_action = action\n",
    "\n",
    "    return best_action"
   ],
   "outputs": [],
   "execution_count": 14
  },
  {
   "cell_type": "code",
   "metadata": {
    "ExecuteTime": {
     "end_time": "2025-08-22T10:10:09.127660Z",
     "start_time": "2025-08-22T10:10:09.124799Z"
    }
   },
   "source": [
    "assert get_optimal_action(mdp, state_values, 's0', gamma) == 'a1'\n",
    "assert get_optimal_action(mdp, state_values, 's1', gamma) == 'a0'\n",
    "assert get_optimal_action(mdp, state_values, 's2', gamma) == 'a1'\n",
    "\n",
    "assert get_optimal_action(mdp, {'s0': -1e10, 's1': 0, 's2': -2e10}, 's0', 0.9) == 'a0', \\\n",
    "    \"Please ensure that you handle negative Q-values of arbitrary magnitude correctly\"\n",
    "assert get_optimal_action(mdp, {'s0': -2e10, 's1': 0, 's2': -1e10}, 's0', 0.9) == 'a1', \\\n",
    "    \"Please ensure that you handle negative Q-values of arbitrary magnitude correctly\""
   ],
   "outputs": [],
   "execution_count": 15
  },
  {
   "cell_type": "code",
   "metadata": {
    "ExecuteTime": {
     "end_time": "2025-08-22T10:10:09.184036Z",
     "start_time": "2025-08-22T10:10:09.131797Z"
    }
   },
   "source": [
    "if has_graphviz:\n",
    "    display(plot_graph_optimal_strategy_and_state_values(mdp, state_values, get_action_value))"
   ],
   "outputs": [
    {
     "data": {
      "image/svg+xml": "<?xml version=\"1.0\" encoding=\"UTF-8\" standalone=\"no\"?>\n<!DOCTYPE svg PUBLIC \"-//W3C//DTD SVG 1.1//EN\"\n \"http://www.w3.org/Graphics/SVG/1.1/DTD/svg11.dtd\">\n<!-- Generated by graphviz version 13.1.2 (20250808.2320)\n -->\n<!-- Title: MDP Pages: 1 -->\n<svg width=\"1231pt\" height=\"342pt\"\n viewBox=\"0.00 0.00 1231.00 342.00\" xmlns=\"http://www.w3.org/2000/svg\" xmlns:xlink=\"http://www.w3.org/1999/xlink\">\n<g id=\"graph0\" class=\"graph\" transform=\"scale(1 1) rotate(0) translate(4 338.41)\">\n<title>MDP</title>\n<polygon fill=\"white\" stroke=\"none\" points=\"-4,4 -4,-338.41 1226.86,-338.41 1226.86,4 -4,4\"/>\n<!-- s0 -->\n<g id=\"node1\" class=\"node\">\n<title>s0</title>\n<ellipse fill=\"#85ff75\" stroke=\"#85ff75\" cx=\"74.71\" cy=\"-130\" rx=\"70.71\" ry=\"70.71\"/>\n<ellipse fill=\"none\" stroke=\"#85ff75\" cx=\"74.71\" cy=\"-130\" rx=\"74.71\" ry=\"74.71\"/>\n<text xml:space=\"preserve\" text-anchor=\"middle\" x=\"74.71\" y=\"-134.2\" font-family=\"Arial\" font-size=\"24.00\">s0</text>\n<text xml:space=\"preserve\" text-anchor=\"middle\" x=\"74.71\" y=\"-107.2\" font-family=\"Arial\" font-size=\"24.00\">V =3.78</text>\n</g>\n<!-- s0&#45;a0 -->\n<g id=\"node2\" class=\"node\">\n<title>s0&#45;a0</title>\n<ellipse fill=\"lightpink\" stroke=\"lightpink\" cx=\"262.14\" cy=\"-160\" rx=\"27.22\" ry=\"27.22\"/>\n<text xml:space=\"preserve\" text-anchor=\"middle\" x=\"262.14\" y=\"-152.62\" font-family=\"Arial\" font-size=\"20.00\">a0</text>\n</g>\n<!-- s0&#45;&gt;s0&#45;a0 -->\n<g id=\"edge1\" class=\"edge\">\n<title>s0&#45;&gt;s0&#45;a0</title>\n<path fill=\"none\" stroke=\"red\" stroke-width=\"2\" d=\"M149.56,-133.84C171.43,-135.91 195.3,-139.1 216.92,-144 219.88,-144.67 222.91,-145.48 225.93,-146.38\"/>\n<polygon fill=\"red\" stroke=\"red\" stroke-width=\"2\" points=\"223.21,-149.17 233.8,-148.98 225.4,-142.52 223.21,-149.17\"/>\n</g>\n<!-- s0&#45;a1 -->\n<g id=\"node4\" class=\"node\">\n<title>s0&#45;a1</title>\n<ellipse fill=\"lightpink\" stroke=\"lightpink\" cx=\"262.14\" cy=\"-232\" rx=\"27.22\" ry=\"27.22\"/>\n<text xml:space=\"preserve\" text-anchor=\"middle\" x=\"262.14\" y=\"-224.62\" font-family=\"Arial\" font-size=\"20.00\">a1</text>\n</g>\n<!-- s0&#45;&gt;s0&#45;a1 -->\n<g id=\"edge4\" class=\"edge\">\n<title>s0&#45;&gt;s0&#45;a1</title>\n<path fill=\"none\" stroke=\"red\" stroke-width=\"2\" d=\"M143.18,-160.59C173.08,-176.49 206.78,-195.47 230.47,-209.96\"/>\n<polygon fill=\"red\" stroke=\"red\" stroke-width=\"2\" points=\"227.07,-211.96 237.41,-214.27 230.77,-206.02 227.07,-211.96\"/>\n</g>\n<!-- s0&#45;&gt;s0&#45;a1 -->\n<g id=\"edge20\" class=\"edge\">\n<title>s0&#45;&gt;s0&#45;a1</title>\n<path fill=\"none\" stroke=\"green\" stroke-width=\"6\" d=\"M137.97,-170.66C165.72,-186.56 197.57,-203.81 221.93,-216.06\"/>\n<polygon fill=\"green\" stroke=\"green\" stroke-width=\"6\" points=\"219.29,-220.61 230.58,-220.3 223.92,-211.19 219.29,-220.61\"/>\n</g>\n<!-- s0&#45;a0&#45;&gt;s0 -->\n<g id=\"edge2\" class=\"edge\">\n<title>s0&#45;a0&#45;&gt;s0</title>\n<path fill=\"none\" stroke=\"blue\" stroke-dasharray=\"5,2\" d=\"M234.93,-155.76C215.22,-152.57 187.06,-148.01 159.88,-143.62\"/>\n<polygon fill=\"blue\" stroke=\"blue\" points=\"160.66,-140.2 150.23,-142.06 159.54,-147.11 160.66,-140.2\"/>\n<text xml:space=\"preserve\" text-anchor=\"middle\" x=\"192.17\" y=\"-156.3\" font-family=\"Arial\" font-size=\"16.00\">p = 0.5</text>\n</g>\n<!-- s2 -->\n<g id=\"node3\" class=\"node\">\n<title>s2</title>\n<ellipse fill=\"#85ff75\" stroke=\"#85ff75\" cx=\"535.08\" cy=\"-208\" rx=\"70.71\" ry=\"70.71\"/>\n<ellipse fill=\"none\" stroke=\"#85ff75\" cx=\"535.08\" cy=\"-208\" rx=\"74.71\" ry=\"74.71\"/>\n<text xml:space=\"preserve\" text-anchor=\"middle\" x=\"535.08\" y=\"-212.2\" font-family=\"Arial\" font-size=\"24.00\">s2</text>\n<text xml:space=\"preserve\" text-anchor=\"middle\" x=\"535.08\" y=\"-185.2\" font-family=\"Arial\" font-size=\"24.00\">V =4.20</text>\n</g>\n<!-- s0&#45;a0&#45;&gt;s2 -->\n<g id=\"edge3\" class=\"edge\">\n<title>s0&#45;a0&#45;&gt;s2</title>\n<path fill=\"none\" stroke=\"blue\" stroke-dasharray=\"5,2\" d=\"M289.12,-164.6C325.8,-171.1 394.46,-183.26 449.78,-193.06\"/>\n<polygon fill=\"blue\" stroke=\"blue\" points=\"449.06,-196.49 459.52,-194.79 450.28,-189.6 449.06,-196.49\"/>\n<text xml:space=\"preserve\" text-anchor=\"middle\" x=\"374.87\" y=\"-194.65\" font-family=\"Arial\" font-size=\"16.00\">p = 0.5</text>\n</g>\n<!-- s2&#45;a0 -->\n<g id=\"node8\" class=\"node\">\n<title>s2&#45;a0</title>\n<ellipse fill=\"lightpink\" stroke=\"lightpink\" cx=\"802.76\" cy=\"-183\" rx=\"27.22\" ry=\"27.22\"/>\n<text xml:space=\"preserve\" text-anchor=\"middle\" x=\"802.76\" y=\"-175.62\" font-family=\"Arial\" font-size=\"20.00\">a0</text>\n</g>\n<!-- s2&#45;&gt;s2&#45;a0 -->\n<g id=\"edge13\" class=\"edge\">\n<title>s2&#45;&gt;s2&#45;a0</title>\n<path fill=\"none\" stroke=\"red\" stroke-width=\"2\" d=\"M609.92,-212.15C653.36,-212.99 709.09,-211.28 757.54,-201 760.73,-200.32 763.99,-199.43 767.22,-198.4\"/>\n<polygon fill=\"red\" stroke=\"red\" stroke-width=\"2\" points=\"766.88,-202.25 775.08,-195.54 764.49,-195.67 766.88,-202.25\"/>\n</g>\n<!-- s2&#45;a1 -->\n<g id=\"node9\" class=\"node\">\n<title>s2&#45;a1</title>\n<ellipse fill=\"lightpink\" stroke=\"lightpink\" cx=\"802.76\" cy=\"-111\" rx=\"27.22\" ry=\"27.22\"/>\n<text xml:space=\"preserve\" text-anchor=\"middle\" x=\"802.76\" y=\"-103.62\" font-family=\"Arial\" font-size=\"20.00\">a1</text>\n</g>\n<!-- s2&#45;&gt;s2&#45;a1 -->\n<g id=\"edge16\" class=\"edge\">\n<title>s2&#45;&gt;s2&#45;a1</title>\n<path fill=\"none\" stroke=\"red\" stroke-width=\"2\" d=\"M600.5,-171.77C609.63,-168 618.92,-164.34 627.79,-161 674.52,-143.42 729.16,-125.27 764.56,-115.89\"/>\n<polygon fill=\"red\" stroke=\"red\" stroke-width=\"2\" points=\"763.57,-119.75 772.41,-113.91 761.85,-112.96 763.57,-119.75\"/>\n</g>\n<!-- s2&#45;&gt;s2&#45;a1 -->\n<g id=\"edge22\" class=\"edge\">\n<title>s2&#45;&gt;s2&#45;a1</title>\n<path fill=\"none\" stroke=\"green\" stroke-width=\"6\" d=\"M607.24,-186.94C614.16,-184.22 621.1,-181.52 627.79,-179 674.13,-161.57 728.23,-143.58 763.65,-130.12\"/>\n<polygon fill=\"green\" stroke=\"green\" stroke-width=\"6\" points=\"765.13,-135.18 772.51,-126.63 761.28,-125.41 765.13,-135.18\"/>\n</g>\n<!-- s0&#45;a1&#45;&gt;s2 -->\n<g id=\"edge5\" class=\"edge\">\n<title>s0&#45;a1&#45;&gt;s2</title>\n<path fill=\"none\" stroke=\"blue\" stroke-dasharray=\"5,2\" d=\"M289.62,-229.66C326.24,-226.41 394.07,-220.4 449,-215.54\"/>\n<polygon fill=\"blue\" stroke=\"blue\" points=\"448.99,-219.05 458.65,-214.68 448.38,-212.08 448.99,-219.05\"/>\n<text xml:space=\"preserve\" text-anchor=\"middle\" x=\"374.87\" y=\"-231.53\" font-family=\"Arial\" font-size=\"16.00\">p = 1</text>\n</g>\n<!-- s1 -->\n<g id=\"node5\" class=\"node\">\n<title>s1</title>\n<ellipse fill=\"#85ff75\" stroke=\"#85ff75\" cx=\"999.2\" cy=\"-124\" rx=\"70.71\" ry=\"70.71\"/>\n<ellipse fill=\"none\" stroke=\"#85ff75\" cx=\"999.2\" cy=\"-124\" rx=\"74.71\" ry=\"74.71\"/>\n<text xml:space=\"preserve\" text-anchor=\"middle\" x=\"999.2\" y=\"-128.2\" font-family=\"Arial\" font-size=\"24.00\">s1</text>\n<text xml:space=\"preserve\" text-anchor=\"middle\" x=\"999.2\" y=\"-101.2\" font-family=\"Arial\" font-size=\"24.00\">V =7.29</text>\n</g>\n<!-- s1&#45;a0 -->\n<g id=\"node6\" class=\"node\">\n<title>s1&#45;a0</title>\n<ellipse fill=\"lightpink\" stroke=\"lightpink\" cx=\"1195.63\" cy=\"-123\" rx=\"27.22\" ry=\"27.22\"/>\n<text xml:space=\"preserve\" text-anchor=\"middle\" x=\"1195.63\" y=\"-115.62\" font-family=\"Arial\" font-size=\"20.00\">a0</text>\n</g>\n<!-- s1&#45;&gt;s1&#45;a0 -->\n<g id=\"edge6\" class=\"edge\">\n<title>s1&#45;&gt;s1&#45;a0</title>\n<path fill=\"none\" stroke=\"red\" stroke-width=\"2\" d=\"M1073.98,-117.05C1102.47,-116.46 1133.82,-116.68 1157.42,-117.75\"/>\n<polygon fill=\"red\" stroke=\"red\" stroke-width=\"2\" points=\"1155.46,-121.15 1165.64,-118.2 1155.85,-114.16 1155.46,-121.15\"/>\n</g>\n<!-- s1&#45;&gt;s1&#45;a0 -->\n<g id=\"edge21\" class=\"edge\">\n<title>s1&#45;&gt;s1&#45;a0</title>\n<path fill=\"none\" stroke=\"green\" stroke-width=\"6\" d=\"M1073.98,-130.19C1100.52,-130.47 1129.54,-130.02 1152.46,-128.89\"/>\n<polygon fill=\"green\" stroke=\"green\" stroke-width=\"6\" points=\"1152.56,-134.15 1162.22,-128.3 1151.92,-123.67 1152.56,-134.15\"/>\n</g>\n<!-- s1&#45;a1 -->\n<g id=\"node7\" class=\"node\">\n<title>s1&#45;a1</title>\n<ellipse fill=\"lightpink\" stroke=\"lightpink\" cx=\"1195.63\" cy=\"-195\" rx=\"27.22\" ry=\"27.22\"/>\n<text xml:space=\"preserve\" text-anchor=\"middle\" x=\"1195.63\" y=\"-187.62\" font-family=\"Arial\" font-size=\"20.00\">a1</text>\n</g>\n<!-- s1&#45;&gt;s1&#45;a1 -->\n<g id=\"edge10\" class=\"edge\">\n<title>s1&#45;&gt;s1&#45;a1</title>\n<path fill=\"none\" stroke=\"red\" stroke-width=\"2\" d=\"M1071.15,-145.65C1096.41,-153.87 1124.91,-163.75 1150.41,-174 1153.8,-175.36 1157.3,-176.86 1160.77,-178.41\"/>\n<polygon fill=\"red\" stroke=\"red\" stroke-width=\"2\" points=\"1157.7,-180.85 1168.25,-181.86 1160.64,-174.49 1157.7,-180.85\"/>\n</g>\n<!-- s1&#45;a0&#45;&gt;s0 -->\n<g id=\"edge7\" class=\"edge\">\n<title>s1&#45;a0&#45;&gt;s0</title>\n<path fill=\"none\" stroke=\"blue\" stroke-dasharray=\"5,2\" d=\"M1177.41,-102.41C1146.06,-67.4 1075.89,0 1000.2,0 261.14,0 261.14,0 261.14,0 210.91,0 164.64,-32.38 130.88,-64.82\"/>\n<polygon fill=\"blue\" stroke=\"blue\" points=\"128.73,-62.02 124.08,-71.54 133.65,-66.99 128.73,-62.02\"/>\n<text xml:space=\"preserve\" text-anchor=\"middle\" x=\"692.66\" y=\"-3.55\" font-family=\"Arial\" font-size=\"16.00\">p = 0.7 &#160;reward =5</text>\n</g>\n<!-- s1&#45;a0&#45;&gt;s2 -->\n<g id=\"edge9\" class=\"edge\">\n<title>s1&#45;a0&#45;&gt;s2</title>\n<path fill=\"none\" stroke=\"blue\" stroke-dasharray=\"5,2\" d=\"M1177.76,-144.04C1174.39,-148.79 1171.07,-153.94 1168.41,-159 1157.21,-180.27 1169.83,-195.84 1150.41,-210 1068.45,-269.73 769.25,-239.61 620.8,-220.18\"/>\n<polygon fill=\"blue\" stroke=\"blue\" points=\"621.38,-216.72 611.01,-218.88 620.46,-223.66 621.38,-216.72\"/>\n<text xml:space=\"preserve\" text-anchor=\"middle\" x=\"877.24\" y=\"-248.21\" font-family=\"Arial\" font-size=\"16.00\">p = 0.2</text>\n</g>\n<!-- s1&#45;a0&#45;&gt;s1 -->\n<g id=\"edge8\" class=\"edge\">\n<title>s1&#45;a0&#45;&gt;s1</title>\n<path fill=\"none\" stroke=\"blue\" stroke-dasharray=\"5,2\" d=\"M1172.03,-108.78C1165.33,-105.29 1157.79,-102.04 1150.41,-100.25 1128.35,-94.91 1104.16,-95.83 1081.77,-99.42\"/>\n<polygon fill=\"blue\" stroke=\"blue\" points=\"1081.29,-95.95 1072.08,-101.18 1082.54,-102.83 1081.29,-95.95\"/>\n<text xml:space=\"preserve\" text-anchor=\"middle\" x=\"1121.16\" y=\"-103.8\" font-family=\"Arial\" font-size=\"16.00\">p = 0.1</text>\n</g>\n<!-- s1&#45;a1&#45;&gt;s2 -->\n<g id=\"edge12\" class=\"edge\">\n<title>s1&#45;a1&#45;&gt;s2</title>\n<path fill=\"none\" stroke=\"blue\" stroke-dasharray=\"5,2\" d=\"M1183.09,-219.47C1175.68,-232.2 1164.74,-246.61 1150.41,-254 943.96,-360.45 853.07,-310.58 627.79,-254 622.26,-252.61 616.69,-250.85 611.16,-248.84\"/>\n<polygon fill=\"blue\" stroke=\"blue\" points=\"612.6,-245.64 602.01,-245.23 610.03,-252.15 612.6,-245.64\"/>\n<text xml:space=\"preserve\" text-anchor=\"middle\" x=\"877.24\" y=\"-319.21\" font-family=\"Arial\" font-size=\"16.00\">p = 0.05</text>\n</g>\n<!-- s1&#45;a1&#45;&gt;s1 -->\n<g id=\"edge11\" class=\"edge\">\n<title>s1&#45;a1&#45;&gt;s1</title>\n<path fill=\"none\" stroke=\"blue\" stroke-dasharray=\"5,2\" d=\"M1168.34,-191.07C1147.26,-187.45 1117.13,-181.24 1091.91,-172 1086.32,-169.95 1080.64,-167.63 1074.99,-165.14\"/>\n<polygon fill=\"blue\" stroke=\"blue\" points=\"1076.8,-162.12 1066.25,-161.13 1073.88,-168.48 1076.8,-162.12\"/>\n<text xml:space=\"preserve\" text-anchor=\"middle\" x=\"1121.16\" y=\"-191.14\" font-family=\"Arial\" font-size=\"16.00\">p = 0.95</text>\n</g>\n<!-- s2&#45;a0&#45;&gt;s0 -->\n<g id=\"edge14\" class=\"edge\">\n<title>s2&#45;a0&#45;&gt;s0</title>\n<path fill=\"none\" stroke=\"blue\" stroke-dasharray=\"5,2\" d=\"M777.16,-172.83C741.16,-158.56 671.68,-133.3 609.79,-124 452.52,-100.38 266.28,-111.1 160.46,-120.75\"/>\n<polygon fill=\"blue\" stroke=\"blue\" points=\"160.36,-117.24 150.72,-121.66 161.01,-124.21 160.36,-117.24\"/>\n<text xml:space=\"preserve\" text-anchor=\"middle\" x=\"374.87\" y=\"-114.78\" font-family=\"Arial\" font-size=\"16.00\">p = 0.4</text>\n</g>\n<!-- s2&#45;a0&#45;&gt;s2 -->\n<g id=\"edge15\" class=\"edge\">\n<title>s2&#45;a0&#45;&gt;s2</title>\n<path fill=\"none\" stroke=\"blue\" stroke-dasharray=\"5,2\" d=\"M775.34,-179.29C741.07,-175.15 679.57,-170.06 627.79,-178.25 624.19,-178.82 620.55,-179.51 616.88,-180.29\"/>\n<polygon fill=\"blue\" stroke=\"blue\" points=\"616.28,-176.83 607.35,-182.54 617.89,-183.64 616.28,-176.83\"/>\n<text xml:space=\"preserve\" text-anchor=\"middle\" x=\"692.66\" y=\"-181.8\" font-family=\"Arial\" font-size=\"16.00\">p = 0.6</text>\n</g>\n<!-- s2&#45;a1&#45;&gt;s0 -->\n<g id=\"edge17\" class=\"edge\">\n<title>s2&#45;a1&#45;&gt;s0</title>\n<path fill=\"none\" stroke=\"blue\" stroke-dasharray=\"5,2\" d=\"M779.61,-96.6C772.79,-92.83 765.09,-89.21 757.54,-87 565.27,-30.74 506.81,-45.36 307.37,-64.25 244.33,-70.22 228,-72.56 167.42,-91 162.95,-92.36 158.41,-93.87 153.85,-95.48\"/>\n<polygon fill=\"blue\" stroke=\"blue\" points=\"152.82,-92.13 144.64,-98.87 155.24,-98.69 152.82,-92.13\"/>\n<text xml:space=\"preserve\" text-anchor=\"middle\" x=\"374.87\" y=\"-67.8\" font-family=\"Arial\" font-size=\"16.00\">p = 0.3 &#160;reward =&#45;1</text>\n</g>\n<!-- s2&#45;a1&#45;&gt;s2 -->\n<g id=\"edge19\" class=\"edge\">\n<title>s2&#45;a1&#45;&gt;s2</title>\n<path fill=\"none\" stroke=\"blue\" stroke-dasharray=\"5,2\" d=\"M776.51,-103.01C741.4,-93.38 676.66,-81.08 627.79,-103.25 611.11,-110.82 596.27,-123.08 583.64,-136.6\"/>\n<polygon fill=\"blue\" stroke=\"blue\" points=\"581.08,-134.21 577.07,-144.01 586.32,-138.85 581.08,-134.21\"/>\n<text xml:space=\"preserve\" text-anchor=\"middle\" x=\"692.66\" y=\"-106.8\" font-family=\"Arial\" font-size=\"16.00\">p = 0.4</text>\n</g>\n<!-- s2&#45;a1&#45;&gt;s1 -->\n<g id=\"edge18\" class=\"edge\">\n<title>s2&#45;a1&#45;&gt;s1</title>\n<path fill=\"none\" stroke=\"blue\" stroke-dasharray=\"5,2\" d=\"M830.39,-112.78C851.79,-114.21 883.08,-116.3 912.86,-118.29\"/>\n<polygon fill=\"blue\" stroke=\"blue\" points=\"912.46,-121.78 922.67,-118.95 912.92,-114.79 912.46,-121.78\"/>\n<text xml:space=\"preserve\" text-anchor=\"middle\" x=\"877.24\" y=\"-121.05\" font-family=\"Arial\" font-size=\"16.00\">p = 0.3</text>\n</g>\n</g>\n</svg>\n",
      "text/plain": [
       "<graphviz.graphs.Digraph at 0x23e18509480>"
      ]
     },
     "metadata": {},
     "output_type": "display_data"
    }
   ],
   "execution_count": 16
  },
  {
   "cell_type": "code",
   "metadata": {
    "ExecuteTime": {
     "end_time": "2025-08-22T10:10:09.374842Z",
     "start_time": "2025-08-22T10:10:09.199432Z"
    }
   },
   "source": [
    "# Measure agent's average reward\n",
    "\n",
    "s = mdp.reset()\n",
    "rewards = []\n",
    "for _ in range(10000):\n",
    "    s, r, done, _ = mdp.step(get_optimal_action(mdp, state_values, s, gamma))\n",
    "    rewards.append(r)\n",
    "\n",
    "print(\"average reward: \", np.mean(rewards))\n",
    "\n",
    "assert(0.40 < np.mean(rewards) < 0.55)"
   ],
   "outputs": [
    {
     "name": "stdout",
     "output_type": "stream",
     "text": [
      "average reward:  0.4889\n"
     ]
    }
   ],
   "execution_count": 17
  },
  {
   "cell_type": "markdown",
   "metadata": {},
   "source": [
    "### Frozen lake"
   ]
  },
  {
   "cell_type": "code",
   "metadata": {
    "ExecuteTime": {
     "end_time": "2025-08-22T10:10:09.381243Z",
     "start_time": "2025-08-22T10:10:09.378734Z"
    }
   },
   "source": [
    "from mdp import FrozenLakeEnv\n",
    "mdp = FrozenLakeEnv(slip_chance=0)\n",
    "\n",
    "mdp.render()"
   ],
   "outputs": [
    {
     "name": "stdout",
     "output_type": "stream",
     "text": [
      "*FFF\n",
      "FHFH\n",
      "FFFH\n",
      "HFFG\n",
      "\n"
     ]
    }
   ],
   "execution_count": 18
  },
  {
   "cell_type": "code",
   "metadata": {
    "ExecuteTime": {
     "end_time": "2025-08-22T10:10:09.397439Z",
     "start_time": "2025-08-22T10:10:09.394234Z"
    }
   },
   "source": [
    "def value_iteration(mdp, state_values=None, gamma=0.9, num_iter=1000, min_difference=1e-5):\n",
    "    \"\"\" performs num_iter value iteration steps starting from state_values. Same as before but in a function \"\"\"\n",
    "    state_values = state_values or {s: 0 for s in mdp.get_all_states()}\n",
    "    for i in range(num_iter):\n",
    "\n",
    "        # Compute new state values using the functions you defined above. It must be a dict {state : new_V(state)}\n",
    "        new_state_values  = {\n",
    "        state: get_new_state_value(mdp, state_values, state, gamma)\n",
    "        for state in mdp.get_all_states()\n",
    "    }\n",
    "\n",
    "        assert isinstance(new_state_values, dict)\n",
    "\n",
    "        # Compute difference\n",
    "        diff = max(abs(new_state_values[s] - state_values[s])\n",
    "                   for s in mdp.get_all_states())\n",
    "\n",
    "        print(\"iter %4i   |   diff: %6.5f   |   V(start): %.3f \" %\n",
    "              (i, diff, new_state_values[mdp._initial_state]))\n",
    "\n",
    "        state_values = new_state_values\n",
    "        if diff < min_difference:\n",
    "            break\n",
    "\n",
    "    return state_values"
   ],
   "outputs": [],
   "execution_count": 19
  },
  {
   "cell_type": "code",
   "metadata": {
    "ExecuteTime": {
     "end_time": "2025-08-22T10:10:09.410783Z",
     "start_time": "2025-08-22T10:10:09.407888Z"
    }
   },
   "source": [
    "state_values = value_iteration(mdp)"
   ],
   "outputs": [
    {
     "name": "stdout",
     "output_type": "stream",
     "text": [
      "iter    0   |   diff: 1.00000   |   V(start): 0.000 \n",
      "iter    1   |   diff: 0.90000   |   V(start): 0.000 \n",
      "iter    2   |   diff: 0.81000   |   V(start): 0.000 \n",
      "iter    3   |   diff: 0.72900   |   V(start): 0.000 \n",
      "iter    4   |   diff: 0.65610   |   V(start): 0.000 \n",
      "iter    5   |   diff: 0.59049   |   V(start): 0.590 \n",
      "iter    6   |   diff: 0.00000   |   V(start): 0.590 \n"
     ]
    }
   ],
   "execution_count": 20
  },
  {
   "cell_type": "code",
   "metadata": {
    "ExecuteTime": {
     "end_time": "2025-08-22T10:10:09.417849Z",
     "start_time": "2025-08-22T10:10:09.414626Z"
    }
   },
   "source": [
    "s = mdp.reset()\n",
    "mdp.render()\n",
    "for t in range(100):\n",
    "    a = get_optimal_action(mdp, state_values, s, gamma)\n",
    "    print(a, end='\\n\\n')\n",
    "    s, r, done, _ = mdp.step(a)\n",
    "    mdp.render()\n",
    "    if done:\n",
    "        break"
   ],
   "outputs": [
    {
     "name": "stdout",
     "output_type": "stream",
     "text": [
      "*FFF\n",
      "FHFH\n",
      "FFFH\n",
      "HFFG\n",
      "\n",
      "down\n",
      "\n",
      "SFFF\n",
      "*HFH\n",
      "FFFH\n",
      "HFFG\n",
      "\n",
      "down\n",
      "\n",
      "SFFF\n",
      "FHFH\n",
      "*FFH\n",
      "HFFG\n",
      "\n",
      "right\n",
      "\n",
      "SFFF\n",
      "FHFH\n",
      "F*FH\n",
      "HFFG\n",
      "\n",
      "down\n",
      "\n",
      "SFFF\n",
      "FHFH\n",
      "FFFH\n",
      "H*FG\n",
      "\n",
      "right\n",
      "\n",
      "SFFF\n",
      "FHFH\n",
      "FFFH\n",
      "HF*G\n",
      "\n",
      "right\n",
      "\n",
      "SFFF\n",
      "FHFH\n",
      "FFFH\n",
      "HFF*\n",
      "\n"
     ]
    }
   ],
   "execution_count": 21
  },
  {
   "cell_type": "markdown",
   "metadata": {},
   "source": [
    "### Let's visualize!\n",
    "\n",
    "It's usually interesting to see what your algorithm actually learned under the hood. To do so, we'll plot state value functions and optimal actions at each VI step."
   ]
  },
  {
   "cell_type": "code",
   "metadata": {
    "ExecuteTime": {
     "end_time": "2025-08-22T10:10:09.704474Z",
     "start_time": "2025-08-22T10:10:09.439978Z"
    }
   },
   "source": [
    "import matplotlib.pyplot as plt\n",
    "%matplotlib inline\n",
    "\n",
    "\n",
    "def draw_policy(mdp, state_values):\n",
    "    plt.figure(figsize=(3, 3))\n",
    "    h, w = mdp.desc.shape\n",
    "    states = sorted(mdp.get_all_states())\n",
    "    V = np.array([state_values[s] for s in states])\n",
    "    Pi = {s: get_optimal_action(mdp, state_values, s, gamma) for s in states}\n",
    "    plt.imshow(V.reshape(w, h), cmap='gray', interpolation='none', clim=(0, 1))\n",
    "    ax = plt.gca()\n",
    "    ax.set_xticks(np.arange(h)-.5)\n",
    "    ax.set_yticks(np.arange(w)-.5)\n",
    "    ax.set_xticklabels([])\n",
    "    ax.set_yticklabels([])\n",
    "    Y, X = np.mgrid[0:4, 0:4]\n",
    "    a2uv = {'left': (-1, 0), 'down': (0, -1), 'right': (1, 0), 'up': (0, 1)}\n",
    "    for y in range(h):\n",
    "        for x in range(w):\n",
    "            plt.text(x, y, str(mdp.desc[y, x].item()),\n",
    "                     color='g', size=12,  verticalalignment='center',\n",
    "                     horizontalalignment='center', fontweight='bold')\n",
    "            a = Pi[y, x]\n",
    "            if a is None:\n",
    "                continue\n",
    "            u, v = a2uv[a]\n",
    "            plt.arrow(x, y, u*.3, -v*.3, color='m',\n",
    "                      head_width=0.1, head_length=0.1)\n",
    "    plt.grid(color='b', lw=2, ls='-')\n",
    "    plt.show()"
   ],
   "outputs": [],
   "execution_count": 22
  },
  {
   "cell_type": "code",
   "metadata": {
    "ExecuteTime": {
     "end_time": "2025-08-22T10:10:10.178199Z",
     "start_time": "2025-08-22T10:10:09.711594Z"
    }
   },
   "source": [
    "state_values = {s: 0 for s in mdp.get_all_states()}\n",
    "\n",
    "for i in range(10):\n",
    "    print(\"after iteration %i\" % i)\n",
    "    state_values = value_iteration(mdp, state_values, num_iter=1)\n",
    "    draw_policy(mdp, state_values)\n",
    "# please ignore iter 0 at each step"
   ],
   "outputs": [
    {
     "name": "stdout",
     "output_type": "stream",
     "text": [
      "after iteration 0\n",
      "iter    0   |   diff: 1.00000   |   V(start): 0.000 \n"
     ]
    },
    {
     "data": {
      "text/plain": [
       "<Figure size 300x300 with 1 Axes>"
      ],
      "image/png": "[encoded data removed]"
     },
     "metadata": {},
     "output_type": "display_data"
    },
    {
     "name": "stdout",
     "output_type": "stream",
     "text": [
      "after iteration 1\n",
      "iter    0   |   diff: 0.90000   |   V(start): 0.000 \n"
     ]
    },
    {
     "data": {
      "text/plain": [
       "<Figure size 300x300 with 1 Axes>"
      ],
      "image/png": "[encoded data removed]"
     },
     "metadata": {},
     "output_type": "display_data"
    },
    {
     "name": "stdout",
     "output_type": "stream",
     "text": [
      "after iteration 2\n",
      "iter    0   |   diff: 0.81000   |   V(start): 0.000 \n"
     ]
    },
    {
     "data": {
      "text/plain": [
       "<Figure size 300x300 with 1 Axes>"
      ],
      "image/png": "[encoded data removed]"
     },
     "metadata": {},
     "output_type": "display_data"
    },
    {
     "name": "stdout",
     "output_type": "stream",
     "text": [
      "after iteration 3\n",
      "iter    0   |   diff: 0.72900   |   V(start): 0.000 \n"
     ]
    },
    {
     "data": {
      "text/plain": [
       "<Figure size 300x300 with 1 Axes>"
      ],
      "image/png": "[encoded data removed]"
     },
     "metadata": {},
     "output_type": "display_data"
    },
    {
     "name": "stdout",
     "output_type": "stream",
     "text": [
      "after iteration 4\n",
      "iter    0   |   diff: 0.65610   |   V(start): 0.000 \n"
     ]
    },
    {
     "data": {
      "text/plain": [
       "<Figure size 300x300 with 1 Axes>"
      ],
      "image/png": "[encoded data removed]"
     },
     "metadata": {},
     "output_type": "display_data"
    },
    {
     "name": "stdout",
     "output_type": "stream",
     "text": [
      "after iteration 5\n",
      "iter    0   |   diff: 0.59049   |   V(start): 0.590 \n"
     ]
    },
    {
     "data": {
      "text/plain": [
       "<Figure size 300x300 with 1 Axes>"
      ],
      "image/png": "[encoded data removed]"
     },
     "metadata": {},
     "output_type": "display_data"
    },
    {
     "name": "stdout",
     "output_type": "stream",
     "text": [
      "after iteration 6\n",
      "iter    0   |   diff: 0.00000   |   V(start): 0.590 \n"
     ]
    },
    {
     "data": {
      "text/plain": [
       "<Figure size 300x300 with 1 Axes>"
      ],
      "image/png": "[encoded data removed]"
     },
     "metadata": {},
     "output_type": "display_data"
    },
    {
     "name": "stdout",
     "output_type": "stream",
     "text": [
      "after iteration 7\n",
      "iter    0   |   diff: 0.00000   |   V(start): 0.590 \n"
     ]
    },
    {
     "data": {
      "text/plain": [
       "<Figure size 300x300 with 1 Axes>"
      ],
      "image/png": "[encoded data removed]"
     },
     "metadata": {},
     "output_type": "display_data"
    },
    {
     "name": "stdout",
     "output_type": "stream",
     "text": [
      "after iteration 8\n",
      "iter    0   |   diff: 0.00000   |   V(start): 0.590 \n"
     ]
    },
    {
     "data": {
      "text/plain": [
       "<Figure size 300x300 with 1 Axes>"
      ],
      "image/png": "[encoded data removed]"
     },
     "metadata": {},
     "output_type": "display_data"
    },
    {
     "name": "stdout",
     "output_type": "stream",
     "text": [
      "after iteration 9\n",
      "iter    0   |   diff: 0.00000   |   V(start): 0.590 \n"
     ]
    },
    {
     "data": {
      "text/plain": [
       "<Figure size 300x300 with 1 Axes>"
      ],
      "image/png": "[encoded data removed]"
     },
     "metadata": {},
     "output_type": "display_data"
    }
   ],
   "execution_count": 23
  },
  {
   "cell_type": "code",
   "metadata": {},
   "source": [
    "from IPython.display import clear_output\n",
    "from time import sleep\n",
    "mdp = FrozenLakeEnv(map_name='8x8', slip_chance=0.1)\n",
    "state_values = {s: 0 for s in mdp.get_all_states()}\n",
    "\n",
    "for i in range(30):\n",
    "    clear_output(True)\n",
    "    print(\"after iteration %i\" % i)\n",
    "    state_values = value_iteration(mdp, state_values, num_iter=1)\n",
    "    draw_policy(mdp, state_values)\n",
    "    sleep(0.5)\n",
    "# please ignore iter 0 at each step"
   ],
   "execution_count": 24,
   "outputs": [
    {
     "data": {
      "text/plain": [
       "<Figure size 300x300 with 1 Axes>"
      ],
      "image/png": "[encoded data removed]"
     },
     "metadata": {},
     "output_type": "display_data"
    }
   ]
  },
  {
   "cell_type": "markdown",
   "metadata": {},
   "source": [
    "Massive tests"
   ]
  },
  {
   "cell_type": "code",
   "metadata": {
    "ExecuteTime": {
     "end_time": "2025-08-22T10:10:28.258972Z",
     "start_time": "2025-08-22T10:10:28.103683Z"
    }
   },
   "source": [
    "mdp = FrozenLakeEnv(slip_chance=0)\n",
    "state_values = value_iteration(mdp)\n",
    "\n",
    "total_rewards = []\n",
    "for game_i in range(1000):\n",
    "    s = mdp.reset()\n",
    "    rewards = []\n",
    "    for t in range(100):\n",
    "        s, r, done, _ = mdp.step(\n",
    "            get_optimal_action(mdp, state_values, s, gamma))\n",
    "        rewards.append(r)\n",
    "        if done:\n",
    "            break\n",
    "    total_rewards.append(np.sum(rewards))\n",
    "\n",
    "print(\"average reward: \", np.mean(total_rewards))\n",
    "assert(1.0 <= np.mean(total_rewards) <= 1.0)\n",
    "print(\"Well done!\")"
   ],
   "outputs": [
    {
     "name": "stdout",
     "output_type": "stream",
     "text": [
      "iter    0   |   diff: 1.00000   |   V(start): 0.000 \n",
      "iter    1   |   diff: 0.90000   |   V(start): 0.000 \n",
      "iter    2   |   diff: 0.81000   |   V(start): 0.000 \n",
      "iter    3   |   diff: 0.72900   |   V(start): 0.000 \n",
      "iter    4   |   diff: 0.65610   |   V(start): 0.000 \n",
      "iter    5   |   diff: 0.59049   |   V(start): 0.590 \n",
      "iter    6   |   diff: 0.00000   |   V(start): 0.590 \n",
      "average reward:  1.0\n",
      "Well done!\n"
     ]
    }
   ],
   "execution_count": 25
  },
  {
   "cell_type": "code",
   "metadata": {
    "ExecuteTime": {
     "end_time": "2025-08-22T10:10:28.470105Z",
     "start_time": "2025-08-22T10:10:28.263765Z"
    }
   },
   "source": [
    "# Measure agent's average reward\n",
    "mdp = FrozenLakeEnv(slip_chance=0.1)\n",
    "state_values = value_iteration(mdp)\n",
    "\n",
    "total_rewards = []\n",
    "for game_i in range(1000):\n",
    "    s = mdp.reset()\n",
    "    rewards = []\n",
    "    for t in range(100):\n",
    "        s, r, done, _ = mdp.step(\n",
    "            get_optimal_action(mdp, state_values, s, gamma))\n",
    "        rewards.append(r)\n",
    "        if done:\n",
    "            break\n",
    "    total_rewards.append(np.sum(rewards))\n",
    "\n",
    "print(\"average reward: \", np.mean(total_rewards))\n",
    "assert(0.8 <= np.mean(total_rewards) <= 0.95)\n",
    "print(\"Well done!\")"
   ],
   "outputs": [
    {
     "name": "stdout",
     "output_type": "stream",
     "text": [
      "iter    0   |   diff: 0.90000   |   V(start): 0.000 \n",
      "iter    1   |   diff: 0.72900   |   V(start): 0.000 \n",
      "iter    2   |   diff: 0.62330   |   V(start): 0.000 \n",
      "iter    3   |   diff: 0.50487   |   V(start): 0.000 \n",
      "iter    4   |   diff: 0.40894   |   V(start): 0.000 \n",
      "iter    5   |   diff: 0.34868   |   V(start): 0.349 \n",
      "iter    6   |   diff: 0.06529   |   V(start): 0.410 \n",
      "iter    7   |   diff: 0.05832   |   V(start): 0.468 \n",
      "iter    8   |   diff: 0.01139   |   V(start): 0.480 \n",
      "iter    9   |   diff: 0.00764   |   V(start): 0.487 \n",
      "iter   10   |   diff: 0.00164   |   V(start): 0.489 \n",
      "iter   11   |   diff: 0.00094   |   V(start): 0.490 \n",
      "iter   12   |   diff: 0.00022   |   V(start): 0.490 \n",
      "iter   13   |   diff: 0.00011   |   V(start): 0.490 \n",
      "iter   14   |   diff: 0.00003   |   V(start): 0.490 \n",
      "iter   15   |   diff: 0.00001   |   V(start): 0.490 \n",
      "iter   16   |   diff: 0.00000   |   V(start): 0.490 \n",
      "average reward:  0.883\n",
      "Well done!\n"
     ]
    }
   ],
   "execution_count": 26
  },
  {
   "cell_type": "code",
   "metadata": {
    "ExecuteTime": {
     "end_time": "2025-08-22T10:10:28.667834Z",
     "start_time": "2025-08-22T10:10:28.475795Z"
    }
   },
   "source": [
    "# Measure agent's average reward\n",
    "mdp = FrozenLakeEnv(slip_chance=0.25)\n",
    "state_values = value_iteration(mdp)\n",
    "\n",
    "total_rewards = []\n",
    "for game_i in range(1000):\n",
    "    s = mdp.reset()\n",
    "    rewards = []\n",
    "    for t in range(100):\n",
    "        s, r, done, _ = mdp.step(\n",
    "            get_optimal_action(mdp, state_values, s, gamma))\n",
    "        rewards.append(r)\n",
    "        if done:\n",
    "            break\n",
    "    total_rewards.append(np.sum(rewards))\n",
    "\n",
    "print(\"average reward: \", np.mean(total_rewards))\n",
    "assert(0.6 <= np.mean(total_rewards) <= 0.7)\n",
    "print(\"Well done!\")"
   ],
   "outputs": [
    {
     "name": "stdout",
     "output_type": "stream",
     "text": [
      "iter    0   |   diff: 0.75000   |   V(start): 0.000 \n",
      "iter    1   |   diff: 0.50625   |   V(start): 0.000 \n",
      "iter    2   |   diff: 0.39867   |   V(start): 0.000 \n",
      "iter    3   |   diff: 0.26910   |   V(start): 0.000 \n",
      "iter    4   |   diff: 0.18164   |   V(start): 0.000 \n",
      "iter    5   |   diff: 0.14013   |   V(start): 0.140 \n",
      "iter    6   |   diff: 0.07028   |   V(start): 0.199 \n",
      "iter    7   |   diff: 0.06030   |   V(start): 0.260 \n",
      "iter    8   |   diff: 0.02594   |   V(start): 0.285 \n",
      "iter    9   |   diff: 0.01918   |   V(start): 0.305 \n",
      "iter   10   |   diff: 0.00858   |   V(start): 0.313 \n",
      "iter   11   |   diff: 0.00560   |   V(start): 0.319 \n",
      "iter   12   |   diff: 0.00260   |   V(start): 0.321 \n",
      "iter   13   |   diff: 0.00159   |   V(start): 0.323 \n",
      "iter   14   |   diff: 0.00076   |   V(start): 0.324 \n",
      "iter   15   |   diff: 0.00045   |   V(start): 0.324 \n",
      "iter   16   |   diff: 0.00022   |   V(start): 0.324 \n",
      "iter   17   |   diff: 0.00012   |   V(start): 0.325 \n",
      "iter   18   |   diff: 0.00006   |   V(start): 0.325 \n",
      "iter   19   |   diff: 0.00003   |   V(start): 0.325 \n",
      "iter   20   |   diff: 0.00002   |   V(start): 0.325 \n",
      "iter   21   |   diff: 0.00001   |   V(start): 0.325 \n",
      "average reward:  0.647\n",
      "Well done!\n"
     ]
    }
   ],
   "execution_count": 27
  },
  {
   "cell_type": "code",
   "metadata": {
    "ExecuteTime": {
     "end_time": "2025-08-22T10:10:29.164215Z",
     "start_time": "2025-08-22T10:10:28.672345Z"
    }
   },
   "source": [
    "# Measure agent's average reward\n",
    "mdp = FrozenLakeEnv(slip_chance=0.2, map_name='8x8')\n",
    "state_values = value_iteration(mdp)\n",
    "\n",
    "total_rewards = []\n",
    "for game_i in range(1000):\n",
    "    s = mdp.reset()\n",
    "    rewards = []\n",
    "    for t in range(100):\n",
    "        s, r, done, _ = mdp.step(\n",
    "            get_optimal_action(mdp, state_values, s, gamma))\n",
    "        rewards.append(r)\n",
    "        if done:\n",
    "            break\n",
    "    total_rewards.append(np.sum(rewards))\n",
    "\n",
    "print(\"average reward: \", np.mean(total_rewards))\n",
    "assert(0.6 <= np.mean(total_rewards) <= 0.8)\n",
    "print(\"Well done!\")"
   ],
   "outputs": [
    {
     "name": "stdout",
     "output_type": "stream",
     "text": [
      "iter    0   |   diff: 0.80000   |   V(start): 0.000 \n",
      "iter    1   |   diff: 0.57600   |   V(start): 0.000 \n",
      "iter    2   |   diff: 0.41472   |   V(start): 0.000 \n",
      "iter    3   |   diff: 0.29860   |   V(start): 0.000 \n",
      "iter    4   |   diff: 0.24186   |   V(start): 0.000 \n",
      "iter    5   |   diff: 0.19349   |   V(start): 0.000 \n",
      "iter    6   |   diff: 0.15325   |   V(start): 0.000 \n",
      "iter    7   |   diff: 0.12288   |   V(start): 0.000 \n",
      "iter    8   |   diff: 0.09930   |   V(start): 0.000 \n",
      "iter    9   |   diff: 0.08037   |   V(start): 0.000 \n",
      "iter   10   |   diff: 0.06426   |   V(start): 0.000 \n",
      "iter   11   |   diff: 0.05129   |   V(start): 0.000 \n",
      "iter   12   |   diff: 0.04330   |   V(start): 0.000 \n",
      "iter   13   |   diff: 0.03802   |   V(start): 0.033 \n",
      "iter   14   |   diff: 0.03332   |   V(start): 0.058 \n",
      "iter   15   |   diff: 0.02910   |   V(start): 0.087 \n",
      "iter   16   |   diff: 0.01855   |   V(start): 0.106 \n",
      "iter   17   |   diff: 0.01403   |   V(start): 0.120 \n",
      "iter   18   |   diff: 0.00810   |   V(start): 0.128 \n",
      "iter   19   |   diff: 0.00555   |   V(start): 0.133 \n",
      "iter   20   |   diff: 0.00321   |   V(start): 0.137 \n",
      "iter   21   |   diff: 0.00247   |   V(start): 0.138 \n",
      "iter   22   |   diff: 0.00147   |   V(start): 0.139 \n",
      "iter   23   |   diff: 0.00104   |   V(start): 0.140 \n",
      "iter   24   |   diff: 0.00058   |   V(start): 0.140 \n",
      "iter   25   |   diff: 0.00036   |   V(start): 0.141 \n",
      "iter   26   |   diff: 0.00024   |   V(start): 0.141 \n",
      "iter   27   |   diff: 0.00018   |   V(start): 0.141 \n",
      "iter   28   |   diff: 0.00012   |   V(start): 0.141 \n",
      "iter   29   |   diff: 0.00007   |   V(start): 0.141 \n",
      "iter   30   |   diff: 0.00004   |   V(start): 0.141 \n",
      "iter   31   |   diff: 0.00003   |   V(start): 0.141 \n",
      "iter   32   |   diff: 0.00001   |   V(start): 0.141 \n",
      "iter   33   |   diff: 0.00001   |   V(start): 0.141 \n",
      "average reward:  0.739\n",
      "Well done!\n"
     ]
    }
   ],
   "execution_count": 28
  },
  {
   "cell_type": "markdown",
   "metadata": {},
   "source": [
    "# HW Part 1: Value iteration convergence\n",
    "\n",
    "### Find an MDP for which value iteration takes long to converge  (1 pts)\n",
    "\n",
    "When we ran value iteration on the small frozen lake problem, the last iteration where an action changed was iteration 6--i.e., value iteration computed the optimal policy at iteration 6. Are there any guarantees regarding how many iterations it'll take value iteration to compute the optimal policy? There are no such guarantees without additional assumptions--we can construct the MDP in such a way that the greedy policy will change after arbitrarily many iterations.\n",
    "\n",
    "Your task: define an MDP with at most 3 states and 2 actions, such that when you run value iteration, the optimal action changes at iteration >= 50. Use discount=0.95. (However, note that the discount doesn't matter here--you can construct an appropriate MDP with any discount.)\n",
    "\n",
    "Note: value function must change at least once after iteration >=50, not necessarily change on every iteration till >=50."
   ]
  },
  {
   "cell_type": "code",
   "metadata": {
    "ExecuteTime": {
     "end_time": "2025-08-22T10:10:29.172857Z",
     "start_time": "2025-08-22T10:10:29.169020Z"
    }
   },
   "source": [
    "transition_probs = {\n",
    "    's0': {\n",
    "        'wait': {'s0': 1.0},\n",
    "        'go': {'s1': 1.0}\n",
    "    },\n",
    "    's1': {\n",
    "        'wait': {'s1': 1.0},\n",
    "        'go': {'terminal': 1.0}\n",
    "    },\n",
    "    'terminal': {\n",
    "        'wait': {'terminal': 1.0},\n",
    "        'go': {'terminal': 1.0}\n",
    "    }\n",
    "}\n",
    "\n",
    "rewards = {\n",
    "    's0': {\n",
    "        'wait': {'s0': 1.0},\n",
    "        'go': {'s1': 0.0}\n",
    "    },\n",
    "    's1': {\n",
    "        'wait': {'s1': 1.0},\n",
    "        'go': {'terminal': 50.0}\n",
    "    },\n",
    "    'terminal': {\n",
    "        'wait': {'terminal': 0.0},\n",
    "        'go': {'terminal': 0.0}\n",
    "    }\n",
    "}\n",
    "\n",
    "from mdp import MDP\n",
    "from numpy import random\n",
    "mdp = MDP(transition_probs, rewards, initial_state=random.choice(tuple(transition_probs.keys())))\n",
    "# Feel free to change the initial_state"
   ],
   "outputs": [],
   "execution_count": 29
  },
  {
   "cell_type": "code",
   "metadata": {
    "ExecuteTime": {
     "end_time": "2025-08-22T10:10:29.187192Z",
     "start_time": "2025-08-22T10:10:29.177119Z"
    }
   },
   "source": [
    "state_values = {s: 0 for s in mdp.get_all_states()}\n",
    "policy = np.array([get_optimal_action(mdp, state_values, state, gamma)\n",
    "                   for state in sorted(mdp.get_all_states())])\n",
    "\n",
    "for i in range(100):\n",
    "    print(\"after iteration %i\" % i)\n",
    "    state_values = value_iteration(mdp, state_values, num_iter=1)\n",
    "\n",
    "    new_policy = np.array([get_optimal_action(mdp, state_values, state, gamma)\n",
    "                           for state in sorted(mdp.get_all_states())])\n",
    "\n",
    "    n_changes = (policy != new_policy).sum()\n",
    "    print(\"N actions changed = %i \\n\" % n_changes)\n",
    "    policy = new_policy\n",
    "\n",
    "# please ignore iter 0 at each step"
   ],
   "outputs": [
    {
     "name": "stdout",
     "output_type": "stream",
     "text": [
      "after iteration 0\n",
      "iter    0   |   diff: 50.00000   |   V(start): 1.000 \n",
      "N actions changed = 1 \n",
      "\n",
      "after iteration 1\n",
      "iter    0   |   diff: 44.00000   |   V(start): 45.000 \n",
      "N actions changed = 0 \n",
      "\n",
      "after iteration 2\n",
      "iter    0   |   diff: 0.00000   |   V(start): 45.000 \n",
      "N actions changed = 0 \n",
      "\n",
      "after iteration 3\n",
      "iter    0   |   diff: 0.00000   |   V(start): 45.000 \n",
      "N actions changed = 0 \n",
      "\n",
      "after iteration 4\n",
      "iter    0   |   diff: 0.00000   |   V(start): 45.000 \n",
      "N actions changed = 0 \n",
      "\n",
      "after iteration 5\n",
      "iter    0   |   diff: 0.00000   |   V(start): 45.000 \n",
      "N actions changed = 0 \n",
      "\n",
      "after iteration 6\n",
      "iter    0   |   diff: 0.00000   |   V(start): 45.000 \n",
      "N actions changed = 0 \n",
      "\n",
      "after iteration 7\n",
      "iter    0   |   diff: 0.00000   |   V(start): 45.000 \n",
      "N actions changed = 0 \n",
      "\n",
      "after iteration 8\n",
      "iter    0   |   diff: 0.00000   |   V(start): 45.000 \n",
      "N actions changed = 0 \n",
      "\n",
      "after iteration 9\n",
      "iter    0   |   diff: 0.00000   |   V(start): 45.000 \n",
      "N actions changed = 0 \n",
      "\n",
      "after iteration 10\n",
      "iter    0   |   diff: 0.00000   |   V(start): 45.000 \n",
      "N actions changed = 0 \n",
      "\n",
      "after iteration 11\n",
      "iter    0   |   diff: 0.00000   |   V(start): 45.000 \n",
      "N actions changed = 0 \n",
      "\n",
      "after iteration 12\n",
      "iter    0   |   diff: 0.00000   |   V(start): 45.000 \n",
      "N actions changed = 0 \n",
      "\n",
      "after iteration 13\n",
      "iter    0   |   diff: 0.00000   |   V(start): 45.000 \n",
      "N actions changed = 0 \n",
      "\n",
      "after iteration 14\n",
      "iter    0   |   diff: 0.00000   |   V(start): 45.000 \n",
      "N actions changed = 0 \n",
      "\n",
      "after iteration 15\n",
      "iter    0   |   diff: 0.00000   |   V(start): 45.000 \n",
      "N actions changed = 0 \n",
      "\n",
      "after iteration 16\n",
      "iter    0   |   diff: 0.00000   |   V(start): 45.000 \n",
      "N actions changed = 0 \n",
      "\n",
      "after iteration 17\n",
      "iter    0   |   diff: 0.00000   |   V(start): 45.000 \n",
      "N actions changed = 0 \n",
      "\n",
      "after iteration 18\n",
      "iter    0   |   diff: 0.00000   |   V(start): 45.000 \n",
      "N actions changed = 0 \n",
      "\n",
      "after iteration 19\n",
      "iter    0   |   diff: 0.00000   |   V(start): 45.000 \n",
      "N actions changed = 0 \n",
      "\n",
      "after iteration 20\n",
      "iter    0   |   diff: 0.00000   |   V(start): 45.000 \n",
      "N actions changed = 0 \n",
      "\n",
      "after iteration 21\n",
      "iter    0   |   diff: 0.00000   |   V(start): 45.000 \n",
      "N actions changed = 0 \n",
      "\n",
      "after iteration 22\n",
      "iter    0   |   diff: 0.00000   |   V(start): 45.000 \n",
      "N actions changed = 0 \n",
      "\n",
      "after iteration 23\n",
      "iter    0   |   diff: 0.00000   |   V(start): 45.000 \n",
      "N actions changed = 0 \n",
      "\n",
      "after iteration 24\n",
      "iter    0   |   diff: 0.00000   |   V(start): 45.000 \n",
      "N actions changed = 0 \n",
      "\n",
      "after iteration 25\n",
      "iter    0   |   diff: 0.00000   |   V(start): 45.000 \n",
      "N actions changed = 0 \n",
      "\n",
      "after iteration 26\n",
      "iter    0   |   diff: 0.00000   |   V(start): 45.000 \n",
      "N actions changed = 0 \n",
      "\n",
      "after iteration 27\n",
      "iter    0   |   diff: 0.00000   |   V(start): 45.000 \n",
      "N actions changed = 0 \n",
      "\n",
      "after iteration 28\n",
      "iter    0   |   diff: 0.00000   |   V(start): 45.000 \n",
      "N actions changed = 0 \n",
      "\n",
      "after iteration 29\n",
      "iter    0   |   diff: 0.00000   |   V(start): 45.000 \n",
      "N actions changed = 0 \n",
      "\n",
      "after iteration 30\n",
      "iter    0   |   diff: 0.00000   |   V(start): 45.000 \n",
      "N actions changed = 0 \n",
      "\n",
      "after iteration 31\n",
      "iter    0   |   diff: 0.00000   |   V(start): 45.000 \n",
      "N actions changed = 0 \n",
      "\n",
      "after iteration 32\n",
      "iter    0   |   diff: 0.00000   |   V(start): 45.000 \n",
      "N actions changed = 0 \n",
      "\n",
      "after iteration 33\n",
      "iter    0   |   diff: 0.00000   |   V(start): 45.000 \n",
      "N actions changed = 0 \n",
      "\n",
      "after iteration 34\n",
      "iter    0   |   diff: 0.00000   |   V(start): 45.000 \n",
      "N actions changed = 0 \n",
      "\n",
      "after iteration 35\n",
      "iter    0   |   diff: 0.00000   |   V(start): 45.000 \n",
      "N actions changed = 0 \n",
      "\n",
      "after iteration 36\n",
      "iter    0   |   diff: 0.00000   |   V(start): 45.000 \n",
      "N actions changed = 0 \n",
      "\n",
      "after iteration 37\n",
      "iter    0   |   diff: 0.00000   |   V(start): 45.000 \n",
      "N actions changed = 0 \n",
      "\n",
      "after iteration 38\n",
      "iter    0   |   diff: 0.00000   |   V(start): 45.000 \n",
      "N actions changed = 0 \n",
      "\n",
      "after iteration 39\n",
      "iter    0   |   diff: 0.00000   |   V(start): 45.000 \n",
      "N actions changed = 0 \n",
      "\n",
      "after iteration 40\n",
      "iter    0   |   diff: 0.00000   |   V(start): 45.000 \n",
      "N actions changed = 0 \n",
      "\n",
      "after iteration 41\n",
      "iter    0   |   diff: 0.00000   |   V(start): 45.000 \n",
      "N actions changed = 0 \n",
      "\n",
      "after iteration 42\n",
      "iter    0   |   diff: 0.00000   |   V(start): 45.000 \n",
      "N actions changed = 0 \n",
      "\n",
      "after iteration 43\n",
      "iter    0   |   diff: 0.00000   |   V(start): 45.000 \n",
      "N actions changed = 0 \n",
      "\n",
      "after iteration 44\n",
      "iter    0   |   diff: 0.00000   |   V(start): 45.000 \n",
      "N actions changed = 0 \n",
      "\n",
      "after iteration 45\n",
      "iter    0   |   diff: 0.00000   |   V(start): 45.000 \n",
      "N actions changed = 0 \n",
      "\n",
      "after iteration 46\n",
      "iter    0   |   diff: 0.00000   |   V(start): 45.000 \n",
      "N actions changed = 0 \n",
      "\n",
      "after iteration 47\n",
      "iter    0   |   diff: 0.00000   |   V(start): 45.000 \n",
      "N actions changed = 0 \n",
      "\n",
      "after iteration 48\n",
      "iter    0   |   diff: 0.00000   |   V(start): 45.000 \n",
      "N actions changed = 0 \n",
      "\n",
      "after iteration 49\n",
      "iter    0   |   diff: 0.00000   |   V(start): 45.000 \n",
      "N actions changed = 0 \n",
      "\n",
      "after iteration 50\n",
      "iter    0   |   diff: 0.00000   |   V(start): 45.000 \n",
      "N actions changed = 0 \n",
      "\n",
      "after iteration 51\n",
      "iter    0   |   diff: 0.00000   |   V(start): 45.000 \n",
      "N actions changed = 0 \n",
      "\n",
      "after iteration 52\n",
      "iter    0   |   diff: 0.00000   |   V(start): 45.000 \n",
      "N actions changed = 0 \n",
      "\n",
      "after iteration 53\n",
      "iter    0   |   diff: 0.00000   |   V(start): 45.000 \n",
      "N actions changed = 0 \n",
      "\n",
      "after iteration 54\n",
      "iter    0   |   diff: 0.00000   |   V(start): 45.000 \n",
      "N actions changed = 0 \n",
      "\n",
      "after iteration 55\n",
      "iter    0   |   diff: 0.00000   |   V(start): 45.000 \n",
      "N actions changed = 0 \n",
      "\n",
      "after iteration 56\n",
      "iter    0   |   diff: 0.00000   |   V(start): 45.000 \n",
      "N actions changed = 0 \n",
      "\n",
      "after iteration 57\n",
      "iter    0   |   diff: 0.00000   |   V(start): 45.000 \n",
      "N actions changed = 0 \n",
      "\n",
      "after iteration 58\n",
      "iter    0   |   diff: 0.00000   |   V(start): 45.000 \n",
      "N actions changed = 0 \n",
      "\n",
      "after iteration 59\n",
      "iter    0   |   diff: 0.00000   |   V(start): 45.000 \n",
      "N actions changed = 0 \n",
      "\n",
      "after iteration 60\n",
      "iter    0   |   diff: 0.00000   |   V(start): 45.000 \n",
      "N actions changed = 0 \n",
      "\n",
      "after iteration 61\n",
      "iter    0   |   diff: 0.00000   |   V(start): 45.000 \n",
      "N actions changed = 0 \n",
      "\n",
      "after iteration 62\n",
      "iter    0   |   diff: 0.00000   |   V(start): 45.000 \n",
      "N actions changed = 0 \n",
      "\n",
      "after iteration 63\n",
      "iter    0   |   diff: 0.00000   |   V(start): 45.000 \n",
      "N actions changed = 0 \n",
      "\n",
      "after iteration 64\n",
      "iter    0   |   diff: 0.00000   |   V(start): 45.000 \n",
      "N actions changed = 0 \n",
      "\n",
      "after iteration 65\n",
      "iter    0   |   diff: 0.00000   |   V(start): 45.000 \n",
      "N actions changed = 0 \n",
      "\n",
      "after iteration 66\n",
      "iter    0   |   diff: 0.00000   |   V(start): 45.000 \n",
      "N actions changed = 0 \n",
      "\n",
      "after iteration 67\n",
      "iter    0   |   diff: 0.00000   |   V(start): 45.000 \n",
      "N actions changed = 0 \n",
      "\n",
      "after iteration 68\n",
      "iter    0   |   diff: 0.00000   |   V(start): 45.000 \n",
      "N actions changed = 0 \n",
      "\n",
      "after iteration 69\n",
      "iter    0   |   diff: 0.00000   |   V(start): 45.000 \n",
      "N actions changed = 0 \n",
      "\n",
      "after iteration 70\n",
      "iter    0   |   diff: 0.00000   |   V(start): 45.000 \n",
      "N actions changed = 0 \n",
      "\n",
      "after iteration 71\n",
      "iter    0   |   diff: 0.00000   |   V(start): 45.000 \n",
      "N actions changed = 0 \n",
      "\n",
      "after iteration 72\n",
      "iter    0   |   diff: 0.00000   |   V(start): 45.000 \n",
      "N actions changed = 0 \n",
      "\n",
      "after iteration 73\n",
      "iter    0   |   diff: 0.00000   |   V(start): 45.000 \n",
      "N actions changed = 0 \n",
      "\n",
      "after iteration 74\n",
      "iter    0   |   diff: 0.00000   |   V(start): 45.000 \n",
      "N actions changed = 0 \n",
      "\n",
      "after iteration 75\n",
      "iter    0   |   diff: 0.00000   |   V(start): 45.000 \n",
      "N actions changed = 0 \n",
      "\n",
      "after iteration 76\n",
      "iter    0   |   diff: 0.00000   |   V(start): 45.000 \n",
      "N actions changed = 0 \n",
      "\n",
      "after iteration 77\n",
      "iter    0   |   diff: 0.00000   |   V(start): 45.000 \n",
      "N actions changed = 0 \n",
      "\n",
      "after iteration 78\n",
      "iter    0   |   diff: 0.00000   |   V(start): 45.000 \n",
      "N actions changed = 0 \n",
      "\n",
      "after iteration 79\n",
      "iter    0   |   diff: 0.00000   |   V(start): 45.000 \n",
      "N actions changed = 0 \n",
      "\n",
      "after iteration 80\n",
      "iter    0   |   diff: 0.00000   |   V(start): 45.000 \n",
      "N actions changed = 0 \n",
      "\n",
      "after iteration 81\n",
      "iter    0   |   diff: 0.00000   |   V(start): 45.000 \n",
      "N actions changed = 0 \n",
      "\n",
      "after iteration 82\n",
      "iter    0   |   diff: 0.00000   |   V(start): 45.000 \n",
      "N actions changed = 0 \n",
      "\n",
      "after iteration 83\n",
      "iter    0   |   diff: 0.00000   |   V(start): 45.000 \n",
      "N actions changed = 0 \n",
      "\n",
      "after iteration 84\n",
      "iter    0   |   diff: 0.00000   |   V(start): 45.000 \n",
      "N actions changed = 0 \n",
      "\n",
      "after iteration 85\n",
      "iter    0   |   diff: 0.00000   |   V(start): 45.000 \n",
      "N actions changed = 0 \n",
      "\n",
      "after iteration 86\n",
      "iter    0   |   diff: 0.00000   |   V(start): 45.000 \n",
      "N actions changed = 0 \n",
      "\n",
      "after iteration 87\n",
      "iter    0   |   diff: 0.00000   |   V(start): 45.000 \n",
      "N actions changed = 0 \n",
      "\n",
      "after iteration 88\n",
      "iter    0   |   diff: 0.00000   |   V(start): 45.000 \n",
      "N actions changed = 0 \n",
      "\n",
      "after iteration 89\n",
      "iter    0   |   diff: 0.00000   |   V(start): 45.000 \n",
      "N actions changed = 0 \n",
      "\n",
      "after iteration 90\n",
      "iter    0   |   diff: 0.00000   |   V(start): 45.000 \n",
      "N actions changed = 0 \n",
      "\n",
      "after iteration 91\n",
      "iter    0   |   diff: 0.00000   |   V(start): 45.000 \n",
      "N actions changed = 0 \n",
      "\n",
      "after iteration 92\n",
      "iter    0   |   diff: 0.00000   |   V(start): 45.000 \n",
      "N actions changed = 0 \n",
      "\n",
      "after iteration 93\n",
      "iter    0   |   diff: 0.00000   |   V(start): 45.000 \n",
      "N actions changed = 0 \n",
      "\n",
      "after iteration 94\n",
      "iter    0   |   diff: 0.00000   |   V(start): 45.000 \n",
      "N actions changed = 0 \n",
      "\n",
      "after iteration 95\n",
      "iter    0   |   diff: 0.00000   |   V(start): 45.000 \n",
      "N actions changed = 0 \n",
      "\n",
      "after iteration 96\n",
      "iter    0   |   diff: 0.00000   |   V(start): 45.000 \n",
      "N actions changed = 0 \n",
      "\n",
      "after iteration 97\n",
      "iter    0   |   diff: 0.00000   |   V(start): 45.000 \n",
      "N actions changed = 0 \n",
      "\n",
      "after iteration 98\n",
      "iter    0   |   diff: 0.00000   |   V(start): 45.000 \n",
      "N actions changed = 0 \n",
      "\n",
      "after iteration 99\n",
      "iter    0   |   diff: 0.00000   |   V(start): 45.000 \n",
      "N actions changed = 0 \n",
      "\n"
     ]
    }
   ],
   "execution_count": 30
  },
  {
   "cell_type": "markdown",
   "metadata": {},
   "source": [
    "### Value iteration convervence proof (1 pts)\n",
    "**Note:** Assume that $\\mathcal{S}, \\mathcal{A}$ are finite.\n",
    "\n",
    "Update of value function in value iteration can be rewritten in a form of Bellman operator:\n",
    "\n",
    "$$(TV)(s) = \\max_{a \\in \\mathcal{A}}\\mathbb{E}\\left[ r_{t+1} + \\gamma V(s_{t+1}) | s_t = s, a_t = a\\right]$$\n",
    "\n",
    "Value iteration algorithm with Bellman operator:\n",
    "\n",
    "---\n",
    "&nbsp;&nbsp; Initialize $V_0$\n",
    "\n",
    "&nbsp;&nbsp; **for** $k = 0,1,2,...$ **do**\n",
    "\n",
    "&nbsp;&nbsp;&nbsp;&nbsp; $V_{k+1} \\leftarrow TV_k$\n",
    "\n",
    "&nbsp;&nbsp;**end for**\n",
    "\n",
    "---\n",
    "\n",
    "In [lecture](https://docs.google.com/presentation/d/1lz2oIUTvd2MHWKEQSH8hquS66oe4MZ_eRvVViZs2uuE/edit#slide=id.g4fd6bae29e_2_4) we established contraction property of bellman operator:\n",
    "\n",
    "$$\n",
    "||TV - TU||_{\\infty} \\le \\gamma ||V - U||_{\\infty}\n",
    "$$\n",
    "\n",
    "For all $V, U$\n",
    "\n",
    "Using contraction property of Bellman operator, Banach fixed-point theorem and Bellman equations prove that value function converges to $V^*$ in value iterateion$\n",
    "\n",
    "*<-- Your proof here -->*"
   ]
  },
  {
   "cell_type": "markdown",
   "metadata": {},
   "source": [
    "### Asynchronious value iteration (2 pts)\n",
    "\n",
    "Consider the following algorithm:\n",
    "\n",
    "---\n",
    "\n",
    "Initialize $V_0$\n",
    "\n",
    "**for** $k = 0,1,2,...$ **do**\n",
    "\n",
    "&nbsp;&nbsp;&nbsp;&nbsp; Select some state $s_k \\in \\mathcal{S}$    \n",
    "\n",
    "&nbsp;&nbsp;&nbsp;&nbsp; $V(s_k) := (TV)(s_k)$\n",
    "\n",
    "**end for**\n",
    "\n",
    "---\n",
    "\n",
    "\n",
    "Note that unlike common value iteration, here we update only a single state at a time.\n",
    "\n",
    "**Homework.** Prove the following proposition:\n",
    "\n",
    "If for all $s \\in \\mathcal{S}$, $s$ appears in the sequence $(s_0, s_1, ...)$ infinitely often, then $V$ converges to $V*$\n",
    "\n",
    "*<-- Your proof here -->*\n"
   ]
  },
  {
   "cell_type": "markdown",
   "metadata": {},
   "source": [
    "# HW Part 2: Policy iteration\n",
    "\n",
    "## Policy iteration implementateion (3 pts)\n",
    "\n",
    "Let's implement exact policy iteration (PI), which has the following pseudocode:\n",
    "\n",
    "---\n",
    "Initialize $\\pi_0$   `// random or fixed action`\n",
    "\n",
    "For $n=0, 1, 2, \\dots$\n",
    "- Compute the state-value function $V^{\\pi_{n}}$\n",
    "- Using $V^{\\pi_{n}}$, compute the state-action-value function $Q^{\\pi_{n}}$\n",
    "- Compute new policy $\\pi_{n+1}(s) = \\operatorname*{argmax}_a Q^{\\pi_{n}}(s,a)$\n",
    "---\n",
    "\n",
    "Unlike VI, policy iteration has to maintain a policy - chosen actions from all states - and estimate $V^{\\pi_{n}}$ based on this policy. It only changes policy once values converged.\n",
    "\n",
    "\n",
    "Below are a few helpers that you may or may not use in your implementation."
   ]
  },
  {
   "cell_type": "code",
   "metadata": {
    "ExecuteTime": {
     "end_time": "2025-08-22T10:10:29.195162Z",
     "start_time": "2025-08-22T10:10:29.191646Z"
    }
   },
   "source": [
    "transition_probs = {\n",
    "    's0': {\n",
    "        'a0': {'s0': 0.5, 's2': 0.5},\n",
    "        'a1': {'s2': 1}\n",
    "    },\n",
    "    's1': {\n",
    "        'a0': {'s0': 0.7, 's1': 0.1, 's2': 0.2},\n",
    "        'a1': {'s1': 0.95, 's2': 0.05}\n",
    "    },\n",
    "    's2': {\n",
    "        'a0': {'s0': 0.4, 's1': 0.6},\n",
    "        'a1': {'s0': 0.3, 's1': 0.3, 's2': 0.4}\n",
    "    }\n",
    "}\n",
    "rewards = {\n",
    "    's1': {'a0': {'s0': +5}},\n",
    "    's2': {'a1': {'s0': -1}}\n",
    "}\n",
    "\n",
    "from mdp import MDP\n",
    "my_mdp = MDP(transition_probs, rewards, initial_state='s0')"
   ],
   "outputs": [],
   "execution_count": 31
  },
  {
   "cell_type": "markdown",
   "metadata": {},
   "source": [
    "Let's write a function called `compute_vpi` that computes the state-value function $V^{\\pi}$ for an arbitrary policy $\\pi$.\n",
    "\n",
    "Unlike VI, this time you must find the exact solution, not just a single iteration.\n",
    "\n",
    "Recall that $V^{\\pi}$ satisfies the following linear equation:\n",
    "$$V^{\\pi}(s) = \\sum_{s'} P(s,\\pi(s),s')[ R(s,\\pi(s),s') + \\gamma V^{\\pi}(s')]$$\n",
    "\n",
    "You'll have to solve a linear system in your code. (Find an exact solution, e.g., with `np.linalg.solve`.)"
   ]
  },
  {
   "cell_type": "code",
   "metadata": {
    "ExecuteTime": {
     "end_time": "2025-08-22T10:10:29.211399Z",
     "start_time": "2025-08-22T10:10:29.207389Z"
    }
   },
   "source": [
    "def compute_vpi(mdp, policy, gamma):\n",
    "    \"\"\"\n",
    "    Computes V^pi(s) FOR ALL STATES under given policy.\n",
    "    :param policy: a dict of currently chosen actions {s : a}\n",
    "    :returns: a dict {state : V^pi(state) for all states}\n",
    "    \"\"\"\n",
    "    states = mdp.get_all_states()\n",
    "    state_to_idx = {s: i for i, s in enumerate(states)}\n",
    "    n = len(states)\n",
    "\n",
    "    # Initialize A (left-hand side) and b (right-hand side) for the linear system\n",
    "    # A @ V = b  -->  V = A^{-1} b\n",
    "    A = np.eye(n)  # Identity for V(s)\n",
    "    b = np.zeros(n)\n",
    "\n",
    "    for s in states:\n",
    "        if mdp.is_terminal(s):\n",
    "            continue\n",
    "        i = state_to_idx[s]\n",
    "        a = policy[s]  # action prescribed by policy π(s)\n",
    "\n",
    "        # Transition and reward dynamics for s, a = π(s)\n",
    "        for next_s in mdp.get_next_states(s, a):\n",
    "            j = state_to_idx[next_s]\n",
    "            prob = mdp.get_transition_prob(s, a, next_s)\n",
    "            reward = mdp.get_reward(s, a, next_s)\n",
    "\n",
    "            A[i, j] -= gamma * prob  # - γ * P(s' | s,π(s)) coefficient\n",
    "            b[i] += prob * reward    # r(s,π(s),s') term\n",
    "\n",
    "    # Solve the linear system: (I - γP) V = r\n",
    "    v = np.linalg.solve(A, b)\n",
    "\n",
    "    # Return as dictionary\n",
    "    return {s: v[state_to_idx[s]] for s in states}"
   ],
   "outputs": [],
   "execution_count": 32
  },
  {
   "cell_type": "code",
   "metadata": {
    "ExecuteTime": {
     "end_time": "2025-08-22T10:10:29.219233Z",
     "start_time": "2025-08-22T10:10:29.215516Z"
    }
   },
   "source": [
    "test_policy = {s: np.random.choice(\n",
    "    mdp.get_possible_actions(s)) for s in mdp.get_all_states()}\n",
    "new_vpi = compute_vpi(mdp, test_policy, gamma)\n",
    "\n",
    "print(new_vpi)\n",
    "\n",
    "assert type(\n",
    "    new_vpi) is dict, \"compute_vpi must return a dict {state : V^pi(state) for all states}\""
   ],
   "outputs": [
    {
     "name": "stdout",
     "output_type": "stream",
     "text": [
      "{'s0': np.float64(9.000000000000002), 's1': np.float64(10.000000000000002), 'terminal': np.float64(0.0)}\n"
     ]
    }
   ],
   "execution_count": 33
  },
  {
   "cell_type": "markdown",
   "metadata": {},
   "source": [
    "Once we've got new state values, it's time to update our policy."
   ]
  },
  {
   "cell_type": "code",
   "metadata": {
    "ExecuteTime": {
     "end_time": "2025-08-22T10:10:29.227349Z",
     "start_time": "2025-08-22T10:10:29.224150Z"
    }
   },
   "source": [
    "def compute_new_policy(mdp, vpi, gamma):\n",
    "    \"\"\"\n",
    "    Computes new policy as argmax of state values\n",
    "    :param vpi: a dict {state : V^pi(state) for all states}\n",
    "    :returns: a dict {state : optimal action for all states}\n",
    "    \"\"\"\n",
    "    new_policy = {}\n",
    "\n",
    "    for s in mdp.get_all_states():\n",
    "        if mdp.is_terminal(s):\n",
    "            new_policy[s] = None\n",
    "            continue\n",
    "\n",
    "        best_action = None\n",
    "        best_value = float('-inf')\n",
    "\n",
    "        for a in mdp.get_possible_actions(s):\n",
    "            q_value = 0.0\n",
    "            # Sum over all possible next states\n",
    "            for next_s in mdp.get_next_states(s, a):\n",
    "                prob = mdp.get_transition_prob(s, a, next_s)\n",
    "                reward = mdp.get_reward(s, a, next_s)\n",
    "                q_value += prob * (reward + gamma * vpi[next_s])\n",
    "\n",
    "            if q_value > best_value:\n",
    "                best_value = q_value\n",
    "                best_action = a\n",
    "\n",
    "        new_policy[s] = best_action\n",
    "\n",
    "    return new_policy"
   ],
   "outputs": [],
   "execution_count": 34
  },
  {
   "cell_type": "code",
   "metadata": {
    "ExecuteTime": {
     "end_time": "2025-08-22T10:10:29.244362Z",
     "start_time": "2025-08-22T10:10:29.240838Z"
    }
   },
   "source": [
    "new_policy = compute_new_policy(mdp, new_vpi, gamma)\n",
    "\n",
    "print(new_policy)\n",
    "\n",
    "assert type(\n",
    "    new_policy) is dict, \"compute_new_policy must return a dict {state : optimal action for all states}\""
   ],
   "outputs": [
    {
     "name": "stdout",
     "output_type": "stream",
     "text": [
      "{'s0': 'wait', 's1': 'go', 'terminal': 'wait'}\n"
     ]
    }
   ],
   "execution_count": 35
  },
  {
   "cell_type": "markdown",
   "metadata": {},
   "source": [
    "__Main loop__"
   ]
  },
  {
   "cell_type": "code",
   "metadata": {
    "ExecuteTime": {
     "end_time": "2025-08-22T10:10:29.254578Z",
     "start_time": "2025-08-22T10:10:29.249060Z"
    }
   },
   "source": [
    "def policy_iteration(mdp, policy=None, gamma=0.9, num_iter=1000, min_difference=1e-5):\n",
    "    \"\"\" \n",
    "    Run the policy iteration loop for num_iter iterations or till difference between V(s) is below min_difference.\n",
    "    If policy is not given, initialize it at random.\n",
    "\n",
    "    :param mdp: an instance of MDP class\n",
    "    :param policy: dict {state : action}, if None — initialize randomly\n",
    "    :param gamma: discount factor\n",
    "    :param num_iter: maximum number of iterations\n",
    "    :param min_difference: convergence threshold for value changes\n",
    "    :returns: state_values (dict), policy (dict)\n",
    "    \"\"\"\n",
    "    # Initialize policy randomly if not provided\n",
    "    if policy is None:\n",
    "        policy = {}\n",
    "        for s in mdp.get_all_states():\n",
    "            if mdp.is_terminal(s):\n",
    "                policy[s] = None\n",
    "            else:\n",
    "                policy[s] = mdp.get_possible_actions(s)[0]\n",
    "\n",
    "\n",
    "\n",
    "\n",
    "    # Initialize state values (can be zeros or arbitrary)\n",
    "    state_values = {s: 0.0 for s in mdp.get_all_states()}\n",
    "\n",
    "    for i in range(num_iter):\n",
    "        new_state_values = compute_vpi(mdp, policy, gamma)\n",
    "\n",
    "        # === CHECK FOR CONVERGENCE ===\n",
    "        diff = max(abs(new_state_values[s] - state_values[s])\n",
    "                   for s in mdp.get_all_states())\n",
    "\n",
    "        print(f\"iter %4i   |   diff: %6.5f   |   \" % (i, diff), end=\"\")\n",
    "        print('   '.join(\"V(%s)=%.3f\" % (s, new_state_values[s])\n",
    "                         for s in mdp.get_all_states()))\n",
    "\n",
    "        state_values = new_state_values\n",
    "\n",
    "        # === POLICY IMPROVEMENT: Update policy to be greedy w.r.t. current V^π ===\n",
    "        new_policy = compute_new_policy(mdp, state_values, gamma)\n",
    "\n",
    "        # === CHECK IF POLICY HAS CONVERGED ===\n",
    "        policy_stable = True\n",
    "        for s in mdp.get_all_states():\n",
    "            if policy[s] != new_policy[s]:\n",
    "                policy_stable = False\n",
    "                break\n",
    "\n",
    "        # Update policy\n",
    "        policy = new_policy\n",
    "\n",
    "        # Terminate if value change is small and policy is stable\n",
    "        if diff < min_difference and policy_stable:\n",
    "            print(\"Converged!\")\n",
    "            break\n",
    "\n",
    "    return state_values, policy"
   ],
   "outputs": [],
   "execution_count": 36
  },
  {
   "cell_type": "markdown",
   "metadata": {},
   "source": [
    "__Your PI Results__"
   ]
  },
  {
   "cell_type": "code",
   "metadata": {
    "ExecuteTime": {
     "end_time": "2025-08-22T10:10:29.267824Z",
     "start_time": "2025-08-22T10:10:29.264698Z"
    }
   },
   "source": [
    "def run_and_compare(mdp, gamma=0.9):\n",
    "    print(\"\\n=== Policy Iteration ===\")\n",
    "    V_pi, pol_pi = policy_iteration(mdp, gamma=gamma)\n",
    "    print(\"PI values:\", V_pi)\n",
    "    print(\"PI policy:\", pol_pi)\n",
    "\n",
    "    print(\"\\n=== Value Iteration ===\")\n",
    "    V_vi = value_iteration(mdp, gamma=gamma)\n",
    "    pol_vi = compute_new_policy(mdp, V_vi, gamma)\n",
    "    print(\"VI values:\", V_vi)\n",
    "    print(\"VI policy:\", pol_vi)\n"
   ],
   "outputs": [],
   "execution_count": 37
  },
  {
   "metadata": {
    "ExecuteTime": {
     "end_time": "2025-08-22T10:10:29.274276Z",
     "start_time": "2025-08-22T10:10:29.272477Z"
    }
   },
   "cell_type": "code",
   "source": "",
   "outputs": [],
   "execution_count": null
  },
  {
   "metadata": {
    "ExecuteTime": {
     "end_time": "2025-08-22T10:10:29.283371Z",
     "start_time": "2025-08-22T10:10:29.278211Z"
    }
   },
   "cell_type": "code",
   "source": [
    "# Bonus 1\n",
    "mdp_bonus1 = my_mdp\n",
    "run_and_compare(mdp_bonus1)\n"
   ],
   "outputs": [
    {
     "name": "stdout",
     "output_type": "stream",
     "text": [
      "\n",
      "=== Policy Iteration ===\n",
      "iter    0   |   diff: 9.26773   |   V(s0)=5.804   V(s1)=9.268   V(s2)=7.094\n",
      "iter    1   |   diff: 2.22765   |   V(s0)=8.032   V(s1)=11.172   V(s2)=8.924\n",
      "iter    2   |   diff: 0.00000   |   V(s0)=8.032   V(s1)=11.172   V(s2)=8.924\n",
      "Converged!\n",
      "PI values: {'s0': np.float64(8.031919916894896), 's1': np.float64(11.171970913211831), 's2': np.float64(8.924355463216552)}\n",
      "PI policy: {'s0': 'a1', 's1': 'a0', 's2': 'a0'}\n",
      "\n",
      "=== Value Iteration ===\n",
      "iter    0   |   diff: 3.50000   |   V(start): 0.000 \n",
      "iter    1   |   diff: 1.89000   |   V(start): 0.000 \n",
      "iter    2   |   diff: 1.70100   |   V(start): 1.701 \n",
      "iter    3   |   diff: 1.13542   |   V(start): 1.854 \n",
      "iter    4   |   diff: 0.73024   |   V(start): 2.584 \n",
      "iter    5   |   diff: 0.61135   |   V(start): 3.186 \n",
      "iter    6   |   diff: 0.54664   |   V(start): 3.590 \n",
      "iter    7   |   diff: 0.49198   |   V(start): 4.082 \n",
      "iter    8   |   diff: 0.42210   |   V(start): 4.463 \n",
      "iter    9   |   diff: 0.36513   |   V(start): 4.816 \n",
      "iter   10   |   diff: 0.32862   |   V(start): 5.145 \n",
      "iter   11   |   diff: 0.29262   |   V(start): 5.429 \n",
      "iter   12   |   diff: 0.26189   |   V(start): 5.691 \n",
      "iter   13   |   diff: 0.23503   |   V(start): 5.925 \n",
      "iter   14   |   diff: 0.21124   |   V(start): 6.135 \n",
      "iter   15   |   diff: 0.19012   |   V(start): 6.325 \n",
      "iter   16   |   diff: 0.17091   |   V(start): 6.496 \n",
      "iter   17   |   diff: 0.15366   |   V(start): 6.649 \n",
      "iter   18   |   diff: 0.13830   |   V(start): 6.788 \n",
      "iter   19   |   diff: 0.12445   |   V(start): 6.912 \n",
      "iter   20   |   diff: 0.11200   |   V(start): 7.024 \n",
      "iter   21   |   diff: 0.10079   |   V(start): 7.125 \n",
      "iter   22   |   diff: 0.09071   |   V(start): 7.216 \n",
      "iter   23   |   diff: 0.08164   |   V(start): 7.297 \n",
      "iter   24   |   diff: 0.07347   |   V(start): 7.371 \n",
      "iter   25   |   diff: 0.06612   |   V(start): 7.437 \n",
      "iter   26   |   diff: 0.05951   |   V(start): 7.496 \n",
      "iter   27   |   diff: 0.05356   |   V(start): 7.550 \n",
      "iter   28   |   diff: 0.04820   |   V(start): 7.598 \n",
      "iter   29   |   diff: 0.04338   |   V(start): 7.641 \n",
      "iter   30   |   diff: 0.03904   |   V(start): 7.681 \n",
      "iter   31   |   diff: 0.03514   |   V(start): 7.716 \n",
      "iter   32   |   diff: 0.03163   |   V(start): 7.747 \n",
      "iter   33   |   diff: 0.02846   |   V(start): 7.776 \n",
      "iter   34   |   diff: 0.02562   |   V(start): 7.801 \n",
      "iter   35   |   diff: 0.02306   |   V(start): 7.824 \n",
      "iter   36   |   diff: 0.02075   |   V(start): 7.845 \n",
      "iter   37   |   diff: 0.01867   |   V(start): 7.864 \n",
      "iter   38   |   diff: 0.01681   |   V(start): 7.881 \n",
      "iter   39   |   diff: 0.01513   |   V(start): 7.896 \n",
      "iter   40   |   diff: 0.01361   |   V(start): 7.909 \n",
      "iter   41   |   diff: 0.01225   |   V(start): 7.922 \n",
      "iter   42   |   diff: 0.01103   |   V(start): 7.933 \n",
      "iter   43   |   diff: 0.00992   |   V(start): 7.943 \n",
      "iter   44   |   diff: 0.00893   |   V(start): 7.952 \n",
      "iter   45   |   diff: 0.00804   |   V(start): 7.960 \n",
      "iter   46   |   diff: 0.00724   |   V(start): 7.967 \n",
      "iter   47   |   diff: 0.00651   |   V(start): 7.973 \n",
      "iter   48   |   diff: 0.00586   |   V(start): 7.979 \n",
      "iter   49   |   diff: 0.00527   |   V(start): 7.984 \n",
      "iter   50   |   diff: 0.00475   |   V(start): 7.989 \n",
      "iter   51   |   diff: 0.00427   |   V(start): 7.993 \n",
      "iter   52   |   diff: 0.00384   |   V(start): 7.997 \n",
      "iter   53   |   diff: 0.00346   |   V(start): 8.001 \n",
      "iter   54   |   diff: 0.00311   |   V(start): 8.004 \n",
      "iter   55   |   diff: 0.00280   |   V(start): 8.007 \n",
      "iter   56   |   diff: 0.00252   |   V(start): 8.009 \n",
      "iter   57   |   diff: 0.00227   |   V(start): 8.011 \n",
      "iter   58   |   diff: 0.00204   |   V(start): 8.014 \n",
      "iter   59   |   diff: 0.00184   |   V(start): 8.015 \n",
      "iter   60   |   diff: 0.00166   |   V(start): 8.017 \n",
      "iter   61   |   diff: 0.00149   |   V(start): 8.019 \n",
      "iter   62   |   diff: 0.00134   |   V(start): 8.020 \n",
      "iter   63   |   diff: 0.00121   |   V(start): 8.021 \n",
      "iter   64   |   diff: 0.00109   |   V(start): 8.022 \n",
      "iter   65   |   diff: 0.00098   |   V(start): 8.023 \n",
      "iter   66   |   diff: 0.00088   |   V(start): 8.024 \n",
      "iter   67   |   diff: 0.00079   |   V(start): 8.025 \n",
      "iter   68   |   diff: 0.00071   |   V(start): 8.026 \n",
      "iter   69   |   diff: 0.00064   |   V(start): 8.026 \n",
      "iter   70   |   diff: 0.00058   |   V(start): 8.027 \n",
      "iter   71   |   diff: 0.00052   |   V(start): 8.027 \n",
      "iter   72   |   diff: 0.00047   |   V(start): 8.028 \n",
      "iter   73   |   diff: 0.00042   |   V(start): 8.028 \n",
      "iter   74   |   diff: 0.00038   |   V(start): 8.029 \n",
      "iter   75   |   diff: 0.00034   |   V(start): 8.029 \n",
      "iter   76   |   diff: 0.00031   |   V(start): 8.029 \n",
      "iter   77   |   diff: 0.00028   |   V(start): 8.029 \n",
      "iter   78   |   diff: 0.00025   |   V(start): 8.030 \n",
      "iter   79   |   diff: 0.00022   |   V(start): 8.030 \n",
      "iter   80   |   diff: 0.00020   |   V(start): 8.030 \n",
      "iter   81   |   diff: 0.00018   |   V(start): 8.030 \n",
      "iter   82   |   diff: 0.00016   |   V(start): 8.030 \n",
      "iter   83   |   diff: 0.00015   |   V(start): 8.031 \n",
      "iter   84   |   diff: 0.00013   |   V(start): 8.031 \n",
      "iter   85   |   diff: 0.00012   |   V(start): 8.031 \n",
      "iter   86   |   diff: 0.00011   |   V(start): 8.031 \n",
      "iter   87   |   diff: 0.00010   |   V(start): 8.031 \n",
      "iter   88   |   diff: 0.00009   |   V(start): 8.031 \n",
      "iter   89   |   diff: 0.00008   |   V(start): 8.031 \n",
      "iter   90   |   diff: 0.00007   |   V(start): 8.031 \n",
      "iter   91   |   diff: 0.00006   |   V(start): 8.031 \n",
      "iter   92   |   diff: 0.00006   |   V(start): 8.031 \n",
      "iter   93   |   diff: 0.00005   |   V(start): 8.031 \n",
      "iter   94   |   diff: 0.00005   |   V(start): 8.032 \n",
      "iter   95   |   diff: 0.00004   |   V(start): 8.032 \n",
      "iter   96   |   diff: 0.00004   |   V(start): 8.032 \n",
      "iter   97   |   diff: 0.00003   |   V(start): 8.032 \n",
      "iter   98   |   diff: 0.00003   |   V(start): 8.032 \n",
      "iter   99   |   diff: 0.00003   |   V(start): 8.032 \n",
      "iter  100   |   diff: 0.00002   |   V(start): 8.032 \n",
      "iter  101   |   diff: 0.00002   |   V(start): 8.032 \n",
      "iter  102   |   diff: 0.00002   |   V(start): 8.032 \n",
      "iter  103   |   diff: 0.00002   |   V(start): 8.032 \n",
      "iter  104   |   diff: 0.00002   |   V(start): 8.032 \n",
      "iter  105   |   diff: 0.00001   |   V(start): 8.032 \n",
      "iter  106   |   diff: 0.00001   |   V(start): 8.032 \n",
      "iter  107   |   diff: 0.00001   |   V(start): 8.032 \n",
      "iter  108   |   diff: 0.00001   |   V(start): 8.032 \n",
      "iter  109   |   diff: 0.00001   |   V(start): 8.032 \n",
      "VI values: {'s0': 8.031834614645001, 's1': 11.171885610961933, 's2': 8.924270160966655}\n",
      "VI policy: {'s0': 'a1', 's1': 'a0', 's2': 'a0'}\n"
     ]
    }
   ],
   "execution_count": 38
  },
  {
   "metadata": {
    "ExecuteTime": {
     "end_time": "2025-08-22T10:10:29.334765Z",
     "start_time": "2025-08-22T10:10:29.324591Z"
    }
   },
   "cell_type": "code",
   "source": [
    "mdp_small = FrozenLakeEnv(map_name=\"4x4\")\n",
    "mdp_small.render()\n",
    "run_and_compare(mdp_small)"
   ],
   "outputs": [
    {
     "name": "stdout",
     "output_type": "stream",
     "text": [
      "*FFF\n",
      "FHFH\n",
      "FFFH\n",
      "HFFG\n",
      "\n",
      "\n",
      "=== Policy Iteration ===\n",
      "iter    0   |   diff: 0.00000   |   V((0, 0))=-0.000   V((0, 1))=-0.000   V((0, 2))=-0.000   V((0, 3))=0.000   V((1, 0))=0.000   V((1, 1))=0.000   V((1, 2))=0.000   V((1, 3))=0.000   V((2, 0))=-0.000   V((2, 1))=-0.000   V((2, 2))=0.000   V((2, 3))=0.000   V((3, 0))=0.000   V((3, 1))=0.000   V((3, 2))=0.000   V((3, 3))=0.000\n",
      "iter    1   |   diff: 0.88708   |   V((0, 0))=-0.000   V((0, 1))=-0.000   V((0, 2))=0.001   V((0, 3))=0.001   V((1, 0))=0.000   V((1, 1))=0.000   V((1, 2))=0.007   V((1, 3))=0.000   V((2, 0))=-0.000   V((2, 1))=-0.000   V((2, 2))=0.080   V((2, 3))=0.000   V((3, 0))=0.000   V((3, 1))=0.000   V((3, 2))=0.887   V((3, 3))=0.000\n",
      "iter    2   |   diff: 0.81344   |   V((0, 0))=0.000   V((0, 1))=0.354   V((0, 2))=0.447   V((0, 3))=0.354   V((1, 0))=0.000   V((1, 1))=0.000   V((1, 2))=0.533   V((1, 3))=0.000   V((2, 0))=0.000   V((2, 1))=0.606   V((2, 2))=0.740   V((2, 3))=0.000   V((3, 0))=0.000   V((3, 1))=0.813   V((3, 2))=0.952   V((3, 3))=0.000\n",
      "iter    3   |   diff: 0.53514   |   V((0, 0))=0.311   V((0, 1))=0.359   V((0, 2))=0.454   V((0, 3))=0.359   V((1, 0))=0.272   V((1, 1))=0.000   V((1, 2))=0.540   V((1, 3))=0.000   V((2, 0))=0.535   V((2, 1))=0.709   V((2, 2))=0.750   V((2, 3))=0.000   V((3, 0))=0.000   V((3, 1))=0.824   V((3, 2))=0.953   V((3, 3))=0.000\n",
      "iter    4   |   diff: 0.16408   |   V((0, 0))=0.327   V((0, 1))=0.359   V((0, 2))=0.454   V((0, 3))=0.359   V((1, 0))=0.436   V((1, 1))=0.000   V((1, 2))=0.540   V((1, 3))=0.000   V((2, 0))=0.551   V((2, 1))=0.711   V((2, 2))=0.750   V((2, 3))=0.000   V((3, 0))=0.000   V((3, 1))=0.825   V((3, 2))=0.953   V((3, 3))=0.000\n",
      "iter    5   |   diff: 0.05337   |   V((0, 0))=0.380   V((0, 1))=0.359   V((0, 2))=0.454   V((0, 3))=0.359   V((1, 0))=0.436   V((1, 1))=0.000   V((1, 2))=0.540   V((1, 3))=0.000   V((2, 0))=0.551   V((2, 1))=0.711   V((2, 2))=0.750   V((2, 3))=0.000   V((3, 0))=0.000   V((3, 1))=0.825   V((3, 2))=0.953   V((3, 3))=0.000\n",
      "iter    6   |   diff: 0.00000   |   V((0, 0))=0.380   V((0, 1))=0.359   V((0, 2))=0.454   V((0, 3))=0.359   V((1, 0))=0.436   V((1, 1))=0.000   V((1, 2))=0.540   V((1, 3))=0.000   V((2, 0))=0.551   V((2, 1))=0.711   V((2, 2))=0.750   V((2, 3))=0.000   V((3, 0))=0.000   V((3, 1))=0.825   V((3, 2))=0.953   V((3, 3))=0.000\n",
      "Converged!\n",
      "PI values: {(0, 0): np.float64(0.3804495153250573), (0, 1): np.float64(0.3588877425205196), (0, 2): np.float64(0.4535942301301011), (0, 3): np.float64(0.35888774252051964), (1, 0): np.float64(0.4359849473874379), (1, 1): np.float64(0.0), (1, 2): np.float64(0.5402700506616771), (1, 3): np.float64(0.0), (2, 0): np.float64(0.5510365307257895), (2, 1): np.float64(0.7108303964735), (2, 2): np.float64(0.7503750703634403), (2, 3): np.float64(0.0), (3, 0): np.float64(0.0), (3, 1): np.float64(0.8245879894103739), (3, 2): np.float64(0.9533337981678127), (3, 3): np.float64(0.0)}\n",
      "PI policy: {(0, 0): 'down', (0, 1): 'right', (0, 2): 'down', (0, 3): 'left', (1, 0): 'down', (1, 1): None, (1, 2): 'down', (1, 3): None, (2, 0): 'right', (2, 1): 'down', (2, 2): 'down', (2, 3): None, (3, 0): None, (3, 1): 'right', (3, 2): 'right', (3, 3): None}\n",
      "\n",
      "=== Value Iteration ===\n",
      "iter    0   |   diff: 0.80000   |   V(start): 0.000 \n",
      "iter    1   |   diff: 0.57600   |   V(start): 0.000 \n",
      "iter    2   |   diff: 0.46656   |   V(start): 0.000 \n",
      "iter    3   |   diff: 0.33592   |   V(start): 0.000 \n",
      "iter    4   |   diff: 0.24186   |   V(start): 0.000 \n",
      "iter    5   |   diff: 0.19349   |   V(start): 0.193 \n",
      "iter    6   |   diff: 0.07575   |   V(start): 0.260 \n",
      "iter    7   |   diff: 0.06614   |   V(start): 0.326 \n",
      "iter    8   |   diff: 0.02373   |   V(start): 0.350 \n",
      "iter    9   |   diff: 0.01704   |   V(start): 0.367 \n",
      "iter   10   |   diff: 0.00647   |   V(start): 0.373 \n",
      "iter   11   |   diff: 0.00406   |   V(start): 0.377 \n",
      "iter   12   |   diff: 0.00162   |   V(start): 0.379 \n",
      "iter   13   |   diff: 0.00094   |   V(start): 0.380 \n",
      "iter   14   |   diff: 0.00039   |   V(start): 0.380 \n",
      "iter   15   |   diff: 0.00022   |   V(start): 0.380 \n",
      "iter   16   |   diff: 0.00009   |   V(start): 0.380 \n",
      "iter   17   |   diff: 0.00005   |   V(start): 0.380 \n",
      "iter   18   |   diff: 0.00002   |   V(start): 0.380 \n",
      "iter   19   |   diff: 0.00001   |   V(start): 0.380 \n",
      "iter   20   |   diff: 0.00001   |   V(start): 0.380 \n",
      "VI values: {(0, 0): 0.38044447710921125, (0, 1): 0.3588856289072452, (0, 2): 0.4535930382578523, (0, 3): 0.3588856289072452, (1, 0): 0.4359825342800057, (1, 1): 0, (1, 2): 0.540269806990787, (1, 3): 0, (2, 0): 0.5510351743521422, (2, 1): 0.7108298206839572, (2, 2): 0.750374900795372, (2, 3): 0, (3, 0): 0, (3, 1): 0.8245877821285024, (3, 2): 0.9533337604540095, (3, 3): 0}\n",
      "VI policy: {(0, 0): 'down', (0, 1): 'right', (0, 2): 'down', (0, 3): 'left', (1, 0): 'down', (1, 1): None, (1, 2): 'down', (1, 3): None, (2, 0): 'right', (2, 1): 'down', (2, 2): 'down', (2, 3): None, (3, 0): None, (3, 1): 'right', (3, 2): 'right', (3, 3): None}\n"
     ]
    }
   ],
   "execution_count": 39
  },
  {
   "metadata": {
    "ExecuteTime": {
     "end_time": "2025-08-22T10:11:22.792111Z",
     "start_time": "2025-08-22T10:11:22.761424Z"
    }
   },
   "cell_type": "code",
   "source": [
    "mdp_large = FrozenLakeEnv(map_name=\"8x8\")\n",
    "mdp_large.render()\n",
    "run_and_compare(mdp_large)"
   ],
   "outputs": [
    {
     "name": "stdout",
     "output_type": "stream",
     "text": [
      "*FFFFFFF\n",
      "FFFFFFFF\n",
      "FFFHFFFF\n",
      "FFFFFHFF\n",
      "FFFHFFFF\n",
      "FHHFFFHF\n",
      "FHFFHFHF\n",
      "FFFHFFFG\n",
      "\n",
      "\n",
      "=== Policy Iteration ===\n",
      "iter    0   |   diff: 0.10082   |   V((0, 0))=-0.000   V((0, 1))=-0.000   V((0, 2))=-0.000   V((0, 3))=-0.000   V((0, 4))=-0.000   V((0, 5))=-0.000   V((0, 6))=0.000   V((0, 7))=0.000   V((1, 0))=-0.000   V((1, 1))=-0.000   V((1, 2))=-0.000   V((1, 3))=-0.000   V((1, 4))=-0.000   V((1, 5))=0.000   V((1, 6))=0.000   V((1, 7))=0.000   V((2, 0))=-0.000   V((2, 1))=-0.000   V((2, 2))=0.000   V((2, 3))=0.000   V((2, 4))=0.000   V((2, 5))=0.000   V((2, 6))=0.000   V((2, 7))=0.000   V((3, 0))=-0.000   V((3, 1))=-0.000   V((3, 2))=-0.000   V((3, 3))=-0.000   V((3, 4))=0.000   V((3, 5))=0.000   V((3, 6))=0.000   V((3, 7))=0.000   V((4, 0))=-0.000   V((4, 1))=-0.000   V((4, 2))=0.000   V((4, 3))=0.000   V((4, 4))=0.000   V((4, 5))=0.000   V((4, 6))=0.000   V((4, 7))=0.001   V((5, 0))=0.000   V((5, 1))=0.000   V((5, 2))=0.000   V((5, 3))=0.000   V((5, 4))=0.000   V((5, 5))=0.000   V((5, 6))=0.000   V((5, 7))=0.009   V((6, 0))=0.000   V((6, 1))=0.000   V((6, 2))=0.000   V((6, 3))=0.000   V((6, 4))=0.000   V((6, 5))=0.000   V((6, 6))=0.000   V((6, 7))=0.101   V((7, 0))=-0.000   V((7, 1))=-0.000   V((7, 2))=0.000   V((7, 3))=0.000   V((7, 4))=0.000   V((7, 5))=0.000   V((7, 6))=0.000   V((7, 7))=0.000\n",
      "iter    1   |   diff: 0.87912   |   V((0, 0))=-0.000   V((0, 1))=-0.000   V((0, 2))=-0.000   V((0, 3))=-0.000   V((0, 4))=-0.000   V((0, 5))=0.000   V((0, 6))=0.300   V((0, 7))=0.337   V((1, 0))=-0.000   V((1, 1))=-0.000   V((1, 2))=-0.000   V((1, 3))=-0.000   V((1, 4))=-0.000   V((1, 5))=0.000   V((1, 6))=0.342   V((1, 7))=0.388   V((2, 0))=-0.000   V((2, 1))=-0.000   V((2, 2))=0.000   V((2, 3))=0.000   V((2, 4))=0.000   V((2, 5))=0.000   V((2, 6))=0.394   V((2, 7))=0.448   V((3, 0))=-0.000   V((3, 1))=-0.000   V((3, 2))=-0.000   V((3, 3))=-0.000   V((3, 4))=0.000   V((3, 5))=0.000   V((3, 6))=0.450   V((3, 7))=0.517   V((4, 0))=-0.000   V((4, 1))=-0.000   V((4, 2))=0.000   V((4, 3))=0.000   V((4, 4))=0.000   V((4, 5))=0.000   V((4, 6))=0.470   V((4, 7))=0.597   V((5, 0))=0.000   V((5, 1))=0.000   V((5, 2))=0.000   V((5, 3))=0.000   V((5, 4))=0.000   V((5, 5))=0.000   V((5, 6))=0.000   V((5, 7))=0.696   V((6, 0))=0.000   V((6, 1))=0.000   V((6, 2))=0.000   V((6, 3))=0.000   V((6, 4))=0.000   V((6, 5))=0.000   V((6, 6))=0.000   V((6, 7))=0.879   V((7, 0))=-0.000   V((7, 1))=-0.000   V((7, 2))=0.000   V((7, 3))=0.000   V((7, 4))=0.000   V((7, 5))=0.000   V((7, 6))=0.879   V((7, 7))=0.000\n",
      "iter    2   |   diff: 0.70215   |   V((0, 0))=-0.000   V((0, 1))=-0.000   V((0, 2))=-0.000   V((0, 3))=-0.000   V((0, 4))=0.000   V((0, 5))=0.267   V((0, 6))=0.300   V((0, 7))=0.337   V((1, 0))=-0.000   V((1, 1))=-0.000   V((1, 2))=-0.000   V((1, 3))=-0.000   V((1, 4))=0.000   V((1, 5))=0.298   V((1, 6))=0.342   V((1, 7))=0.388   V((2, 0))=-0.000   V((2, 1))=-0.000   V((2, 2))=0.000   V((2, 3))=0.000   V((2, 4))=0.000   V((2, 5))=0.310   V((2, 6))=0.394   V((2, 7))=0.448   V((3, 0))=-0.000   V((3, 1))=-0.000   V((3, 2))=-0.000   V((3, 3))=-0.000   V((3, 4))=0.000   V((3, 5))=0.000   V((3, 6))=0.450   V((3, 7))=0.517   V((4, 0))=-0.000   V((4, 1))=-0.000   V((4, 2))=0.000   V((4, 3))=0.000   V((4, 4))=0.000   V((4, 5))=0.342   V((4, 6))=0.470   V((4, 7))=0.597   V((5, 0))=0.000   V((5, 1))=0.000   V((5, 2))=0.000   V((5, 3))=0.000   V((5, 4))=0.000   V((5, 5))=0.037   V((5, 6))=0.000   V((5, 7))=0.696   V((6, 0))=0.000   V((6, 1))=0.000   V((6, 2))=0.000   V((6, 3))=0.000   V((6, 4))=0.000   V((6, 5))=0.067   V((6, 6))=0.000   V((6, 7))=0.879   V((7, 0))=-0.000   V((7, 1))=-0.000   V((7, 2))=0.000   V((7, 3))=0.000   V((7, 4))=0.000   V((7, 5))=0.702   V((7, 6))=0.879   V((7, 7))=0.000\n",
      "iter    3   |   diff: 0.59253   |   V((0, 0))=0.000   V((0, 1))=0.000   V((0, 2))=0.000   V((0, 3))=0.000   V((0, 4))=0.239   V((0, 5))=0.270   V((0, 6))=0.304   V((0, 7))=0.337   V((1, 0))=0.000   V((1, 1))=0.000   V((1, 2))=0.000   V((1, 3))=0.000   V((1, 4))=0.261   V((1, 5))=0.301   V((1, 6))=0.346   V((1, 7))=0.388   V((2, 0))=0.000   V((2, 1))=0.000   V((2, 2))=0.000   V((2, 3))=0.000   V((2, 4))=0.252   V((2, 5))=0.311   V((2, 6))=0.394   V((2, 7))=0.448   V((3, 0))=0.000   V((3, 1))=0.000   V((3, 2))=-0.000   V((3, 3))=-0.000   V((3, 4))=0.048   V((3, 5))=0.000   V((3, 6))=0.450   V((3, 7))=0.517   V((4, 0))=-0.000   V((4, 1))=-0.000   V((4, 2))=-0.000   V((4, 3))=0.000   V((4, 4))=0.287   V((4, 5))=0.364   V((4, 6))=0.470   V((4, 7))=0.597   V((5, 0))=-0.000   V((5, 1))=0.000   V((5, 2))=0.000   V((5, 3))=-0.000   V((5, 4))=0.229   V((5, 5))=0.283   V((5, 6))=0.000   V((5, 7))=0.696   V((6, 0))=-0.000   V((6, 1))=0.000   V((6, 2))=-0.000   V((6, 3))=-0.000   V((6, 4))=0.000   V((6, 5))=0.539   V((6, 6))=0.000   V((6, 7))=0.879   V((7, 0))=-0.000   V((7, 1))=-0.000   V((7, 2))=-0.000   V((7, 3))=0.000   V((7, 4))=0.593   V((7, 5))=0.749   V((7, 6))=0.879   V((7, 7))=0.000\n",
      "iter    4   |   diff: 0.21017   |   V((0, 0))=0.001   V((0, 1))=0.005   V((0, 2))=0.035   V((0, 3))=0.210   V((0, 4))=0.240   V((0, 5))=0.270   V((0, 6))=0.304   V((0, 7))=0.337   V((1, 0))=0.000   V((1, 1))=0.002   V((1, 2))=0.022   V((1, 3))=0.208   V((1, 4))=0.263   V((1, 5))=0.301   V((1, 6))=0.346   V((1, 7))=0.388   V((2, 0))=0.000   V((2, 1))=0.000   V((2, 2))=0.004   V((2, 3))=0.000   V((2, 4))=0.269   V((2, 5))=0.311   V((2, 6))=0.394   V((2, 7))=0.448   V((3, 0))=0.000   V((3, 1))=0.000   V((3, 2))=0.019   V((3, 3))=0.176   V((3, 4))=0.245   V((3, 5))=0.000   V((3, 6))=0.450   V((3, 7))=0.517   V((4, 0))=0.000   V((4, 1))=0.000   V((4, 2))=0.002   V((4, 3))=0.000   V((4, 4))=0.318   V((4, 5))=0.376   V((4, 6))=0.470   V((4, 7))=0.597   V((5, 0))=0.000   V((5, 1))=0.000   V((5, 2))=0.000   V((5, 3))=0.207   V((5, 4))=0.285   V((5, 5))=0.414   V((5, 6))=0.000   V((5, 7))=0.696   V((6, 0))=0.000   V((6, 1))=0.000   V((6, 2))=0.002   V((6, 3))=0.019   V((6, 4))=0.000   V((6, 5))=0.539   V((6, 6))=0.000   V((6, 7))=0.879   V((7, 0))=0.000   V((7, 1))=0.000   V((7, 2))=0.000   V((7, 3))=0.000   V((7, 4))=0.593   V((7, 5))=0.749   V((7, 6))=0.879   V((7, 7))=0.000\n",
      "iter    5   |   diff: 0.17901   |   V((0, 0))=0.141   V((0, 1))=0.161   V((0, 2))=0.184   V((0, 3))=0.210   V((0, 4))=0.240   V((0, 5))=0.270   V((0, 6))=0.304   V((0, 7))=0.337   V((1, 0))=0.134   V((1, 1))=0.155   V((1, 2))=0.179   V((1, 3))=0.208   V((1, 4))=0.263   V((1, 5))=0.301   V((1, 6))=0.346   V((1, 7))=0.388   V((2, 0))=0.113   V((2, 1))=0.127   V((2, 2))=0.140   V((2, 3))=0.000   V((2, 4))=0.270   V((2, 5))=0.311   V((2, 6))=0.394   V((2, 7))=0.448   V((3, 0))=0.111   V((3, 1))=0.130   V((3, 2))=0.152   V((3, 3))=0.179   V((3, 4))=0.249   V((3, 5))=0.000   V((3, 6))=0.450   V((3, 7))=0.517   V((4, 0))=0.086   V((4, 1))=0.097   V((4, 2))=0.118   V((4, 3))=0.000   V((4, 4))=0.323   V((4, 5))=0.376   V((4, 6))=0.470   V((4, 7))=0.597   V((5, 0))=0.068   V((5, 1))=0.000   V((5, 2))=0.000   V((5, 3))=0.255   V((5, 4))=0.330   V((5, 5))=0.418   V((5, 6))=0.000   V((5, 7))=0.696   V((6, 0))=0.064   V((6, 1))=0.000   V((6, 2))=0.153   V((6, 3))=0.198   V((6, 4))=0.000   V((6, 5))=0.539   V((6, 6))=0.000   V((6, 7))=0.879   V((7, 0))=0.081   V((7, 1))=0.094   V((7, 2))=0.119   V((7, 3))=0.000   V((7, 4))=0.593   V((7, 5))=0.749   V((7, 6))=0.879   V((7, 7))=0.000\n",
      "iter    6   |   diff: 0.01849   |   V((0, 0))=0.141   V((0, 1))=0.161   V((0, 2))=0.184   V((0, 3))=0.210   V((0, 4))=0.240   V((0, 5))=0.270   V((0, 6))=0.304   V((0, 7))=0.337   V((1, 0))=0.136   V((1, 1))=0.156   V((1, 2))=0.179   V((1, 3))=0.208   V((1, 4))=0.263   V((1, 5))=0.301   V((1, 6))=0.346   V((1, 7))=0.388   V((2, 0))=0.121   V((2, 1))=0.136   V((2, 2))=0.141   V((2, 3))=0.000   V((2, 4))=0.270   V((2, 5))=0.311   V((2, 6))=0.394   V((2, 7))=0.448   V((3, 0))=0.115   V((3, 1))=0.132   V((3, 2))=0.152   V((3, 3))=0.179   V((3, 4))=0.249   V((3, 5))=0.000   V((3, 6))=0.450   V((3, 7))=0.517   V((4, 0))=0.103   V((4, 1))=0.115   V((4, 2))=0.120   V((4, 3))=0.000   V((4, 4))=0.323   V((4, 5))=0.376   V((4, 6))=0.470   V((4, 7))=0.597   V((5, 0))=0.081   V((5, 1))=0.000   V((5, 2))=0.000   V((5, 3))=0.255   V((5, 4))=0.330   V((5, 5))=0.418   V((5, 6))=0.000   V((5, 7))=0.696   V((6, 0))=0.064   V((6, 1))=0.000   V((6, 2))=0.153   V((6, 3))=0.198   V((6, 4))=0.000   V((6, 5))=0.539   V((6, 6))=0.000   V((6, 7))=0.879   V((7, 0))=0.081   V((7, 1))=0.094   V((7, 2))=0.119   V((7, 3))=0.000   V((7, 4))=0.593   V((7, 5))=0.749   V((7, 6))=0.879   V((7, 7))=0.000\n",
      "iter    7   |   diff: 0.00056   |   V((0, 0))=0.141   V((0, 1))=0.161   V((0, 2))=0.184   V((0, 3))=0.210   V((0, 4))=0.240   V((0, 5))=0.270   V((0, 6))=0.304   V((0, 7))=0.337   V((1, 0))=0.136   V((1, 1))=0.156   V((1, 2))=0.179   V((1, 3))=0.208   V((1, 4))=0.263   V((1, 5))=0.301   V((1, 6))=0.346   V((1, 7))=0.388   V((2, 0))=0.121   V((2, 1))=0.136   V((2, 2))=0.141   V((2, 3))=0.000   V((2, 4))=0.270   V((2, 5))=0.311   V((2, 6))=0.394   V((2, 7))=0.448   V((3, 0))=0.115   V((3, 1))=0.132   V((3, 2))=0.152   V((3, 3))=0.179   V((3, 4))=0.249   V((3, 5))=0.000   V((3, 6))=0.450   V((3, 7))=0.517   V((4, 0))=0.103   V((4, 1))=0.115   V((4, 2))=0.120   V((4, 3))=0.000   V((4, 4))=0.323   V((4, 5))=0.376   V((4, 6))=0.470   V((4, 7))=0.597   V((5, 0))=0.081   V((5, 1))=0.000   V((5, 2))=0.000   V((5, 3))=0.255   V((5, 4))=0.330   V((5, 5))=0.418   V((5, 6))=0.000   V((5, 7))=0.696   V((6, 0))=0.064   V((6, 1))=0.000   V((6, 2))=0.153   V((6, 3))=0.198   V((6, 4))=0.000   V((6, 5))=0.539   V((6, 6))=0.000   V((6, 7))=0.879   V((7, 0))=0.081   V((7, 1))=0.094   V((7, 2))=0.119   V((7, 3))=0.000   V((7, 4))=0.593   V((7, 5))=0.749   V((7, 6))=0.879   V((7, 7))=0.000\n",
      "iter    8   |   diff: 0.00000   |   V((0, 0))=0.141   V((0, 1))=0.161   V((0, 2))=0.184   V((0, 3))=0.210   V((0, 4))=0.240   V((0, 5))=0.270   V((0, 6))=0.304   V((0, 7))=0.337   V((1, 0))=0.136   V((1, 1))=0.156   V((1, 2))=0.179   V((1, 3))=0.208   V((1, 4))=0.263   V((1, 5))=0.301   V((1, 6))=0.346   V((1, 7))=0.388   V((2, 0))=0.121   V((2, 1))=0.136   V((2, 2))=0.141   V((2, 3))=0.000   V((2, 4))=0.270   V((2, 5))=0.311   V((2, 6))=0.394   V((2, 7))=0.448   V((3, 0))=0.115   V((3, 1))=0.132   V((3, 2))=0.152   V((3, 3))=0.179   V((3, 4))=0.249   V((3, 5))=0.000   V((3, 6))=0.450   V((3, 7))=0.517   V((4, 0))=0.103   V((4, 1))=0.115   V((4, 2))=0.120   V((4, 3))=0.000   V((4, 4))=0.323   V((4, 5))=0.376   V((4, 6))=0.470   V((4, 7))=0.597   V((5, 0))=0.081   V((5, 1))=0.000   V((5, 2))=0.000   V((5, 3))=0.255   V((5, 4))=0.330   V((5, 5))=0.418   V((5, 6))=0.000   V((5, 7))=0.696   V((6, 0))=0.064   V((6, 1))=0.000   V((6, 2))=0.153   V((6, 3))=0.198   V((6, 4))=0.000   V((6, 5))=0.539   V((6, 6))=0.000   V((6, 7))=0.879   V((7, 0))=0.081   V((7, 1))=0.094   V((7, 2))=0.119   V((7, 3))=0.000   V((7, 4))=0.593   V((7, 5))=0.749   V((7, 6))=0.879   V((7, 7))=0.000\n",
      "Converged!\n",
      "PI values: {(0, 0): np.float64(0.1407764846564591), (0, 1): np.float64(0.16097730081029923), (0, 2): np.float64(0.18400323246850375), (0, 3): np.float64(0.21017428963200188), (0, 4): np.float64(0.2396266334079846), (0, 5): np.float64(0.27001997384945586), (0, 6): np.float64(0.30362186638128486), (0, 7): np.float64(0.33741240365031555), (1, 0): np.float64(0.13558827171069252), (1, 1): np.float64(0.1556335151116621), (1, 2): np.float64(0.17908281123663386), (1, 3): np.float64(0.2080825279041421), (1, 4): np.float64(0.2627317247739749), (1, 5): np.float64(0.3012270267608856), (1, 6): np.float64(0.345767989453202), (1, 7): np.float64(0.38849905464926593), (2, 0): np.float64(0.12069174679127191), (2, 1): np.float64(0.13562148831509743), (2, 2): np.float64(0.1411455580387352), (2, 3): np.float64(0.0), (2, 4): np.float64(0.2697985388824288), (2, 5): np.float64(0.3108030745347681), (2, 6): np.float64(0.39401755850873377), (2, 7): np.float64(0.4477986398333941), (3, 0): np.float64(0.11536207150971539), (3, 1): np.float64(0.13230367678184188), (3, 2): np.float64(0.15238884420787058), (3, 3): np.float64(0.17899575990190403), (3, 4): np.float64(0.2486052220859778), (3, 5): np.float64(0.0), (3, 6): np.float64(0.44981576419890956), (3, 7): np.float64(0.5167155305313924), (4, 0): np.float64(0.1026796335063861), (4, 1): np.float64(0.11530861115351437), (4, 2): np.float64(0.12009774283348311), (4, 3): np.float64(0.0), (4, 4): np.float64(0.3229105606872311), (4, 5): np.float64(0.37616525443953314), (4, 6): np.float64(0.4702111327835671), (4, 7): np.float64(0.5968440472300905), (5, 0): np.float64(0.08124102870834944), (5, 1): np.float64(0.0), (5, 2): np.float64(0.0), (5, 3): np.float64(0.2553634226431014), (5, 4): np.float64(0.3299678611447692), (5, 5): np.float64(0.4179248759484978), (5, 6): np.float64(0.0), (5, 7): np.float64(0.6955681680956407), (6, 0): np.float64(0.06427861612089185), (6, 1): np.float64(0.0), (6, 2): np.float64(0.152964547110439), (6, 3): np.float64(0.19762847354297253), (6, 4): np.float64(0.0), (6, 5): np.float64(0.5392052339520396), (6, 6): np.float64(0.0), (6, 7): np.float64(0.8791208791208791), (7, 0): np.float64(0.08058858174014491), (7, 1): np.float64(0.09382018601757167), (7, 2): np.float64(0.11857829066109753), (7, 3): np.float64(0.0), (7, 4): np.float64(0.5925332241231204), (7, 5): np.float64(0.7488961582667215), (7, 6): np.float64(0.8791208791208791), (7, 7): np.float64(0.0)}\n",
      "PI policy: {(0, 0): 'right', (0, 1): 'right', (0, 2): 'right', (0, 3): 'right', (0, 4): 'right', (0, 5): 'right', (0, 6): 'down', (0, 7): 'down', (1, 0): 'right', (1, 1): 'right', (1, 2): 'right', (1, 3): 'right', (1, 4): 'right', (1, 5): 'right', (1, 6): 'down', (1, 7): 'down', (2, 0): 'up', (2, 1): 'up', (2, 2): 'up', (2, 3): None, (2, 4): 'right', (2, 5): 'right', (2, 6): 'right', (2, 7): 'down', (3, 0): 'right', (3, 1): 'right', (3, 2): 'right', (3, 3): 'right', (3, 4): 'down', (3, 5): None, (3, 6): 'right', (3, 7): 'down', (4, 0): 'up', (4, 1): 'up', (4, 2): 'up', (4, 3): None, (4, 4): 'right', (4, 5): 'right', (4, 6): 'right', (4, 7): 'down', (5, 0): 'up', (5, 1): None, (5, 2): None, (5, 3): 'right', (5, 4): 'right', (5, 5): 'down', (5, 6): None, (5, 7): 'down', (6, 0): 'up', (6, 1): None, (6, 2): 'right', (6, 3): 'up', (6, 4): None, (6, 5): 'down', (6, 6): None, (6, 7): 'down', (7, 0): 'right', (7, 1): 'right', (7, 2): 'up', (7, 3): None, (7, 4): 'right', (7, 5): 'right', (7, 6): 'right', (7, 7): None}\n",
      "\n",
      "=== Value Iteration ===\n",
      "iter    0   |   diff: 0.80000   |   V(start): 0.000 \n",
      "iter    1   |   diff: 0.57600   |   V(start): 0.000 \n",
      "iter    2   |   diff: 0.41472   |   V(start): 0.000 \n",
      "iter    3   |   diff: 0.29860   |   V(start): 0.000 \n",
      "iter    4   |   diff: 0.24186   |   V(start): 0.000 \n",
      "iter    5   |   diff: 0.19349   |   V(start): 0.000 \n",
      "iter    6   |   diff: 0.15325   |   V(start): 0.000 \n",
      "iter    7   |   diff: 0.12288   |   V(start): 0.000 \n",
      "iter    8   |   diff: 0.09930   |   V(start): 0.000 \n",
      "iter    9   |   diff: 0.08037   |   V(start): 0.000 \n",
      "iter   10   |   diff: 0.06426   |   V(start): 0.000 \n",
      "iter   11   |   diff: 0.05129   |   V(start): 0.000 \n",
      "iter   12   |   diff: 0.04330   |   V(start): 0.000 \n",
      "iter   13   |   diff: 0.03802   |   V(start): 0.033 \n",
      "iter   14   |   diff: 0.03332   |   V(start): 0.058 \n",
      "iter   15   |   diff: 0.02910   |   V(start): 0.087 \n",
      "iter   16   |   diff: 0.01855   |   V(start): 0.106 \n",
      "iter   17   |   diff: 0.01403   |   V(start): 0.120 \n",
      "iter   18   |   diff: 0.00810   |   V(start): 0.128 \n",
      "iter   19   |   diff: 0.00555   |   V(start): 0.133 \n",
      "iter   20   |   diff: 0.00321   |   V(start): 0.137 \n",
      "iter   21   |   diff: 0.00247   |   V(start): 0.138 \n",
      "iter   22   |   diff: 0.00147   |   V(start): 0.139 \n",
      "iter   23   |   diff: 0.00104   |   V(start): 0.140 \n",
      "iter   24   |   diff: 0.00058   |   V(start): 0.140 \n",
      "iter   25   |   diff: 0.00036   |   V(start): 0.141 \n",
      "iter   26   |   diff: 0.00024   |   V(start): 0.141 \n",
      "iter   27   |   diff: 0.00018   |   V(start): 0.141 \n",
      "iter   28   |   diff: 0.00012   |   V(start): 0.141 \n",
      "iter   29   |   diff: 0.00007   |   V(start): 0.141 \n",
      "iter   30   |   diff: 0.00004   |   V(start): 0.141 \n",
      "iter   31   |   diff: 0.00003   |   V(start): 0.141 \n",
      "iter   32   |   diff: 0.00001   |   V(start): 0.141 \n",
      "iter   33   |   diff: 0.00001   |   V(start): 0.141 \n",
      "VI values: {(0, 0): 0.1407750491895669, (0, 1): 0.1609766628590319, (0, 2): 0.18400294705963116, (0, 3): 0.21017415211688356, (0, 4): 0.23962656155462117, (0, 5): 0.2700199358502565, (0, 6): 0.3036218462096403, (0, 7): 0.33741239309262544, (1, 0): 0.13558636173331204, (1, 1): 0.15563272874050643, (1, 2): 0.17908253092285123, (1, 3): 0.20808244538218978, (1, 4): 0.26273168163433336, (1, 5): 0.30122700703010014, (1, 6): 0.34576798077851284, (1, 7): 0.38849905087170644, (2, 0): 0.12068830471630793, (2, 1): 0.13561970757722913, (2, 2): 0.14114488040787337, (2, 3): 0, (2, 4): 0.26979852032563906, (2, 5): 0.3108030665149873, (2, 6): 0.394017555209199, (2, 7): 0.4477986386379987, (3, 0): 0.11535950595235799, (3, 1): 0.13230274629262267, (3, 2): 0.15238861959179562, (3, 3): 0.17899575805275128, (3, 4): 0.24860522072839178, (3, 5): 0, (3, 6): 0.4498157631654122, (3, 7): 0.51671553023092, (4, 0): 0.10267522382594854, (4, 1): 0.11530652422085819, (4, 2): 0.12009711025336885, (4, 3): 0, (4, 4): 0.32291055994780216, (4, 5): 0.37616525408904145, (4, 6): 0.47021113253520697, (4, 7): 0.5968440471779781, (5, 0): 0.08123407216882766, (5, 1): 0, (5, 2): 0, (5, 3): 0.2553634222640006, (5, 4): 0.3299678609750707, (5, 5): 0.4179248759196045, (5, 6): 0, (5, 7): 0.6955681680956406, (6, 0): 0.06426791557283602, (6, 1): 0, (6, 2): 0.15296454527210532, (6, 3): 0.19762847266479422, (6, 4): 0, (6, 5): 0.5392052339520395, (6, 6): 0, (6, 7): 0.8791208791208791, (7, 0): 0.08058651193809412, (7, 1): 0.09382017960220441, (7, 2): 0.11857828678005648, (7, 3): 0, (7, 4): 0.5925332241231203, (7, 5): 0.7488961582667214, (7, 6): 0.8791208791208791, (7, 7): 0}\n",
      "VI policy: {(0, 0): 'right', (0, 1): 'right', (0, 2): 'right', (0, 3): 'right', (0, 4): 'right', (0, 5): 'right', (0, 6): 'down', (0, 7): 'down', (1, 0): 'right', (1, 1): 'right', (1, 2): 'right', (1, 3): 'right', (1, 4): 'right', (1, 5): 'right', (1, 6): 'down', (1, 7): 'down', (2, 0): 'up', (2, 1): 'up', (2, 2): 'up', (2, 3): None, (2, 4): 'right', (2, 5): 'right', (2, 6): 'right', (2, 7): 'down', (3, 0): 'right', (3, 1): 'right', (3, 2): 'right', (3, 3): 'right', (3, 4): 'down', (3, 5): None, (3, 6): 'right', (3, 7): 'down', (4, 0): 'up', (4, 1): 'up', (4, 2): 'up', (4, 3): None, (4, 4): 'right', (4, 5): 'right', (4, 6): 'right', (4, 7): 'down', (5, 0): 'up', (5, 1): None, (5, 2): None, (5, 3): 'right', (5, 4): 'right', (5, 5): 'down', (5, 6): None, (5, 7): 'down', (6, 0): 'up', (6, 1): None, (6, 2): 'right', (6, 3): 'up', (6, 4): None, (6, 5): 'down', (6, 6): None, (6, 7): 'down', (7, 0): 'right', (7, 1): 'right', (7, 2): 'up', (7, 3): None, (7, 4): 'right', (7, 5): 'right', (7, 6): 'right', (7, 7): None}\n"
     ]
    }
   ],
   "execution_count": 41
  },
  {
   "cell_type": "markdown",
   "metadata": {},
   "source": [
    "## Policy iteration convergence (3 pts)\n",
    "\n",
    "**Note:** Assume that $\\mathcal{S}, \\mathcal{A}$ are finite.\n",
    "\n",
    "We can define another Bellman operator:\n",
    "\n",
    "$$(T_{\\pi}V)(s) = \\mathbb{E}_{r, s'|s, a = \\pi(s)}\\left[r + \\gamma V(s')\\right]$$\n",
    "\n",
    "And rewrite policy iteration algorithm in operator form:\n",
    "\n",
    "\n",
    "---\n",
    "\n",
    "Initialize $\\pi_0$\n",
    "\n",
    "**for** $k = 0,1,2,...$ **do**\n",
    "\n",
    "&nbsp;&nbsp;&nbsp;&nbsp; Solve $V_k = T_{\\pi_k}V_k$   \n",
    "\n",
    "&nbsp;&nbsp;&nbsp;&nbsp; Select $\\pi_{k+1}$ s.t. $T_{\\pi_{k+1}}V_k = TV_k$ \n",
    "\n",
    "**end for**\n",
    "\n",
    "---\n",
    "\n",
    "To prove convergence of the algorithm we need to prove two properties: contraction an monotonicity.\n",
    "\n",
    "#### Monotonicity (0.5 pts)\n",
    "\n",
    "For all $V, U$ if $V(s) \\le U(s)$   $\\forall s \\in \\mathcal{S}$ then $(T_\\pi V)(s) \\le (T_\\pi U)(s)$   $\\forall s \\in  \\mathcal{S}$\n",
    "\n",
    "\n",
    "\n",
    "*<-- My proof here -->*\n",
    "\n",
    "Assume $V(s) \\le U(s) \\forall s \\in \\mathcal{S}$\n",
    "By definition of Bellman operator, $(T_{\\pi}V)(s) = \\mathbb{E}_{r, s'|s, a = \\pi(s)}\\left[r + \\gamma V(s')\\right]$\n",
    "\n",
    "\n",
    "Let's expand $\\mathbb{E}$: $(T_{\\pi}V)(s) = \\sum_{s', r} p(s',r|s, \\pi(s))[r+\\gamma V(s')]$\n",
    "\n",
    "\n",
    "$\\gamma > 0$  and $V(s) \\le U(s)$, so $\\gamma*V(s') \\le \\gamma*U(s')$ and\n",
    "$r+\\gamma V(s') \\le r+\\gamma U(s')$\n",
    "\n",
    "\n",
    "Because probabilities $p(s',r|s, \\pi(s)) \\ge 0$, we can multiplie both parts and sum by $s'$:\n",
    "\n",
    "\n",
    "$\\sum_{s', r} p(s',r|s, \\pi(s))[r+\\gamma V(s')]\\  \\le\\  \\sum_{s', r} p(s',r|s, \\pi(s))[r+\\gamma U(s')]$\n",
    "\n",
    "\n",
    "And that is exactly\n",
    "\n",
    "\n",
    "$(T_{\\pi}V)(s) \\le (T_{\\pi}U)(s)\\ \\  \\forall s \\in \\mathcal{S}$\n",
    "\n",
    "*<-- My proof ended -->*\n",
    "\n",
    "\n",
    "#### Contraction (1 pts)\n",
    "\n",
    "$$\n",
    "||T_\\pi V - T_\\pi U||_{\\infty} \\le \\gamma ||V - U||_{\\infty}\n",
    "$$\n",
    "\n",
    "For all $V, U$\n",
    "\n",
    "\n",
    "\n",
    "*<-- My proof here -->*\n",
    "Consider the difference for an arbitrary state $s$:\n",
    "\n",
    "$(T_\\pi V)(s) - (T_{\\pi}U)(s) = \\mathbb{E}[r+\\gamma V(s')|s,\\pi(s)] - \\mathbb{E}[r+\\gamma U(s')|s,\\pi(s)]$\n",
    "\n",
    "By linear properties of expactation:\n",
    "\n",
    "$(T_\\pi V)(s) - (T_{\\pi}U)(s) = \\gamma \\mathbb{E}[V(s')-U(s')|s, \\pi(s)]$\n",
    "\n",
    "Applying property $|\\mathbb{E}[X]| \\le \\mathbb{E}[|X|]$:\n",
    "\n",
    "$\\gamma |\\mathbb{E}[V(s')-U(s')|s, \\pi(s)]| \\le \\gamma \\mathbb{E}[|V(s')-U(s')||s, \\pi(s)]$\n",
    "\n",
    "$|V(s') - U(s') \\le max_{z \\in \\mathcal{S}} |V(z) - U(z)| = ||V-U||_{\\infty} = const$\n",
    "\n",
    "$\\gamma E[||V-U||_{\\infty}|s, \\pi(s)] = \\gamma||V-U||_{\\infty}$\n",
    "\n",
    "$||T_{\\pi}V - T_{\\pi}U||_{\\infty} = max_{s \\in \\mathcal{s}}|T_{\\pi}V(s) - T_{\\pi}U(s) \\le \\gamma||V-U||_{\\infty}$\n",
    "\n",
    "\n",
    "*<-- My proof ended -->*\n",
    "\n",
    "\n",
    "#### Convergence (1.5 pts)\n",
    "\n",
    "Prove that there exists iteration $k_0$ such that $\\pi_k = \\pi^*$ for all $k \\ge k_0$\n",
    "\n",
    "На каждой итерации $k$ алгоритма, новая политика $\\pi_{k+1}$ выбирается так, чтобы быть жадной по отношению к функции ценности $V_{k} = V^{\\pi_{k}}$.\n",
    "\n",
    "Это означает что действие, выбранное $\\pi_{k+1}$ не хуже действия, выбранного $\\pi_{k}$ $\\forall s \\in \\mathcal{S}$\n",
    "\n",
    "\n",
    "$(T_{\\pi_{k+1}}V) = max_{{a \\in \\mathcal{A}}}\\mathbb{E}[r+\\gamma V_{k}(s')|s,a] \\ge \\mathbb{E}[r+\\gamma V_{k}(s')|s, \\pi_{{k}}(s)] = (T_{\\pi_{}{k}}V_{k})(s)$\n",
    "\n",
    "\n",
    "\n",
    "Я не знаю как доказать то мега-строго, т.к. ранее там можно было просто формульно это написать.\n",
    "\n",
    "Но ввиду конечности пространства действий и состояний (а политика $\\pi$ - это отображение из пространства состояний в пространство действий), а также того факта, что $\\pi_{k} \\neq \\pi_{k+1}$ - т.к. мы получаем строго лучшую функцию ценности - $\\exists s \\in \\mathcal{S} \\ \\ V_{k+1}(s) > V_{k}(s)$ ровно до того момента, пока алгоритм не сошёлся - ну тут как бы логично, что ввиду конечности того, где мы улучшаем нашу политику, мы сойдёмся, и это что-то будет оптимальным просто потому что у нас улучшение заложено та, что деградировать мы не сможем."
   ]
  }
 ],
 "metadata": {
  "kernelspec": {
   "display_name": "Python 3",
   "language": "python",
   "name": "python3"
  },
  "language_info": {
   "codemirror_mode": {
    "name": "ipython",
    "version": 3
   },
   "file_extension": ".py",
   "mimetype": "text/x-python",
   "name": "python",
   "nbconvert_exporter": "python",
   "pygments_lexer": "ipython3",
   "version": "3.8.10"
  }
 },
 "nbformat": 4,
 "nbformat_minor": 2
}
