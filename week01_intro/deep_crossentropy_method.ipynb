{
  "cells": [
    {
      "cell_type": "markdown",
      "metadata": {
        "id": "I_i1q1TWG9zH"
      },
      "source": [
        "# Deep Crossentropy method\n",
        "\n",
        "In this section we'll extend your CEM implementation with neural networks! You will train a multi-layer neural network to solve simple continuous state space games. __Please make sure you're done with tabular crossentropy method from the previous notebook.__\n",
        "\n",
        "![img](https://watanimg.elwatannews.com/old_news_images/large/249765_Large_20140709045740_11.jpg)\n",
        "\n"
      ]
    },
    {
      "cell_type": "code",
      "execution_count": 27,
      "metadata": {
        "id": "t4CJ1sRyG9zJ"
      },
      "outputs": [],
      "source": [
        "import sys, os\n",
        "if 'google.colab' in sys.modules and not os.path.exists('.setup_complete'):\n",
        "    !wget -q https://raw.githubusercontent.com/yandexdataschool/Practical_RL/master/setup_colab.sh -O- | bash\n",
        "    !touch .setup_complete\n",
        "\n",
        "# This code creates a virtual display to draw game images on.\n",
        "# It will have no effect if your machine has a monitor.\n",
        "if type(os.environ.get(\"DISPLAY\")) is not str or len(os.environ.get(\"DISPLAY\")) == 0:\n",
        "    !bash ../xvfb start\n",
        "    os.environ['DISPLAY'] = ':1'"
      ]
    },
    {
      "cell_type": "code",
      "execution_count": 28,
      "metadata": {
        "id": "C2xd5vPwPVCb",
        "colab": {
          "base_uri": "https://localhost:8080/"
        },
        "outputId": "94827d95-64bb-4492-a107-56714971f731"
      },
      "outputs": [
        {
          "output_type": "stream",
          "name": "stdout",
          "text": [
            "Requirement already satisfied: gymnasium[classic_control,toy_text] in /usr/local/lib/python3.11/dist-packages (1.2.0)\n",
            "Requirement already satisfied: numpy>=1.21.0 in /usr/local/lib/python3.11/dist-packages (from gymnasium[classic_control,toy_text]) (2.0.2)\n",
            "Requirement already satisfied: cloudpickle>=1.2.0 in /usr/local/lib/python3.11/dist-packages (from gymnasium[classic_control,toy_text]) (3.1.1)\n",
            "Requirement already satisfied: typing-extensions>=4.3.0 in /usr/local/lib/python3.11/dist-packages (from gymnasium[classic_control,toy_text]) (4.14.1)\n",
            "Requirement already satisfied: farama-notifications>=0.0.1 in /usr/local/lib/python3.11/dist-packages (from gymnasium[classic_control,toy_text]) (0.0.4)\n",
            "Requirement already satisfied: pygame>=2.1.3 in /usr/local/lib/python3.11/dist-packages (from gymnasium[classic_control,toy_text]) (2.6.1)\n"
          ]
        }
      ],
      "source": [
        "# Install gymnasium if you didn't\n",
        "!pip install \"gymnasium[toy_text,classic_control]\""
      ]
    },
    {
      "cell_type": "code",
      "execution_count": 29,
      "metadata": {
        "id": "EzF2giUzU4bN"
      },
      "outputs": [],
      "source": [
        "from itertools import chain"
      ]
    },
    {
      "cell_type": "code",
      "execution_count": 30,
      "metadata": {
        "id": "_2zbc7ahG9zK",
        "colab": {
          "base_uri": "https://localhost:8080/",
          "height": 431
        },
        "outputId": "f59e2578-5772-46d0-cffa-05a8670d6e2c"
      },
      "outputs": [
        {
          "output_type": "stream",
          "name": "stdout",
          "text": [
            "state vector dim = 4\n",
            "n_actions = 2\n"
          ]
        },
        {
          "output_type": "display_data",
          "data": {
            "text/plain": [
              "<Figure size 640x480 with 1 Axes>"
            ],
            "image/png": "[encoded data removed]"
          },
          "metadata": {}
        }
      ],
      "source": [
        "import gymnasium as gym\n",
        "import numpy as np\n",
        "import matplotlib.pyplot as plt\n",
        "%matplotlib inline\n",
        "\n",
        "# if you see \"<classname> has no attribute .env\", remove .env or update gym\n",
        "env = gym.make(\"CartPole-v1\", render_mode=\"rgb_array\").env\n",
        "\n",
        "env.reset()\n",
        "n_actions = env.action_space.n\n",
        "state_dim = env.observation_space.shape[0]\n",
        "\n",
        "plt.imshow(env.render())\n",
        "print(\"state vector dim =\", state_dim)\n",
        "print(\"n_actions =\", n_actions)\n",
        "\n",
        "env.close()"
      ]
    },
    {
      "cell_type": "markdown",
      "metadata": {
        "id": "Z72_alhdG9zK"
      },
      "source": [
        "# Neural Network Policy\n",
        "\n",
        "For this assignment we'll utilize the simplified neural network implementation from __[Scikit-learn](https://scikit-learn.org/stable/modules/generated/sklearn.neural_network.MLPClassifier.html)__. Here's what you'll need:\n",
        "\n",
        "* `agent.partial_fit(states, actions)` - make a single training pass over the data. Maximize the probability of :actions: from :states:\n",
        "* `agent.predict_proba(states)` - predict probabilities of all actions, a matrix of shape __[len(states), n_actions]__\n"
      ]
    },
    {
      "cell_type": "code",
      "execution_count": 31,
      "metadata": {
        "id": "wLItY4unG9zL",
        "colab": {
          "base_uri": "https://localhost:8080/",
          "height": 80
        },
        "outputId": "76b01185-38b8-4377-b5ab-296e689b8f2a"
      },
      "outputs": [
        {
          "output_type": "execute_result",
          "data": {
            "text/plain": [
              "MLPClassifier(activation='tanh', hidden_layer_sizes=(20, 20), warm_start=True)"
            ],
            "text/html": [
              "<style>#sk-container-id-3 {\n",
              "  /* Definition of color scheme common for light and dark mode */\n",
              "  --sklearn-color-text: #000;\n",
              "  --sklearn-color-text-muted: #666;\n",
              "  --sklearn-color-line: gray;\n",
              "  /* Definition of color scheme for unfitted estimators */\n",
              "  --sklearn-color-unfitted-level-0: #fff5e6;\n",
              "  --sklearn-color-unfitted-level-1: #f6e4d2;\n",
              "  --sklearn-color-unfitted-level-2: #ffe0b3;\n",
              "  --sklearn-color-unfitted-level-3: chocolate;\n",
              "  /* Definition of color scheme for fitted estimators */\n",
              "  --sklearn-color-fitted-level-0: #f0f8ff;\n",
              "  --sklearn-color-fitted-level-1: #d4ebff;\n",
              "  --sklearn-color-fitted-level-2: #b3dbfd;\n",
              "  --sklearn-color-fitted-level-3: cornflowerblue;\n",
              "\n",
              "  /* Specific color for light theme */\n",
              "  --sklearn-color-text-on-default-background: var(--sg-text-color, var(--theme-code-foreground, var(--jp-content-font-color1, black)));\n",
              "  --sklearn-color-background: var(--sg-background-color, var(--theme-background, var(--jp-layout-color0, white)));\n",
              "  --sklearn-color-border-box: var(--sg-text-color, var(--theme-code-foreground, var(--jp-content-font-color1, black)));\n",
              "  --sklearn-color-icon: #696969;\n",
              "\n",
              "  @media (prefers-color-scheme: dark) {\n",
              "    /* Redefinition of color scheme for dark theme */\n",
              "    --sklearn-color-text-on-default-background: var(--sg-text-color, var(--theme-code-foreground, var(--jp-content-font-color1, white)));\n",
              "    --sklearn-color-background: var(--sg-background-color, var(--theme-background, var(--jp-layout-color0, #111)));\n",
              "    --sklearn-color-border-box: var(--sg-text-color, var(--theme-code-foreground, var(--jp-content-font-color1, white)));\n",
              "    --sklearn-color-icon: #878787;\n",
              "  }\n",
              "}\n",
              "\n",
              "#sk-container-id-3 {\n",
              "  color: var(--sklearn-color-text);\n",
              "}\n",
              "\n",
              "#sk-container-id-3 pre {\n",
              "  padding: 0;\n",
              "}\n",
              "\n",
              "#sk-container-id-3 input.sk-hidden--visually {\n",
              "  border: 0;\n",
              "  clip: rect(1px 1px 1px 1px);\n",
              "  clip: rect(1px, 1px, 1px, 1px);\n",
              "  height: 1px;\n",
              "  margin: -1px;\n",
              "  overflow: hidden;\n",
              "  padding: 0;\n",
              "  position: absolute;\n",
              "  width: 1px;\n",
              "}\n",
              "\n",
              "#sk-container-id-3 div.sk-dashed-wrapped {\n",
              "  border: 1px dashed var(--sklearn-color-line);\n",
              "  margin: 0 0.4em 0.5em 0.4em;\n",
              "  box-sizing: border-box;\n",
              "  padding-bottom: 0.4em;\n",
              "  background-color: var(--sklearn-color-background);\n",
              "}\n",
              "\n",
              "#sk-container-id-3 div.sk-container {\n",
              "  /* jupyter's `normalize.less` sets `[hidden] { display: none; }`\n",
              "     but bootstrap.min.css set `[hidden] { display: none !important; }`\n",
              "     so we also need the `!important` here to be able to override the\n",
              "     default hidden behavior on the sphinx rendered scikit-learn.org.\n",
              "     See: https://github.com/scikit-learn/scikit-learn/issues/21755 */\n",
              "  display: inline-block !important;\n",
              "  position: relative;\n",
              "}\n",
              "\n",
              "#sk-container-id-3 div.sk-text-repr-fallback {\n",
              "  display: none;\n",
              "}\n",
              "\n",
              "div.sk-parallel-item,\n",
              "div.sk-serial,\n",
              "div.sk-item {\n",
              "  /* draw centered vertical line to link estimators */\n",
              "  background-image: linear-gradient(var(--sklearn-color-text-on-default-background), var(--sklearn-color-text-on-default-background));\n",
              "  background-size: 2px 100%;\n",
              "  background-repeat: no-repeat;\n",
              "  background-position: center center;\n",
              "}\n",
              "\n",
              "/* Parallel-specific style estimator block */\n",
              "\n",
              "#sk-container-id-3 div.sk-parallel-item::after {\n",
              "  content: \"\";\n",
              "  width: 100%;\n",
              "  border-bottom: 2px solid var(--sklearn-color-text-on-default-background);\n",
              "  flex-grow: 1;\n",
              "}\n",
              "\n",
              "#sk-container-id-3 div.sk-parallel {\n",
              "  display: flex;\n",
              "  align-items: stretch;\n",
              "  justify-content: center;\n",
              "  background-color: var(--sklearn-color-background);\n",
              "  position: relative;\n",
              "}\n",
              "\n",
              "#sk-container-id-3 div.sk-parallel-item {\n",
              "  display: flex;\n",
              "  flex-direction: column;\n",
              "}\n",
              "\n",
              "#sk-container-id-3 div.sk-parallel-item:first-child::after {\n",
              "  align-self: flex-end;\n",
              "  width: 50%;\n",
              "}\n",
              "\n",
              "#sk-container-id-3 div.sk-parallel-item:last-child::after {\n",
              "  align-self: flex-start;\n",
              "  width: 50%;\n",
              "}\n",
              "\n",
              "#sk-container-id-3 div.sk-parallel-item:only-child::after {\n",
              "  width: 0;\n",
              "}\n",
              "\n",
              "/* Serial-specific style estimator block */\n",
              "\n",
              "#sk-container-id-3 div.sk-serial {\n",
              "  display: flex;\n",
              "  flex-direction: column;\n",
              "  align-items: center;\n",
              "  background-color: var(--sklearn-color-background);\n",
              "  padding-right: 1em;\n",
              "  padding-left: 1em;\n",
              "}\n",
              "\n",
              "\n",
              "/* Toggleable style: style used for estimator/Pipeline/ColumnTransformer box that is\n",
              "clickable and can be expanded/collapsed.\n",
              "- Pipeline and ColumnTransformer use this feature and define the default style\n",
              "- Estimators will overwrite some part of the style using the `sk-estimator` class\n",
              "*/\n",
              "\n",
              "/* Pipeline and ColumnTransformer style (default) */\n",
              "\n",
              "#sk-container-id-3 div.sk-toggleable {\n",
              "  /* Default theme specific background. It is overwritten whether we have a\n",
              "  specific estimator or a Pipeline/ColumnTransformer */\n",
              "  background-color: var(--sklearn-color-background);\n",
              "}\n",
              "\n",
              "/* Toggleable label */\n",
              "#sk-container-id-3 label.sk-toggleable__label {\n",
              "  cursor: pointer;\n",
              "  display: flex;\n",
              "  width: 100%;\n",
              "  margin-bottom: 0;\n",
              "  padding: 0.5em;\n",
              "  box-sizing: border-box;\n",
              "  text-align: center;\n",
              "  align-items: start;\n",
              "  justify-content: space-between;\n",
              "  gap: 0.5em;\n",
              "}\n",
              "\n",
              "#sk-container-id-3 label.sk-toggleable__label .caption {\n",
              "  font-size: 0.6rem;\n",
              "  font-weight: lighter;\n",
              "  color: var(--sklearn-color-text-muted);\n",
              "}\n",
              "\n",
              "#sk-container-id-3 label.sk-toggleable__label-arrow:before {\n",
              "  /* Arrow on the left of the label */\n",
              "  content: \"▸\";\n",
              "  float: left;\n",
              "  margin-right: 0.25em;\n",
              "  color: var(--sklearn-color-icon);\n",
              "}\n",
              "\n",
              "#sk-container-id-3 label.sk-toggleable__label-arrow:hover:before {\n",
              "  color: var(--sklearn-color-text);\n",
              "}\n",
              "\n",
              "/* Toggleable content - dropdown */\n",
              "\n",
              "#sk-container-id-3 div.sk-toggleable__content {\n",
              "  max-height: 0;\n",
              "  max-width: 0;\n",
              "  overflow: hidden;\n",
              "  text-align: left;\n",
              "  /* unfitted */\n",
              "  background-color: var(--sklearn-color-unfitted-level-0);\n",
              "}\n",
              "\n",
              "#sk-container-id-3 div.sk-toggleable__content.fitted {\n",
              "  /* fitted */\n",
              "  background-color: var(--sklearn-color-fitted-level-0);\n",
              "}\n",
              "\n",
              "#sk-container-id-3 div.sk-toggleable__content pre {\n",
              "  margin: 0.2em;\n",
              "  border-radius: 0.25em;\n",
              "  color: var(--sklearn-color-text);\n",
              "  /* unfitted */\n",
              "  background-color: var(--sklearn-color-unfitted-level-0);\n",
              "}\n",
              "\n",
              "#sk-container-id-3 div.sk-toggleable__content.fitted pre {\n",
              "  /* unfitted */\n",
              "  background-color: var(--sklearn-color-fitted-level-0);\n",
              "}\n",
              "\n",
              "#sk-container-id-3 input.sk-toggleable__control:checked~div.sk-toggleable__content {\n",
              "  /* Expand drop-down */\n",
              "  max-height: 200px;\n",
              "  max-width: 100%;\n",
              "  overflow: auto;\n",
              "}\n",
              "\n",
              "#sk-container-id-3 input.sk-toggleable__control:checked~label.sk-toggleable__label-arrow:before {\n",
              "  content: \"▾\";\n",
              "}\n",
              "\n",
              "/* Pipeline/ColumnTransformer-specific style */\n",
              "\n",
              "#sk-container-id-3 div.sk-label input.sk-toggleable__control:checked~label.sk-toggleable__label {\n",
              "  color: var(--sklearn-color-text);\n",
              "  background-color: var(--sklearn-color-unfitted-level-2);\n",
              "}\n",
              "\n",
              "#sk-container-id-3 div.sk-label.fitted input.sk-toggleable__control:checked~label.sk-toggleable__label {\n",
              "  background-color: var(--sklearn-color-fitted-level-2);\n",
              "}\n",
              "\n",
              "/* Estimator-specific style */\n",
              "\n",
              "/* Colorize estimator box */\n",
              "#sk-container-id-3 div.sk-estimator input.sk-toggleable__control:checked~label.sk-toggleable__label {\n",
              "  /* unfitted */\n",
              "  background-color: var(--sklearn-color-unfitted-level-2);\n",
              "}\n",
              "\n",
              "#sk-container-id-3 div.sk-estimator.fitted input.sk-toggleable__control:checked~label.sk-toggleable__label {\n",
              "  /* fitted */\n",
              "  background-color: var(--sklearn-color-fitted-level-2);\n",
              "}\n",
              "\n",
              "#sk-container-id-3 div.sk-label label.sk-toggleable__label,\n",
              "#sk-container-id-3 div.sk-label label {\n",
              "  /* The background is the default theme color */\n",
              "  color: var(--sklearn-color-text-on-default-background);\n",
              "}\n",
              "\n",
              "/* On hover, darken the color of the background */\n",
              "#sk-container-id-3 div.sk-label:hover label.sk-toggleable__label {\n",
              "  color: var(--sklearn-color-text);\n",
              "  background-color: var(--sklearn-color-unfitted-level-2);\n",
              "}\n",
              "\n",
              "/* Label box, darken color on hover, fitted */\n",
              "#sk-container-id-3 div.sk-label.fitted:hover label.sk-toggleable__label.fitted {\n",
              "  color: var(--sklearn-color-text);\n",
              "  background-color: var(--sklearn-color-fitted-level-2);\n",
              "}\n",
              "\n",
              "/* Estimator label */\n",
              "\n",
              "#sk-container-id-3 div.sk-label label {\n",
              "  font-family: monospace;\n",
              "  font-weight: bold;\n",
              "  display: inline-block;\n",
              "  line-height: 1.2em;\n",
              "}\n",
              "\n",
              "#sk-container-id-3 div.sk-label-container {\n",
              "  text-align: center;\n",
              "}\n",
              "\n",
              "/* Estimator-specific */\n",
              "#sk-container-id-3 div.sk-estimator {\n",
              "  font-family: monospace;\n",
              "  border: 1px dotted var(--sklearn-color-border-box);\n",
              "  border-radius: 0.25em;\n",
              "  box-sizing: border-box;\n",
              "  margin-bottom: 0.5em;\n",
              "  /* unfitted */\n",
              "  background-color: var(--sklearn-color-unfitted-level-0);\n",
              "}\n",
              "\n",
              "#sk-container-id-3 div.sk-estimator.fitted {\n",
              "  /* fitted */\n",
              "  background-color: var(--sklearn-color-fitted-level-0);\n",
              "}\n",
              "\n",
              "/* on hover */\n",
              "#sk-container-id-3 div.sk-estimator:hover {\n",
              "  /* unfitted */\n",
              "  background-color: var(--sklearn-color-unfitted-level-2);\n",
              "}\n",
              "\n",
              "#sk-container-id-3 div.sk-estimator.fitted:hover {\n",
              "  /* fitted */\n",
              "  background-color: var(--sklearn-color-fitted-level-2);\n",
              "}\n",
              "\n",
              "/* Specification for estimator info (e.g. \"i\" and \"?\") */\n",
              "\n",
              "/* Common style for \"i\" and \"?\" */\n",
              "\n",
              ".sk-estimator-doc-link,\n",
              "a:link.sk-estimator-doc-link,\n",
              "a:visited.sk-estimator-doc-link {\n",
              "  float: right;\n",
              "  font-size: smaller;\n",
              "  line-height: 1em;\n",
              "  font-family: monospace;\n",
              "  background-color: var(--sklearn-color-background);\n",
              "  border-radius: 1em;\n",
              "  height: 1em;\n",
              "  width: 1em;\n",
              "  text-decoration: none !important;\n",
              "  margin-left: 0.5em;\n",
              "  text-align: center;\n",
              "  /* unfitted */\n",
              "  border: var(--sklearn-color-unfitted-level-1) 1pt solid;\n",
              "  color: var(--sklearn-color-unfitted-level-1);\n",
              "}\n",
              "\n",
              ".sk-estimator-doc-link.fitted,\n",
              "a:link.sk-estimator-doc-link.fitted,\n",
              "a:visited.sk-estimator-doc-link.fitted {\n",
              "  /* fitted */\n",
              "  border: var(--sklearn-color-fitted-level-1) 1pt solid;\n",
              "  color: var(--sklearn-color-fitted-level-1);\n",
              "}\n",
              "\n",
              "/* On hover */\n",
              "div.sk-estimator:hover .sk-estimator-doc-link:hover,\n",
              ".sk-estimator-doc-link:hover,\n",
              "div.sk-label-container:hover .sk-estimator-doc-link:hover,\n",
              ".sk-estimator-doc-link:hover {\n",
              "  /* unfitted */\n",
              "  background-color: var(--sklearn-color-unfitted-level-3);\n",
              "  color: var(--sklearn-color-background);\n",
              "  text-decoration: none;\n",
              "}\n",
              "\n",
              "div.sk-estimator.fitted:hover .sk-estimator-doc-link.fitted:hover,\n",
              ".sk-estimator-doc-link.fitted:hover,\n",
              "div.sk-label-container:hover .sk-estimator-doc-link.fitted:hover,\n",
              ".sk-estimator-doc-link.fitted:hover {\n",
              "  /* fitted */\n",
              "  background-color: var(--sklearn-color-fitted-level-3);\n",
              "  color: var(--sklearn-color-background);\n",
              "  text-decoration: none;\n",
              "}\n",
              "\n",
              "/* Span, style for the box shown on hovering the info icon */\n",
              ".sk-estimator-doc-link span {\n",
              "  display: none;\n",
              "  z-index: 9999;\n",
              "  position: relative;\n",
              "  font-weight: normal;\n",
              "  right: .2ex;\n",
              "  padding: .5ex;\n",
              "  margin: .5ex;\n",
              "  width: min-content;\n",
              "  min-width: 20ex;\n",
              "  max-width: 50ex;\n",
              "  color: var(--sklearn-color-text);\n",
              "  box-shadow: 2pt 2pt 4pt #999;\n",
              "  /* unfitted */\n",
              "  background: var(--sklearn-color-unfitted-level-0);\n",
              "  border: .5pt solid var(--sklearn-color-unfitted-level-3);\n",
              "}\n",
              "\n",
              ".sk-estimator-doc-link.fitted span {\n",
              "  /* fitted */\n",
              "  background: var(--sklearn-color-fitted-level-0);\n",
              "  border: var(--sklearn-color-fitted-level-3);\n",
              "}\n",
              "\n",
              ".sk-estimator-doc-link:hover span {\n",
              "  display: block;\n",
              "}\n",
              "\n",
              "/* \"?\"-specific style due to the `<a>` HTML tag */\n",
              "\n",
              "#sk-container-id-3 a.estimator_doc_link {\n",
              "  float: right;\n",
              "  font-size: 1rem;\n",
              "  line-height: 1em;\n",
              "  font-family: monospace;\n",
              "  background-color: var(--sklearn-color-background);\n",
              "  border-radius: 1rem;\n",
              "  height: 1rem;\n",
              "  width: 1rem;\n",
              "  text-decoration: none;\n",
              "  /* unfitted */\n",
              "  color: var(--sklearn-color-unfitted-level-1);\n",
              "  border: var(--sklearn-color-unfitted-level-1) 1pt solid;\n",
              "}\n",
              "\n",
              "#sk-container-id-3 a.estimator_doc_link.fitted {\n",
              "  /* fitted */\n",
              "  border: var(--sklearn-color-fitted-level-1) 1pt solid;\n",
              "  color: var(--sklearn-color-fitted-level-1);\n",
              "}\n",
              "\n",
              "/* On hover */\n",
              "#sk-container-id-3 a.estimator_doc_link:hover {\n",
              "  /* unfitted */\n",
              "  background-color: var(--sklearn-color-unfitted-level-3);\n",
              "  color: var(--sklearn-color-background);\n",
              "  text-decoration: none;\n",
              "}\n",
              "\n",
              "#sk-container-id-3 a.estimator_doc_link.fitted:hover {\n",
              "  /* fitted */\n",
              "  background-color: var(--sklearn-color-fitted-level-3);\n",
              "}\n",
              "</style><div id=\"sk-container-id-3\" class=\"sk-top-container\"><div class=\"sk-text-repr-fallback\"><pre>MLPClassifier(activation=&#x27;tanh&#x27;, hidden_layer_sizes=(20, 20), warm_start=True)</pre><b>In a Jupyter environment, please rerun this cell to show the HTML representation or trust the notebook. <br />On GitHub, the HTML representation is unable to render, please try loading this page with nbviewer.org.</b></div><div class=\"sk-container\" hidden><div class=\"sk-item\"><div class=\"sk-estimator fitted sk-toggleable\"><input class=\"sk-toggleable__control sk-hidden--visually\" id=\"sk-estimator-id-3\" type=\"checkbox\" checked><label for=\"sk-estimator-id-3\" class=\"sk-toggleable__label fitted sk-toggleable__label-arrow\"><div><div>MLPClassifier</div></div><div><a class=\"sk-estimator-doc-link fitted\" rel=\"noreferrer\" target=\"_blank\" href=\"https://scikit-learn.org/1.6/modules/generated/sklearn.neural_network.MLPClassifier.html\">?<span>Documentation for MLPClassifier</span></a><span class=\"sk-estimator-doc-link fitted\">i<span>Fitted</span></span></div></label><div class=\"sk-toggleable__content fitted\"><pre>MLPClassifier(activation=&#x27;tanh&#x27;, hidden_layer_sizes=(20, 20), warm_start=True)</pre></div> </div></div></div></div>"
            ]
          },
          "metadata": {},
          "execution_count": 31
        }
      ],
      "source": [
        "from sklearn.neural_network import MLPClassifier\n",
        "\n",
        "agent = MLPClassifier(\n",
        "    hidden_layer_sizes=(20, 20),\n",
        "    activation=\"tanh\",\n",
        "    warm_start=True\n",
        ")\n",
        "\n",
        "# initialize agent to the dimension of state space and number of actions\n",
        "agent.partial_fit([env.reset()[0]] * n_actions, range(n_actions), range(n_actions))\n"
      ]
    },
    {
      "cell_type": "code",
      "execution_count": 32,
      "metadata": {
        "id": "eyFS3oUmG9zL"
      },
      "outputs": [],
      "source": [
        "def generate_session(env, agent, t_max=1000):\n",
        "    \"\"\"\n",
        "    Play a single game using agent neural network.\n",
        "    Terminate when game finishes or after :t_max: steps\n",
        "    \"\"\"\n",
        "    states, actions = [], []\n",
        "    total_reward = 0\n",
        "\n",
        "    s, _ = env.reset()\n",
        "\n",
        "    for t in range(t_max):\n",
        "\n",
        "        # use agent to predict a vector of action probabilities for state :s:\n",
        "        probs = agent.predict_proba([s])[0]\n",
        "\n",
        "        assert probs.shape == (env.action_space.n,), \"make sure probabilities are a vector (hint: np.reshape)\"\n",
        "\n",
        "        # use the probabilities you predicted to pick an action\n",
        "        # sample proportionally to the probabilities, don't just take the most likely action\n",
        "        a = np.random.choice(list(range(n_actions)), p = probs)\n",
        "        # ^-- hint: try np.random.choice\n",
        "\n",
        "        new_s, r, terminated, truncated, _ = env.step(a)\n",
        "\n",
        "        # record sessions like you did before\n",
        "        states.append(s)\n",
        "        actions.append(a)\n",
        "        total_reward += r\n",
        "\n",
        "        s = new_s\n",
        "        if terminated or truncated:\n",
        "            break\n",
        "    return states, actions, total_reward\n"
      ]
    },
    {
      "cell_type": "code",
      "execution_count": 33,
      "metadata": {
        "id": "4xgrTCgJG9zL",
        "colab": {
          "base_uri": "https://localhost:8080/"
        },
        "outputId": "b8256639-5db8-4c02-be56-e021836a20e3"
      },
      "outputs": [
        {
          "output_type": "stream",
          "name": "stdout",
          "text": [
            "states: [[ 0.04046651 -0.02355702 -0.01518901 -0.02062665]\n",
            " [ 0.03999537  0.17177942 -0.01560155 -0.31806293]\n",
            " [ 0.04343096 -0.02311688 -0.0219628  -0.03034071]\n",
            " [ 0.04296862  0.17231303 -0.02256962 -0.32987142]\n",
            " [ 0.04641488 -0.02248048 -0.02916705 -0.04439047]]\n",
            "actions: [np.int64(1), np.int64(0), np.int64(1), np.int64(0), np.int64(1)]\n",
            "reward: 5.0\n"
          ]
        }
      ],
      "source": [
        "dummy_states, dummy_actions, dummy_reward = generate_session(env, agent, t_max=5)\n",
        "print(\"states:\", np.stack(dummy_states))\n",
        "print(\"actions:\", dummy_actions)\n",
        "print(\"reward:\", dummy_reward)\n"
      ]
    },
    {
      "cell_type": "markdown",
      "metadata": {
        "id": "p85lt16qG9zL"
      },
      "source": [
        "### CEM steps\n",
        "Deep CEM uses exactly the same strategy as the regular CEM, so you can copy your function code from previous notebook.\n",
        "\n",
        "The only difference is that now each observation is not a number but a `float32` vector."
      ]
    },
    {
      "cell_type": "code",
      "execution_count": 34,
      "metadata": {
        "id": "4On-p7p4G9zL"
      },
      "outputs": [],
      "source": [
        "\n",
        "def select_elites(states_batch, actions_batch, rewards_batch, percentile=50):\n",
        "    \"\"\"\n",
        "    Select states and actions from games that have rewards >= percentile\n",
        "    :param states_batch: list of lists of states, states_batch[session_i][t]\n",
        "    :param actions_batch: list of lists of actions, actions_batch[session_i][t]\n",
        "    :param rewards_batch: list of rewards, rewards_batch[session_i]\n",
        "\n",
        "    :returns: elite_states,elite_actions, both 1D lists of states and respective actions from elite sessions\n",
        "\n",
        "    Please return elite states and actions in their original order\n",
        "    [i.e. sorted by session number and timestep within session]\n",
        "\n",
        "    If you are confused, see examples below. Please don't assume that states are integers\n",
        "    (they will become different later).\n",
        "    \"\"\"\n",
        "\n",
        "    reward_threshold = np.percentile(rewards_batch, percentile)\n",
        "\n",
        "    elite_states = list(chain.from_iterable(\n",
        "        states for (states, reward) in zip(states_batch, rewards_batch) if reward >= reward_threshold\n",
        "    ))\n",
        "    elite_actions = list(chain.from_iterable(\n",
        "        actions for (actions, reward) in zip(actions_batch, rewards_batch) if reward >= reward_threshold\n",
        "    ))\n",
        "\n",
        "\n",
        "    return elite_states, elite_actions\n"
      ]
    },
    {
      "cell_type": "markdown",
      "metadata": {
        "id": "xc40V4DaG9zM"
      },
      "source": [
        "# Training loop\n",
        "Generate sessions, select N best and fit to those."
      ]
    },
    {
      "cell_type": "code",
      "execution_count": 35,
      "metadata": {
        "id": "PPwVKwF7G9zM"
      },
      "outputs": [],
      "source": [
        "from IPython.display import clear_output\n",
        "\n",
        "\n",
        "def show_progress(rewards_batch, log, percentile, reward_range=[-990, +10]):\n",
        "    \"\"\"\n",
        "    A convenience function that displays training progress.\n",
        "    No cool math here, just charts.\n",
        "    \"\"\"\n",
        "\n",
        "    mean_reward = np.mean(rewards_batch)\n",
        "    threshold = np.percentile(rewards_batch, percentile)\n",
        "    log.append([mean_reward, threshold])\n",
        "\n",
        "    clear_output(True)\n",
        "    print(\"mean reward = %.3f, threshold=%.3f\" % (mean_reward, threshold))\n",
        "    plt.figure(figsize=[8, 4])\n",
        "    plt.subplot(1, 2, 1)\n",
        "    plt.plot(list(zip(*log))[0], label=\"Mean rewards\")\n",
        "    plt.plot(list(zip(*log))[1], label=\"Reward thresholds\")\n",
        "    plt.legend()\n",
        "    plt.grid()\n",
        "\n",
        "    plt.subplot(1, 2, 2)\n",
        "    plt.hist(rewards_batch, range=reward_range)\n",
        "    plt.vlines(\n",
        "        [np.percentile(rewards_batch, percentile)],\n",
        "        [0],\n",
        "        [100],\n",
        "        label=\"percentile\",\n",
        "        color=\"red\",\n",
        "    )\n",
        "    plt.legend()\n",
        "    plt.grid()\n",
        "\n",
        "    plt.show()\n"
      ]
    },
    {
      "cell_type": "code",
      "source": [
        "!pip install tqdm\n",
        "from tqdm import tqdm\n"
      ],
      "metadata": {
        "colab": {
          "base_uri": "https://localhost:8080/"
        },
        "id": "2tdr6q4SXlwd",
        "outputId": "33619de1-ba84-4279-8032-b51aefe1ba2f"
      },
      "execution_count": 38,
      "outputs": [
        {
          "output_type": "stream",
          "name": "stdout",
          "text": [
            "Requirement already satisfied: tqdm in /usr/local/lib/python3.11/dist-packages (4.67.1)\n"
          ]
        }
      ]
    },
    {
      "cell_type": "code",
      "execution_count": 39,
      "metadata": {
        "id": "euK7WRQiG9zM",
        "colab": {
          "base_uri": "https://localhost:8080/",
          "height": 759
        },
        "outputId": "d48287d8-e446-468b-e412-ae1c5166b970"
      },
      "outputs": [
        {
          "output_type": "stream",
          "name": "stdout",
          "text": [
            "mean reward = 219.800, threshold=248.800\n"
          ]
        },
        {
          "output_type": "display_data",
          "data": {
            "text/plain": [
              "<Figure size 800x400 with 2 Axes>"
            ],
            "image/png": "[encoded data removed]"
          },
          "metadata": {}
        },
        {
          "output_type": "stream",
          "name": "stderr",
          "text": [
            "\rTraining:  10%|█         | 10/100 [00:43<08:40,  5.78s/it]"
          ]
        },
        {
          "output_type": "stream",
          "name": "stdout",
          "text": [
            "You Win! You may stop training now via KeyboardInterrupt.\n"
          ]
        },
        {
          "output_type": "stream",
          "name": "stderr",
          "text": [
            "\rTraining:  10%|█         | 10/100 [00:51<07:46,  5.18s/it]\n"
          ]
        },
        {
          "output_type": "error",
          "ename": "KeyboardInterrupt",
          "evalue": "",
          "traceback": [
            "\u001b[0;31m---------------------------------------------------------------------------\u001b[0m",
            "\u001b[0;31mKeyboardInterrupt\u001b[0m                         Traceback (most recent call last)",
            "\u001b[0;32m/tmp/ipython-input-197835477.py\u001b[0m in \u001b[0;36m<cell line: 0>\u001b[0;34m()\u001b[0m\n\u001b[1;32m      5\u001b[0m \u001b[0;32mfor\u001b[0m \u001b[0mi\u001b[0m \u001b[0;32min\u001b[0m \u001b[0mtqdm\u001b[0m\u001b[0;34m(\u001b[0m\u001b[0mrange\u001b[0m\u001b[0;34m(\u001b[0m\u001b[0;36m100\u001b[0m\u001b[0;34m)\u001b[0m\u001b[0;34m,\u001b[0m \u001b[0mdesc\u001b[0m\u001b[0;34m=\u001b[0m\u001b[0;34m\"Training\"\u001b[0m\u001b[0;34m,\u001b[0m \u001b[0mtotal\u001b[0m\u001b[0;34m=\u001b[0m\u001b[0;36m100\u001b[0m\u001b[0;34m)\u001b[0m\u001b[0;34m:\u001b[0m\u001b[0;34m\u001b[0m\u001b[0;34m\u001b[0m\u001b[0m\n\u001b[1;32m      6\u001b[0m     \u001b[0;31m# generate new sessions\u001b[0m\u001b[0;34m\u001b[0m\u001b[0;34m\u001b[0m\u001b[0m\n\u001b[0;32m----> 7\u001b[0;31m     \u001b[0msessions\u001b[0m \u001b[0;34m=\u001b[0m \u001b[0;34m[\u001b[0m\u001b[0mgenerate_session\u001b[0m\u001b[0;34m(\u001b[0m\u001b[0menv\u001b[0m\u001b[0;34m,\u001b[0m \u001b[0magent\u001b[0m\u001b[0;34m)\u001b[0m \u001b[0;32mfor\u001b[0m \u001b[0m_\u001b[0m \u001b[0;32min\u001b[0m \u001b[0mrange\u001b[0m\u001b[0;34m(\u001b[0m\u001b[0mn_sessions\u001b[0m\u001b[0;34m)\u001b[0m\u001b[0;34m]\u001b[0m\u001b[0;34m\u001b[0m\u001b[0;34m\u001b[0m\u001b[0m\n\u001b[0m\u001b[1;32m      8\u001b[0m \u001b[0;34m\u001b[0m\u001b[0m\n\u001b[1;32m      9\u001b[0m     \u001b[0mstates_batch\u001b[0m\u001b[0;34m,\u001b[0m \u001b[0mactions_batch\u001b[0m\u001b[0;34m,\u001b[0m \u001b[0mrewards_batch\u001b[0m \u001b[0;34m=\u001b[0m \u001b[0mzip\u001b[0m\u001b[0;34m(\u001b[0m\u001b[0;34m*\u001b[0m\u001b[0msessions\u001b[0m\u001b[0;34m)\u001b[0m  \u001b[0;31m# остаётся tuple of lists\u001b[0m\u001b[0;34m\u001b[0m\u001b[0;34m\u001b[0m\u001b[0m\n",
            "\u001b[0;32m/tmp/ipython-input-197835477.py\u001b[0m in \u001b[0;36m<listcomp>\u001b[0;34m(.0)\u001b[0m\n\u001b[1;32m      5\u001b[0m \u001b[0;32mfor\u001b[0m \u001b[0mi\u001b[0m \u001b[0;32min\u001b[0m \u001b[0mtqdm\u001b[0m\u001b[0;34m(\u001b[0m\u001b[0mrange\u001b[0m\u001b[0;34m(\u001b[0m\u001b[0;36m100\u001b[0m\u001b[0;34m)\u001b[0m\u001b[0;34m,\u001b[0m \u001b[0mdesc\u001b[0m\u001b[0;34m=\u001b[0m\u001b[0;34m\"Training\"\u001b[0m\u001b[0;34m,\u001b[0m \u001b[0mtotal\u001b[0m\u001b[0;34m=\u001b[0m\u001b[0;36m100\u001b[0m\u001b[0;34m)\u001b[0m\u001b[0;34m:\u001b[0m\u001b[0;34m\u001b[0m\u001b[0;34m\u001b[0m\u001b[0m\n\u001b[1;32m      6\u001b[0m     \u001b[0;31m# generate new sessions\u001b[0m\u001b[0;34m\u001b[0m\u001b[0;34m\u001b[0m\u001b[0m\n\u001b[0;32m----> 7\u001b[0;31m     \u001b[0msessions\u001b[0m \u001b[0;34m=\u001b[0m \u001b[0;34m[\u001b[0m\u001b[0mgenerate_session\u001b[0m\u001b[0;34m(\u001b[0m\u001b[0menv\u001b[0m\u001b[0;34m,\u001b[0m \u001b[0magent\u001b[0m\u001b[0;34m)\u001b[0m \u001b[0;32mfor\u001b[0m \u001b[0m_\u001b[0m \u001b[0;32min\u001b[0m \u001b[0mrange\u001b[0m\u001b[0;34m(\u001b[0m\u001b[0mn_sessions\u001b[0m\u001b[0;34m)\u001b[0m\u001b[0;34m]\u001b[0m\u001b[0;34m\u001b[0m\u001b[0;34m\u001b[0m\u001b[0m\n\u001b[0m\u001b[1;32m      8\u001b[0m \u001b[0;34m\u001b[0m\u001b[0m\n\u001b[1;32m      9\u001b[0m     \u001b[0mstates_batch\u001b[0m\u001b[0;34m,\u001b[0m \u001b[0mactions_batch\u001b[0m\u001b[0;34m,\u001b[0m \u001b[0mrewards_batch\u001b[0m \u001b[0;34m=\u001b[0m \u001b[0mzip\u001b[0m\u001b[0;34m(\u001b[0m\u001b[0;34m*\u001b[0m\u001b[0msessions\u001b[0m\u001b[0;34m)\u001b[0m  \u001b[0;31m# остаётся tuple of lists\u001b[0m\u001b[0;34m\u001b[0m\u001b[0;34m\u001b[0m\u001b[0m\n",
            "\u001b[0;32m/tmp/ipython-input-3524298110.py\u001b[0m in \u001b[0;36mgenerate_session\u001b[0;34m(env, agent, t_max)\u001b[0m\n\u001b[1;32m     18\u001b[0m         \u001b[0;31m# use the probabilities you predicted to pick an action\u001b[0m\u001b[0;34m\u001b[0m\u001b[0;34m\u001b[0m\u001b[0m\n\u001b[1;32m     19\u001b[0m         \u001b[0;31m# sample proportionally to the probabilities, don't just take the most likely action\u001b[0m\u001b[0;34m\u001b[0m\u001b[0;34m\u001b[0m\u001b[0m\n\u001b[0;32m---> 20\u001b[0;31m         \u001b[0ma\u001b[0m \u001b[0;34m=\u001b[0m \u001b[0mnp\u001b[0m\u001b[0;34m.\u001b[0m\u001b[0mrandom\u001b[0m\u001b[0;34m.\u001b[0m\u001b[0mchoice\u001b[0m\u001b[0;34m(\u001b[0m\u001b[0mlist\u001b[0m\u001b[0;34m(\u001b[0m\u001b[0mrange\u001b[0m\u001b[0;34m(\u001b[0m\u001b[0mn_actions\u001b[0m\u001b[0;34m)\u001b[0m\u001b[0;34m)\u001b[0m\u001b[0;34m,\u001b[0m \u001b[0mp\u001b[0m \u001b[0;34m=\u001b[0m \u001b[0mprobs\u001b[0m\u001b[0;34m)\u001b[0m\u001b[0;34m\u001b[0m\u001b[0;34m\u001b[0m\u001b[0m\n\u001b[0m\u001b[1;32m     21\u001b[0m         \u001b[0;31m# ^-- hint: try np.random.choice\u001b[0m\u001b[0;34m\u001b[0m\u001b[0;34m\u001b[0m\u001b[0m\n\u001b[1;32m     22\u001b[0m \u001b[0;34m\u001b[0m\u001b[0m\n",
            "\u001b[0;31mKeyboardInterrupt\u001b[0m: "
          ]
        }
      ],
      "source": [
        "\n",
        "n_sessions = 100\n",
        "percentile = 70\n",
        "log = []\n",
        "\n",
        "for i in tqdm(range(100), desc=\"Training\", total=100):\n",
        "    # generate new sessions\n",
        "    sessions = [generate_session(env, agent) for _ in range(n_sessions)]\n",
        "\n",
        "    states_batch, actions_batch, rewards_batch = zip(*sessions)  # остаётся tuple of lists\n",
        "\n",
        "    elite_states, elite_actions = select_elites(states_batch, actions_batch, rewards_batch, percentile)\n",
        "\n",
        "    agent.fit(elite_states, elite_actions)\n",
        "\n",
        "    show_progress(\n",
        "        rewards_batch, log, percentile, reward_range=[0, np.max(rewards_batch)]\n",
        "    )\n",
        "\n",
        "    if np.mean(rewards_batch) > 190:\n",
        "        print(\"You Win! You may stop training now via KeyboardInterrupt.\")\n"
      ]
    },
    {
      "cell_type": "markdown",
      "metadata": {
        "id": "yeNWKjtsG9zM"
      },
      "source": [
        "# Results"
      ]
    },
    {
      "cell_type": "code",
      "execution_count": 40,
      "metadata": {
        "colab": {
          "base_uri": "https://localhost:8080/"
        },
        "id": "mBAJzzSgU4bO",
        "outputId": "bf6f4f30-881a-421c-9fb5-db7816dc201e"
      },
      "outputs": [
        {
          "output_type": "stream",
          "name": "stdout",
          "text": [
            "Requirement already satisfied: gymnasium[other] in /usr/local/lib/python3.11/dist-packages (1.2.0)\n",
            "Requirement already satisfied: numpy>=1.21.0 in /usr/local/lib/python3.11/dist-packages (from gymnasium[other]) (2.0.2)\n",
            "Requirement already satisfied: cloudpickle>=1.2.0 in /usr/local/lib/python3.11/dist-packages (from gymnasium[other]) (3.1.1)\n",
            "Requirement already satisfied: typing-extensions>=4.3.0 in /usr/local/lib/python3.11/dist-packages (from gymnasium[other]) (4.14.1)\n",
            "Requirement already satisfied: farama-notifications>=0.0.1 in /usr/local/lib/python3.11/dist-packages (from gymnasium[other]) (0.0.4)\n",
            "Requirement already satisfied: moviepy>=1.0.0 in /usr/local/lib/python3.11/dist-packages (from gymnasium[other]) (1.0.3)\n",
            "Requirement already satisfied: matplotlib>=3.0 in /usr/local/lib/python3.11/dist-packages (from gymnasium[other]) (3.10.0)\n",
            "Requirement already satisfied: opencv-python>=3.0 in /usr/local/lib/python3.11/dist-packages (from gymnasium[other]) (4.12.0.88)\n",
            "Requirement already satisfied: seaborn>=0.13 in /usr/local/lib/python3.11/dist-packages (from gymnasium[other]) (0.13.2)\n",
            "Requirement already satisfied: contourpy>=1.0.1 in /usr/local/lib/python3.11/dist-packages (from matplotlib>=3.0->gymnasium[other]) (1.3.3)\n",
            "Requirement already satisfied: cycler>=0.10 in /usr/local/lib/python3.11/dist-packages (from matplotlib>=3.0->gymnasium[other]) (0.12.1)\n",
            "Requirement already satisfied: fonttools>=4.22.0 in /usr/local/lib/python3.11/dist-packages (from matplotlib>=3.0->gymnasium[other]) (4.59.0)\n",
            "Requirement already satisfied: kiwisolver>=1.3.1 in /usr/local/lib/python3.11/dist-packages (from matplotlib>=3.0->gymnasium[other]) (1.4.8)\n",
            "Requirement already satisfied: packaging>=20.0 in /usr/local/lib/python3.11/dist-packages (from matplotlib>=3.0->gymnasium[other]) (25.0)\n",
            "Requirement already satisfied: pillow>=8 in /usr/local/lib/python3.11/dist-packages (from matplotlib>=3.0->gymnasium[other]) (11.3.0)\n",
            "Requirement already satisfied: pyparsing>=2.3.1 in /usr/local/lib/python3.11/dist-packages (from matplotlib>=3.0->gymnasium[other]) (3.2.3)\n",
            "Requirement already satisfied: python-dateutil>=2.7 in /usr/local/lib/python3.11/dist-packages (from matplotlib>=3.0->gymnasium[other]) (2.9.0.post0)\n",
            "Requirement already satisfied: decorator<5.0,>=4.0.2 in /usr/local/lib/python3.11/dist-packages (from moviepy>=1.0.0->gymnasium[other]) (4.4.2)\n",
            "Requirement already satisfied: tqdm<5.0,>=4.11.2 in /usr/local/lib/python3.11/dist-packages (from moviepy>=1.0.0->gymnasium[other]) (4.67.1)\n",
            "Requirement already satisfied: requests<3.0,>=2.8.1 in /usr/local/lib/python3.11/dist-packages (from moviepy>=1.0.0->gymnasium[other]) (2.32.3)\n",
            "Requirement already satisfied: proglog<=1.0.0 in /usr/local/lib/python3.11/dist-packages (from moviepy>=1.0.0->gymnasium[other]) (0.1.12)\n",
            "Requirement already satisfied: imageio<3.0,>=2.5 in /usr/local/lib/python3.11/dist-packages (from moviepy>=1.0.0->gymnasium[other]) (2.37.0)\n",
            "Requirement already satisfied: imageio-ffmpeg>=0.2.0 in /usr/local/lib/python3.11/dist-packages (from moviepy>=1.0.0->gymnasium[other]) (0.6.0)\n",
            "Requirement already satisfied: pandas>=1.2 in /usr/local/lib/python3.11/dist-packages (from seaborn>=0.13->gymnasium[other]) (2.2.2)\n",
            "Requirement already satisfied: pytz>=2020.1 in /usr/local/lib/python3.11/dist-packages (from pandas>=1.2->seaborn>=0.13->gymnasium[other]) (2025.2)\n",
            "Requirement already satisfied: tzdata>=2022.7 in /usr/local/lib/python3.11/dist-packages (from pandas>=1.2->seaborn>=0.13->gymnasium[other]) (2025.2)\n",
            "Requirement already satisfied: six>=1.5 in /usr/local/lib/python3.11/dist-packages (from python-dateutil>=2.7->matplotlib>=3.0->gymnasium[other]) (1.17.0)\n",
            "Requirement already satisfied: charset-normalizer<4,>=2 in /usr/local/lib/python3.11/dist-packages (from requests<3.0,>=2.8.1->moviepy>=1.0.0->gymnasium[other]) (3.4.2)\n",
            "Requirement already satisfied: idna<4,>=2.5 in /usr/local/lib/python3.11/dist-packages (from requests<3.0,>=2.8.1->moviepy>=1.0.0->gymnasium[other]) (3.10)\n",
            "Requirement already satisfied: urllib3<3,>=1.21.1 in /usr/local/lib/python3.11/dist-packages (from requests<3.0,>=2.8.1->moviepy>=1.0.0->gymnasium[other]) (2.5.0)\n",
            "Requirement already satisfied: certifi>=2017.4.17 in /usr/local/lib/python3.11/dist-packages (from requests<3.0,>=2.8.1->moviepy>=1.0.0->gymnasium[other]) (2025.8.3)\n"
          ]
        }
      ],
      "source": [
        "!pip install \"gymnasium[other]\""
      ]
    },
    {
      "cell_type": "code",
      "execution_count": 43,
      "metadata": {
        "id": "RJwsWl4kG9zM",
        "colab": {
          "base_uri": "https://localhost:8080/"
        },
        "outputId": "70c6a53e-0f3a-402d-b6f5-9dddd4b1096a"
      },
      "outputs": [
        {
          "output_type": "stream",
          "name": "stderr",
          "text": [
            "/usr/local/lib/python3.11/dist-packages/gymnasium/wrappers/rendering.py:296: UserWarning: \u001b[33mWARN: Overwriting existing videos at /content/videos folder (try specifying a different `video_folder` for the `RecordVideo` wrapper if this is not desired)\u001b[0m\n",
            "  logger.warn(\n"
          ]
        }
      ],
      "source": [
        "# Record sessions\n",
        "\n",
        "from gymnasium.wrappers import RecordVideo\n",
        "\n",
        "with RecordVideo(\n",
        "    env=gym.make(\"CartPole-v1\", render_mode=\"rgb_array\"),\n",
        "    video_folder=\"./videos\",\n",
        "    episode_trigger=lambda episode_number: True,\n",
        "    ) as env_monitor:\n",
        "    sessions = [generate_session(env_monitor, agent) for _ in range(100)]\n"
      ]
    },
    {
      "cell_type": "code",
      "execution_count": 44,
      "metadata": {
        "id": "kLPXdME7G9zN",
        "colab": {
          "base_uri": "https://localhost:8080/",
          "height": 502
        },
        "outputId": "8e1d026c-48b0-491b-ef4b-5a98c5f244a4"
      },
      "outputs": [
        {
          "output_type": "execute_result",
          "data": {
            "text/plain": [
              "<IPython.core.display.HTML object>"
            ],
            "text/html": [
              "\n",
              "<video width=\"640\" height=\"480\" controls>\n",
              "  <source src=\"data:video/mp4;base64,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\" type=\"video/mp4\">\n",
              "</video>\n"
            ]
          },
          "metadata": {},
          "execution_count": 44
        }
      ],
      "source": [
        "# Show video. This may not work in some setups. If it doesn't\n",
        "# work for you, you can download the videos and view them locally.\n",
        "\n",
        "from pathlib import Path\n",
        "from base64 import b64encode\n",
        "from IPython.display import HTML\n",
        "\n",
        "video_paths = sorted([s for s in Path(\"videos\").iterdir() if s.suffix == \".mp4\"])\n",
        "video_path = video_paths[-1]  # You can also try other indices\n",
        "\n",
        "if \"google.colab\" in sys.modules:\n",
        "    # https://stackoverflow.com/a/57378660/1214547\n",
        "    with video_path.open(\"rb\") as fp:\n",
        "        mp4 = fp.read()\n",
        "    data_url = \"data:video/mp4;base64,\" + b64encode(mp4).decode()\n",
        "else:\n",
        "    data_url = str(video_path)\n",
        "\n",
        "HTML(\n",
        "    \"\"\"\n",
        "<video width=\"640\" height=\"480\" controls>\n",
        "  <source src=\"{}\" type=\"video/mp4\">\n",
        "</video>\n",
        "\"\"\".format(\n",
        "        data_url\n",
        "    )\n",
        ")\n"
      ]
    },
    {
      "cell_type": "markdown",
      "source": [
        "Код для очистки содержимого папки videos. Чтобы не путаться, запись какого запуска мы смотрим."
      ],
      "metadata": {
        "id": "I85fgSRAakoY"
      }
    },
    {
      "cell_type": "code",
      "source": [
        "import os\n",
        "import shutil\n",
        "\n",
        "folder = 'videos'\n",
        "\n",
        "if os.path.exists(folder):\n",
        "    for filename in os.listdir(folder):\n",
        "        file_path = os.path.join(folder, filename)\n",
        "        try:\n",
        "            if os.path.isfile(file_path) or os.path.islink(file_path):\n",
        "                os.unlink(file_path)\n",
        "            elif os.path.isdir(file_path):\n",
        "                shutil.rmtree(file_path)\n",
        "        except Exception as e:\n",
        "            print(f'Не удалось удалить {file_path}: {e}')\n",
        "    print(f\"✅ Содержимое папки '{folder}' успешно удалено.\")\n",
        "else:\n",
        "    print(f\"📁 Папка '{folder}' не существует. Создать её? (например, для будущих видео)\")"
      ],
      "metadata": {
        "id": "LCKYsGEzajY6"
      },
      "execution_count": null,
      "outputs": []
    },
    {
      "cell_type": "markdown",
      "metadata": {
        "id": "6d_3oOQ1G9zN"
      },
      "source": [
        "# Homework part I\n",
        "\n",
        "### Tabular crossentropy method\n",
        "\n",
        "You may have noticed that the taxi problem quickly converges from -100 to a near-optimal score and then descends back into -50/-100. This is in part because the environment has some innate randomness. Namely, the starting points of passenger/driver change from episode to episode.\n",
        "\n",
        "### Tasks\n",
        "- __1.1__ (2 pts) Find out how the algorithm performance changes if you use a different `percentile` and/or `n_sessions`. Provide here some figures so we can see how the hyperparameters influence the performance.\n",
        "- __1.2__ (1 pts) Tune the algorithm to end up with positive average score.\n",
        "\n",
        "It's okay to modify the existing code.\n"
      ]
    },
    {
      "cell_type": "markdown",
      "metadata": {
        "id": "L88LySiVG9zN"
      },
      "source": [
        "```<Describe what you did here>```"
      ]
    },
    {
      "cell_type": "markdown",
      "metadata": {
        "id": "7LpAJc4rG9zN"
      },
      "source": [
        "# Homework part II\n",
        "\n",
        "### Deep crossentropy method\n",
        "\n",
        "By this moment, you should have got enough score on [CartPole-v0](https://gymnasium.farama.org/environments/classic_control/cart_pole/) to consider it solved (see the link). It's time to try something harder.\n",
        "\n",
        "* if you have any trouble with CartPole-v0 and feel stuck, feel free to ask us or your peers for help.\n",
        "\n",
        "### Tasks\n",
        "\n",
        "* __2.1__ (3 pts) Pick one of environments: `MountainCar-v0` or `LunarLander-v2`.\n",
        "  * For MountainCar, get average reward of __at least -150__\n",
        "  * For LunarLander, get average reward of __at least +50__\n",
        "\n",
        "See the tips section below, it's kinda important.\n",
        "__Note:__ If your agent is below the target score, you'll still get some of the points depending on the result, so don't be afraid to submit it.\n",
        "  \n",
        "  \n",
        "* __2.2__ (up to 6 pts) Devise a way to speed up training against the default version\n",
        "  * Obvious improvement: use [`joblib`](https://joblib.readthedocs.io/en/latest/). However, note that you will probably need to spawn a new environment in each of the workers instead of passing it via pickling. (2 pts)\n",
        "  * Try re-using samples from 3-5 last iterations when computing threshold and training. (2 pts)\n",
        "  * Obtain __-100__ at `MountainCar-v0` or __+200__ at `LunarLander-v2` (2 pts). Feel free to experiment with hyperparameters, architectures, schedules etc.\n",
        "  \n",
        "__Please list what you did in Anytask submission form__. This reduces probability that somebody misses something.\n",
        "  \n",
        "  \n",
        "### Tips\n",
        "* Gymnasium pages: [MountainCar](https://gymnasium.farama.org/environments/classic_control/mountain_car/), [LunarLander](https://gymnasium.farama.org/environments/box2d/lunar_lander/)\n",
        "* Sessions for MountainCar may last for 10k+ ticks. Make sure ```t_max``` param is at least 10k.\n",
        " * Also it may be a good idea to cut rewards via \">\" and not \">=\". If 90% of your sessions get reward of -10k and 10% are better, than if you use percentile 20% as threshold, R >= threshold __fails to cut off bad sessions__ while R > threshold works alright.\n",
        "* _issue with gym_: Some versions of gym limit game time by 200 ticks. This will prevent cem training in most cases. Make sure your agent is able to play for the specified __t_max__, and if it isn't, try `env = gym.make(\"MountainCar-v0\").env` or otherwise get rid of TimeLimit wrapper.\n",
        "* If you use old _swig_ lib for LunarLander-v2, you may get an error. See this [issue](https://github.com/openai/gym/issues/100) for solution.\n",
        "* If it doesn't train, it's a good idea to plot reward distribution and record sessions: they may give you some clue. If they don't, call course staff :)\n",
        "* 20-neuron network is probably not enough, feel free to experiment.\n",
        "\n",
        "You may find the following snippet useful:"
      ]
    },
    {
      "cell_type": "code",
      "execution_count": null,
      "metadata": {
        "id": "qcjz-nm_G9zN"
      },
      "outputs": [],
      "source": [
        "def visualize_mountain_car(env, agent):\n",
        "    # Compute policy for all possible x and v (with discretization)\n",
        "    xs = np.linspace(env.min_position, env.max_position, 100)\n",
        "    vs = np.linspace(-env.max_speed, env.max_speed, 100)\n",
        "\n",
        "    grid = np.dstack(np.meshgrid(xs, vs[::-1])).transpose(1, 0, 2)\n",
        "    grid_flat = grid.reshape(len(xs) * len(vs), 2)\n",
        "    probs = (\n",
        "        agent.predict_proba(grid_flat).reshape(len(xs), len(vs), 3).transpose(1, 0, 2)\n",
        "    )\n",
        "\n",
        "    # # The above code is equivalent to the following:\n",
        "    # probs = np.empty((len(vs), len(xs), 3))\n",
        "    # for i, v in enumerate(vs[::-1]):\n",
        "    #     for j, x in enumerate(xs):\n",
        "    #         probs[i, j, :] = agent.predict_proba([[x, v]])[0]\n",
        "\n",
        "    # Draw policy\n",
        "    f, ax = plt.subplots(figsize=(7, 7))\n",
        "    ax.imshow(\n",
        "        probs,\n",
        "        extent=(env.min_position, env.max_position, -env.max_speed, env.max_speed),\n",
        "        aspect=\"auto\",\n",
        "    )\n",
        "    ax.set_title(\"Learned policy: red=left, green=nothing, blue=right\")\n",
        "    ax.set_xlabel(\"position (x)\")\n",
        "    ax.set_ylabel(\"velocity (v)\")\n",
        "\n",
        "    # Sample a trajectory and draw it\n",
        "    states, actions, _ = generate_session(env, agent)\n",
        "    states = np.array(states)\n",
        "    ax.plot(states[:, 0], states[:, 1], color=\"white\")\n",
        "\n",
        "    # Draw every 3rd action from the trajectory\n",
        "    for (x, v), a in zip(states[::3], actions[::3]):\n",
        "        if a == 0:\n",
        "            plt.arrow(x, v, -0.1, 0, color=\"white\", head_length=0.02)\n",
        "        elif a == 2:\n",
        "            plt.arrow(x, v, 0.1, 0, color=\"white\", head_length=0.02)\n",
        "\n",
        "\n",
        "with gym.make(\"MountainCar-v0\", render_mode=\"rgb_arrary\").env as env:\n",
        "    visualize_mountain_car(env, agent)\n"
      ]
    },
    {
      "cell_type": "markdown",
      "metadata": {
        "id": "Dzk41lDPG9zO"
      },
      "source": [
        "### Bonus tasks\n",
        "\n",
        "* __2.3 bonus__ (2 pts) Try to find a network architecture and training params that solve __both__ environments above (_Points depend on implementation. If you attempted this task, please mention it in Anytask submission._)\n",
        "\n",
        "* __2.4 bonus__ (4 pts) Solve continuous action space task with `MLPRegressor` or similar.\n",
        "  * Since your agent only predicts the \"expected\" action, you will have to add noise to ensure exploration.\n",
        "  * Choose one of [MountainCarContinuous-v0](https://gymnasium.farama.org/environments/classic_control/mountain_car_continuous/) (90+ pts to solve), [LunarLanderContinuous-v2](https://gymnasium.farama.org/environments/box2d/lunar_lander/) (`env = gym.make(\"LunarLander-v2\", continuous=True)`)(200+ pts to solve)\n",
        "  * 4 points for solving. Slightly less for getting some results below solution threshold. Note that discrete and continuous environments may have slightly different rules, aside from action spaces."
      ]
    }
  ],
  "metadata": {
    "colab": {
      "provenance": []
    },
    "kernelspec": {
      "display_name": "Python 3",
      "language": "python",
      "name": "python3"
    },
    "language_info": {
      "codemirror_mode": {
        "name": "ipython",
        "version": 3
      },
      "file_extension": ".py",
      "mimetype": "text/x-python",
      "name": "python",
      "nbconvert_exporter": "python",
      "pygments_lexer": "ipython3",
      "version": "3.13.5"
    }
  },
  "nbformat": 4,
  "nbformat_minor": 0
}